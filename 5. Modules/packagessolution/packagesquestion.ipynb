{
 "cells": [
  {
   "cell_type": "markdown",
   "metadata": {},
   "source": [
    "# Module 5: Modules and Packages Assignments\n",
    "## Lesson 5.1: Importing Modules\n",
    "### Assignment 1: Importing and Using Modules\n",
    "\n",
    "Import the `math` module and use it to calculate the square root of 25 and the sine of 90 degrees.\n",
    "\n",
    "### Assignment 2: Aliasing Modules\n",
    "\n",
    "Import the `datetime` module with an alias and use it to print the current date and time.\n",
    "\n",
    "### Assignment 3: Importing Specific Functions\n",
    "\n",
    "Import the `randint` function from the `random` module and use it to generate a random integer between 1 and 100.\n",
    "\n",
    "### Assignment 4: Importing Multiple Functions\n",
    "\n",
    "Import the `sqrt` and `pow` functions from the `math` module and use them to calculate the square root of 16 and 2 raised to the power of 3.\n",
    "\n",
    "### Assignment 5: Handling Import Errors\n",
    "\n",
    "Write code that attempts to import a non-existent module and gracefully handles the import error by printing an error message.\n",
    "\n",
    "## Lesson 5.2: Standard Library Overview\n",
    "### Assignment 6: Working with the `os` Module\n",
    "\n",
    "Use the `os` module to create a new directory, list the contents of the current directory, and remove the newly created directory.\n",
    "\n",
    "### Assignment 7: Working with the `sys` Module\n",
    "\n",
    "Use the `sys` module to print the Python version currently in use and the command-line arguments passed to the script.\n",
    "\n",
    "### Assignment 8: Working with the `math` Module\n",
    "\n",
    "Use the `math` module to calculate the greatest common divisor (GCD) of two numbers and the factorial of a number.\n",
    "\n",
    "### Assignment 9: Working with the `datetime` Module\n",
    "\n",
    "Use the `datetime` module to print the current date, calculate the date 100 days from today, and determine the day of the week for a given date.\n",
    "\n",
    "### Assignment 10: Working with the `random` Module\n",
    "\n",
    "Use the `random` module to generate a list of 5 random numbers between 1 and 50 and shuffle the elements of a list.\n",
    "\n",
    "## Lesson 5.3: Creating and Using Packages\n",
    "### Assignment 11: Creating a Simple Package\n",
    "\n",
    "Create a package named `mypackage` with two modules: `module1` and `module2`. `module1` should contain a function that adds two numbers, and `module2` should contain a function that multiplies two numbers. Write code to use these functions.\n",
    "\n",
    "### Assignment 12: Using `__init__.py`\n",
    "\n",
    "Modify the `mypackage` package to include an `__init__.py` file that imports the functions from `module1` and `module2`. Write code to use these functions.\n",
    "\n",
    "### Assignment 13: Importing from a Package\n",
    "\n",
    "Write code to import and use the functions from `mypackage` without explicitly importing `module1` and `module2`.\n",
    "\n",
    "### Assignment 14: Relative Imports\n",
    "\n",
    "Create a subpackage named `subpackage` within `mypackage` and move `module2` into `subpackage`. Modify the import statements in `__init__.py` to use relative imports. Write code to use the functions from both modules.\n",
    "\n",
    "### Assignment 15: Handling Package Import Errors\n",
    "\n",
    "Write code that attempts to import a non-existent function from `mypackage` and gracefully handles the import error by printing an error message."
   ]
  },
  {
   "cell_type": "markdown",
   "id": "680dda19",
   "metadata": {},
   "source": [
    "### Assignment 1: Importing and Using Modules\n",
    "\n",
    "Import the `math` module and use it to calculate the square root of 25 and the sine of 90 degrees."
   ]
  },
  {
   "cell_type": "code",
   "execution_count": 2,
   "metadata": {},
   "outputs": [
    {
     "name": "stdout",
     "output_type": "stream",
     "text": [
      "5.0\n",
      "1.0\n"
     ]
    }
   ],
   "source": [
    "import math\n",
    "print(math.sqrt(25))\n",
    "print(math.sin(math.radians(90)))"
   ]
  },
  {
   "cell_type": "markdown",
   "id": "d8afae7a",
   "metadata": {},
   "source": [
    "### Assignment 2: Aliasing Modules\n",
    "\n",
    "Import the `datetime` module with an alias and use it to print the current date and time."
   ]
  },
  {
   "cell_type": "code",
   "execution_count": 12,
   "id": "4e16860c",
   "metadata": {},
   "outputs": [
    {
     "name": "stdout",
     "output_type": "stream",
     "text": [
      "2024-12-26 12:01:04.086506\n",
      "2024-12-26\n",
      "00:00:00\n"
     ]
    }
   ],
   "source": [
    "import datetime as dt\n",
    "\n",
    "print(dt.datetime.now())"
   ]
  },
  {
   "cell_type": "markdown",
   "id": "07baf044",
   "metadata": {},
   "source": [
    "### Assignment 3: Importing Specific Functions\n",
    "\n",
    "Import the `randint` function from the `random` module and use it to generate a random integer between 1 and 100."
   ]
  },
  {
   "cell_type": "code",
   "execution_count": 14,
   "metadata": {},
   "outputs": [
    {
     "name": "stdout",
     "output_type": "stream",
     "text": [
      "6\n"
     ]
    }
   ],
   "source": [
    "import random \n",
    "\n",
    "print(random.randint(1,100))"
   ]
  },
  {
   "cell_type": "markdown",
   "id": "3a725583",
   "metadata": {},
   "source": [
    "### Assignment 4: Importing Multiple Functions\n",
    "\n",
    "Import the `sqrt` and `pow` functions from the `math` module and use them to calculate the square root of 16 and 2 raised to the power of 3."
   ]
  },
  {
   "cell_type": "code",
   "execution_count": 15,
   "id": "75f331cd",
   "metadata": {},
   "outputs": [
    {
     "name": "stdout",
     "output_type": "stream",
     "text": [
      "4.0\n",
      "8.0\n"
     ]
    }
   ],
   "source": [
    "import math \n",
    "print(math.sqrt(16))\n",
    "print(math.pow(2,3))"
   ]
  },
  {
   "cell_type": "markdown",
   "id": "0f943835",
   "metadata": {},
   "source": [
    "### Assignment 5: Handling Import Errors\n",
    "\n",
    "Write code that attempts to import a non-existent module and gracefully handles the import error by printing an error message."
   ]
  },
  {
   "cell_type": "code",
   "execution_count": 16,
   "id": "9bc8154b",
   "metadata": {},
   "outputs": [
    {
     "name": "stdout",
     "output_type": "stream",
     "text": [
      "Error: \t No module named 'packageo'\n"
     ]
    }
   ],
   "source": [
    "try:\n",
    "    import packageo\n",
    "except ImportError as e:\n",
    "    print(f'Error: \\t {e}')    "
   ]
  },
  {
   "cell_type": "markdown",
   "id": "0395fd68",
   "metadata": {},
   "source": [
    "### Assignment 6: Working with the `os` Module\n",
    "\n",
    "Use the `os` module to create a new directory, list the contents of the current directory, and remove the newly created directory."
   ]
  },
  {
   "cell_type": "code",
   "execution_count": 21,
   "id": "abd1e779",
   "metadata": {},
   "outputs": [
    {
     "name": "stdout",
     "output_type": "stream",
     "text": [
      "['packagesquestion.ipynb', 'packagessolution.ipynb', 'Hello']\n"
     ]
    }
   ],
   "source": [
    "import os \n",
    "print(os.listdir(os.getcwd()))\n",
    "#os.mkdir('Hello')\n",
    "os.rmdir('Hello')"
   ]
  },
  {
   "cell_type": "code",
   "execution_count": 22,
   "id": "5f18ebe9",
   "metadata": {},
   "outputs": [
    {
     "name": "stdout",
     "output_type": "stream",
     "text": [
      "['packagesquestion.ipynb', 'packagessolution.ipynb']\n"
     ]
    }
   ],
   "source": [
    "print(os.listdir(os.getcwd()))"
   ]
  },
  {
   "cell_type": "markdown",
   "id": "b0739d06",
   "metadata": {},
   "source": [
    "### Assignment 7: Working with the `sys` Module\n",
    "\n",
    "Use the `sys` module to print the Python version currently in use and the command-line arguments passed to the script."
   ]
  },
  {
   "cell_type": "code",
   "execution_count": 25,
   "id": "f1edcbcd",
   "metadata": {},
   "outputs": [
    {
     "name": "stdout",
     "output_type": "stream",
     "text": [
      "Python version: 3.8.10 (v3.8.10:3d8993a744, May  3 2021, 09:09:08) \n",
      "[Clang 12.0.5 (clang-1205.0.22.9)]\n",
      "Command-line arguments: ['/Users/pushpakgadhe/TY AIML/SKILLUP/ML UDEMY/venv/lib/python3.8/site-packages/ipykernel_launcher.py', '--ip=127.0.0.1', '--stdin=9167', '--control=9165', '--hb=9164', '--Session.signature_scheme=\"hmac-sha256\"', '--Session.key=b\"f93ef58d-2c23-4142-a306-93bc6dd7a025\"', '--shell=9166', '--transport=\"tcp\"', '--iopub=9168', '--f=/Users/pushpakgadhe/Library/Jupyter/runtime/kernel-v2-1363soznQc3rWb90.json']\n"
     ]
    }
   ],
   "source": [
    "import sys\n",
    "\n",
    "print(f\"Python version: {sys.version}\")\n",
    "print(f\"Command-line arguments: {sys.argv}\")"
   ]
  },
  {
   "cell_type": "markdown",
   "id": "5a4afe78",
   "metadata": {},
   "source": [
    "### Assignment 8: Working with the `math` Module\n",
    "\n",
    "Use the `math` module to calculate the greatest common divisor (GCD) of two numbers and the factorial of a number."
   ]
  },
  {
   "cell_type": "code",
   "execution_count": 26,
   "id": "ef753df2",
   "metadata": {},
   "outputs": [
    {
     "name": "stdout",
     "output_type": "stream",
     "text": [
      "10\n",
      "120\n"
     ]
    }
   ],
   "source": [
    "import math\n",
    "\n",
    "print(math.gcd(20,50))\n",
    "print(math.factorial(5))\n"
   ]
  },
  {
   "cell_type": "markdown",
   "id": "0108c237",
   "metadata": {},
   "source": [
    "### Assignment 9: Working with the `datetime` Module\n",
    "\n",
    "Use the `datetime` module to print the current date, calculate the date 100 days from today, and determine the day of the week for a given date."
   ]
  },
  {
   "cell_type": "code",
   "execution_count": 32,
   "id": "b006825a",
   "metadata": {},
   "outputs": [
    {
     "name": "stdout",
     "output_type": "stream",
     "text": [
      "2024-12-26\n",
      "Thu\n",
      "2025-04-05\n",
      "Sat\n"
     ]
    }
   ],
   "source": [
    "import datetime as dt \n",
    "\n",
    "print(dt.date.today())\n",
    "print(dt.date.today().strftime('%a'))\n",
    "print(dt.date.today() + dt.timedelta(days=100))\n",
    "print((dt.date.today() + dt.timedelta(days=100)).strftime('%a'))"
   ]
  },
  {
   "cell_type": "markdown",
   "id": "4e8e871d",
   "metadata": {},
   "source": [
    "### Assignment 10: Working with the `random` Module\n",
    "\n",
    "Use the `random` module to generate a list of 5 random numbers between 1 and 50 and shuffle the elements of a list."
   ]
  },
  {
   "cell_type": "code",
   "execution_count": 39,
   "id": "8673652b",
   "metadata": {},
   "outputs": [
    {
     "name": "stdout",
     "output_type": "stream",
     "text": [
      "[2, 35, 39, 36, 4]\n",
      "[4, 2, 36, 35, 39]\n"
     ]
    }
   ],
   "source": [
    "import random \n",
    "\n",
    "i=random.randint(1,50)\n",
    "lst = [random.randint(1,50) for i in range(5)]\n",
    "print(lst)\n",
    "\n",
    "random.shuffle(lst)\n",
    "print(lst)"
   ]
  },
  {
   "cell_type": "markdown",
   "id": "55987a1b",
   "metadata": {},
   "source": [
    "### Assignment 11: Creating a Simple Package\n",
    "\n",
    "Create a package named `mypackage` with two modules: `module1` and `module2`. `module1` should contain a function that adds two numbers, and `module2` should contain a function that multiplies two numbers. Write code to use these functions."
   ]
  },
  {
   "cell_type": "code",
   "execution_count": 44,
   "id": "18236b17",
   "metadata": {},
   "outputs": [
    {
     "name": "stdout",
     "output_type": "stream",
     "text": [
      "6\n",
      "6\n"
     ]
    }
   ],
   "source": [
    "from mypkg import module11\n",
    "from mypkg import module2\n",
    "\n",
    "print(module11.add(2,4))\n",
    "print(module2.multi(2,3))"
   ]
  },
  {
   "cell_type": "markdown",
   "id": "dbe12d26",
   "metadata": {},
   "source": [
    "### Assignment 12: Using `__init__.py`\n",
    "\n",
    "Modify the `mypackage` package to include an `__init__.py` file that imports the functions from `module1` and `module2`. Write code to use these functions."
   ]
  },
  {
   "cell_type": "code",
   "execution_count": 55,
   "id": "45a85133",
   "metadata": {},
   "outputs": [
    {
     "name": "stdout",
     "output_type": "stream",
     "text": [
      "/Users/pushpakgadhe/TY AIML/SKILLUP/ML UDEMY/Python/Python Basics/5. Modules/packagessolution\n"
     ]
    }
   ],
   "source": [
    "import os \n",
    "print(os.getcwd())"
   ]
  },
  {
   "cell_type": "code",
   "execution_count": null,
   "id": "db65c3cd",
   "metadata": {},
   "outputs": [],
   "source": [
    "from mypkg import add, multi\n",
    "\n",
    "print(add(1,2))\n",
    "print(multi(2,4))"
   ]
  },
  {
   "cell_type": "markdown",
   "id": "b30a86c9",
   "metadata": {},
   "source": [
    "### Assignment 13: Importing from a Package\n",
    "\n",
    "Write code to import and use the functions from `mypackage` without explicitly importing `module1` and `module2`."
   ]
  },
  {
   "cell_type": "code",
   "execution_count": null,
   "id": "05950f25",
   "metadata": {},
   "outputs": [],
   "source": [
    "from mypkg import add, multi\n",
    "\n",
    "print(add(1,2))\n",
    "print(multi(2,4))"
   ]
  },
  {
   "cell_type": "markdown",
   "id": "25026b02",
   "metadata": {},
   "source": [
    "### Assignment 14: Relative Imports\n",
    "\n",
    "Create a subpackage named `subpackage` within `mypackage` and move `module2` into `subpackage`. Modify the import statements in `__init__.py` to use relative imports. Write code to use the functions from both modules."
   ]
  },
  {
   "cell_type": "code",
   "execution_count": 58,
   "id": "8230eee3",
   "metadata": {},
   "outputs": [
    {
     "ename": "ImportError",
     "evalue": "cannot import name 'add' from 'mypkg' (unknown location)",
     "output_type": "error",
     "traceback": [
      "\u001b[0;31m---------------------------------------------------------------------------\u001b[0m",
      "\u001b[0;31mImportError\u001b[0m                               Traceback (most recent call last)",
      "Cell \u001b[0;32mIn[58], line 1\u001b[0m\n\u001b[0;32m----> 1\u001b[0m \u001b[39mfrom\u001b[39;00m \u001b[39mmypkg\u001b[39;00m \u001b[39mimport\u001b[39;00m add, multi\n\u001b[1;32m      3\u001b[0m \u001b[39mprint\u001b[39m(add(\u001b[39m1\u001b[39m,\u001b[39m2\u001b[39m))\n\u001b[1;32m      4\u001b[0m \u001b[39mprint\u001b[39m(multi(\u001b[39m2\u001b[39m,\u001b[39m4\u001b[39m))\n",
      "\u001b[0;31mImportError\u001b[0m: cannot import name 'add' from 'mypkg' (unknown location)"
     ]
    }
   ],
   "source": [
    "# test.py, __init__.py files"
   ]
  },
  {
   "cell_type": "markdown",
   "id": "0af3647a",
   "metadata": {},
   "source": [
    "### Assignment 15: Handling Package Import Errors\n",
    "\n",
    "Write code that attempts to import a non-existent function from `mypackage` and gracefully handles the import error by printing an error message."
   ]
  },
  {
   "cell_type": "code",
   "execution_count": 59,
   "id": "ba244c8f",
   "metadata": {},
   "outputs": [
    {
     "name": "stdout",
     "output_type": "stream",
     "text": [
      "cannot import name 'nonexistingmodule' from 'mypkg' (unknown location)\n"
     ]
    }
   ],
   "source": [
    "try:\n",
    "    from mypkg import nonexistingmodule\n",
    "except ImportError as e:\n",
    "    print(f'{e}')"
   ]
  },
  {
   "cell_type": "code",
   "execution_count": null,
   "id": "5d6452b9",
   "metadata": {},
   "outputs": [],
   "source": []
  }
 ],
 "metadata": {
  "kernelspec": {
   "display_name": "Python 3",
   "language": "python",
   "name": "python3"
  },
  "language_info": {
   "codemirror_mode": {
    "name": "ipython",
    "version": 3
   },
   "file_extension": ".py",
   "mimetype": "text/x-python",
   "name": "python",
   "nbconvert_exporter": "python",
   "pygments_lexer": "ipython3",
   "version": "3.8.10"
  }
 },
 "nbformat": 4,
 "nbformat_minor": 5
}
