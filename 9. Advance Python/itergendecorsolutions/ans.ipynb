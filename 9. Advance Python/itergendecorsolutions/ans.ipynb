{
 "cells": [
  {
   "cell_type": "markdown",
   "id": "81472fd5",
   "metadata": {},
   "source": [
    "### Assignment 1: Custom Iterator\n",
    "\n",
    "Create a custom iterator class named `Countdown` that takes a number and counts down to zero. Implement the `__iter__` and `__next__` methods. Test the iterator by using it in a for loop."
   ]
  },
  {
   "cell_type": "code",
   "execution_count": 4,
   "id": "94217007",
   "metadata": {},
   "outputs": [
    {
     "name": "stdout",
     "output_type": "stream",
     "text": [
      "5\n",
      "4\n",
      "3\n",
      "2\n",
      "1\n",
      "0\n"
     ]
    }
   ],
   "source": [
    "import time\n",
    "class Countdown:\n",
    "    def __init__(self, n):\n",
    "        self.n = n\n",
    "        \n",
    "    def __iter__(self):\n",
    "        return self\n",
    "    \n",
    "    def __next__(self):\n",
    "        if self.n<0:\n",
    "            raise StopIteration\n",
    "        current = self.n\n",
    "        self.n -= 1\n",
    "        return current\n",
    "    \n",
    "for i in Countdown(5):\n",
    "    time.sleep(1)\n",
    "    print(i)"
   ]
  },
  {
   "cell_type": "markdown",
   "id": "db0283d8",
   "metadata": {},
   "source": [
    "### Assignment 2: Custom Iterable Class\n",
    "\n",
    "Create a class named `MyRange` that mimics the behavior of the built-in `range` function. Implement the `__iter__` and `__next__` methods. Test the class by using it in a for loop."
   ]
  },
  {
   "cell_type": "markdown",
   "id": "686118ce",
   "metadata": {},
   "source": [
    "\t1. for calls iter() on the object: iter(MyRange(5,10))\n",
    "\t2.\tYour class defines __iter__(), which returns self\n",
    "\t3.\tThen for keeps calling __next__() until StopIteration is raised\n",
    "\t4.\tThe values returned from __next__() are assigned to i and printed\n"
   ]
  },
  {
   "cell_type": "code",
   "execution_count": null,
   "id": "4f24151c",
   "metadata": {},
   "outputs": [
    {
     "name": "stdout",
     "output_type": "stream",
     "text": [
      "5\n",
      "6\n",
      "7\n",
      "8\n",
      "9\n"
     ]
    }
   ],
   "source": [
    "class MyRange:\n",
    "    def __init__(self, start, n):\n",
    "        self.n = n\n",
    "        self.current = start\n",
    "        \n",
    "    def __iter__(self):\n",
    "        return self\n",
    "    \n",
    "    def __next__(self):\n",
    "        if self.current >= self.n:\n",
    "            raise StopIteration\n",
    "        else:\n",
    "            self.current += 1\n",
    "            return self.current - 1\n",
    "    \n",
    "for i in MyRange(5,10):\n",
    "    print(i)"
   ]
  },
  {
   "cell_type": "markdown",
   "id": "bc606305",
   "metadata": {},
   "source": [
    "### Assignment 3: Generator Function\n",
    "\n",
    "Write a generator function named `fibonacci` that yields the Fibonacci sequence. Test the generator by iterating over it and printing the first 10 Fibonacci numbers."
   ]
  },
  {
   "cell_type": "code",
   "execution_count": 21,
   "id": "f0a5c182",
   "metadata": {},
   "outputs": [
    {
     "name": "stdout",
     "output_type": "stream",
     "text": [
      "0\n",
      "1\n",
      "1\n",
      "2\n",
      "3\n"
     ]
    }
   ],
   "source": [
    "def fibo(n):\n",
    "    if n == 0:\n",
    "        return 0\n",
    "    if n == 1:\n",
    "        return 1\n",
    "    if n==2:\n",
    "        return 1\n",
    "    else:\n",
    "        return fibo(n-2) + fibo(n-1)\n",
    "    \n",
    "inp = int(input('Input : '))\n",
    "def get_fibo(inp):\n",
    "    for i in range(inp):\n",
    "        yield fibo(i)\n",
    "        \n",
    "for i in get_fibo(inp):\n",
    "    print(i)"
   ]
  },
  {
   "cell_type": "code",
   "execution_count": 22,
   "id": "16dddf72",
   "metadata": {},
   "outputs": [],
   "source": [
    "def fibonacci(n):\n",
    "    a, b = 0, 1\n",
    "    for _ in range(n):\n",
    "        yield a\n",
    "        a, b = b, a + b\n",
    "\n",
    "# Test\n",
    "# for num in fibonacci(10):\n",
    "#     print(num)"
   ]
  },
  {
   "cell_type": "markdown",
   "id": "f519540f",
   "metadata": {},
   "source": [
    "### Assignment 4: Generator Expression\n",
    "\n",
    "Create a generator expression that generates the squares of numbers from 1 to 10. Iterate over the generator and print each value."
   ]
  },
  {
   "cell_type": "code",
   "execution_count": 23,
   "id": "7db9a50c",
   "metadata": {},
   "outputs": [
    {
     "name": "stdout",
     "output_type": "stream",
     "text": [
      "0\n",
      "1\n",
      "4\n",
      "9\n",
      "16\n"
     ]
    }
   ],
   "source": [
    "def square(x):\n",
    "    for i in range(x):\n",
    "        yield i**2\n",
    "     \n",
    "inp = int(input(\"Enter Num : \"))\n",
    "x = square(inp)\n",
    "for a in iter(x):\n",
    "    print(a)"
   ]
  },
  {
   "cell_type": "markdown",
   "id": "8c5e7d15",
   "metadata": {},
   "source": [
    "There is no such thing as tuple comprehension in Python"
   ]
  },
  {
   "cell_type": "markdown",
   "id": "0f49a2ff",
   "metadata": {},
   "source": [
    "Syntax\n",
    "What it creates\n",
    "[i**2 for i in range(5)]\n",
    "List comprehension → returns a list\n",
    "{i**2 for i in range(5)}\n",
    "Set comprehension → returns a set\n",
    "{i: i**2 for i in range(5)}\n",
    "Dict comprehension → returns a dict\n",
    "(i**2 for i in range(5))\n",
    "Generator expression → returns a generator\n"
   ]
  },
  {
   "cell_type": "code",
   "execution_count": null,
   "id": "02127fe3",
   "metadata": {},
   "outputs": [
    {
     "name": "stdout",
     "output_type": "stream",
     "text": [
      "0\n",
      "1\n",
      "4\n",
      "9\n",
      "16\n"
     ]
    }
   ],
   "source": [
    "inp = int(input())\n",
    "square = (i**2 for i in range(inp)) # generator expression\n",
    "for p in square: \n",
    "    print(p)"
   ]
  },
  {
   "cell_type": "markdown",
   "id": "2372e1fc",
   "metadata": {},
   "source": [
    "### Assignment 5: Chaining Generators\n",
    "\n",
    "Write two generator functions: `even_numbers` that yields even numbers up to a limit, and `squares` that yields the square of each number from another generator. Chain these generators to produce the squares of even numbers up to 20."
   ]
  },
  {
   "cell_type": "code",
   "execution_count": 28,
   "id": "b367b3e9",
   "metadata": {},
   "outputs": [
    {
     "name": "stdout",
     "output_type": "stream",
     "text": [
      "4\n",
      "16\n"
     ]
    }
   ],
   "source": [
    "def even_numbers(x):\n",
    "    for i in range(1,x+1):\n",
    "        if i%2==0:\n",
    "            yield i\n",
    "            \n",
    "def square(func,it):\n",
    "    x = func(it)\n",
    "    for i in x:\n",
    "        yield i**2\n",
    "\n",
    "inp = int(input())        \n",
    "s = square(even_numbers,inp)\n",
    "for k in s:\n",
    "    print(k)\n",
    "\n"
   ]
  },
  {
   "cell_type": "code",
   "execution_count": 30,
   "id": "d3304b91",
   "metadata": {},
   "outputs": [
    {
     "name": "stdout",
     "output_type": "stream",
     "text": [
      "4\n",
      "16\n"
     ]
    }
   ],
   "source": [
    "def even_numbers(x):\n",
    "    for i in range(1,x+1):\n",
    "        if i%2==0:\n",
    "            yield i\n",
    "\n",
    "def square(geno):\n",
    "    for i in geno:\n",
    "        yield i**2\n",
    "\n",
    "inp = int(input())\n",
    "even = even_numbers(inp)\n",
    "s = square(even)\n",
    "for i in s:\n",
    "    print(i)\n"
   ]
  },
  {
   "cell_type": "markdown",
   "id": "9e028121",
   "metadata": {},
   "source": [
    "### Assignment 6: Simple Decorator\n",
    "\n",
    "Write a decorator named `time_it` that measures the execution time of a function. Apply this decorator to a function that calculates the factorial of a number."
   ]
  },
  {
   "cell_type": "code",
   "execution_count": 38,
   "id": "5b1be1e6",
   "metadata": {},
   "outputs": [
    {
     "name": "stdout",
     "output_type": "stream",
     "text": [
      "Total Time taken : 0.0 sec\n",
      "Total Time taken : 0.00031685829162597656 sec\n",
      "Total Time taken : 0.000324249267578125 sec\n",
      "Total Time taken : 0.00032711029052734375 sec\n",
      "Total Time taken : 0.00032901763916015625 sec\n",
      "Total Time taken : 0.00033092498779296875 sec\n",
      "Total Time taken : 0.00033402442932128906 sec\n",
      "Total Time taken : 0.00033593177795410156 sec\n",
      "Total Time taken : 0.0003380775451660156 sec\n"
     ]
    },
    {
     "data": {
      "text/plain": [
       "3628800"
      ]
     },
     "execution_count": 38,
     "metadata": {},
     "output_type": "execute_result"
    }
   ],
   "source": [
    "import time\n",
    "def time_it(func):\n",
    "    def wrapper(*args, **kwargs):\n",
    "        start_time = time.time()\n",
    "        k = func(*args, **kwargs)\n",
    "        end_time = time.time()\n",
    "        print(f'Total Time taken : {end_time-start_time} sec')\n",
    "        return k\n",
    "    return wrapper\n",
    "\n",
    "@time_it\n",
    "def fact(x):\n",
    "    if x == 0:\n",
    "        return 0\n",
    "    if x == 1:\n",
    "        return 1\n",
    "    if x == 2:\n",
    "        return 2\n",
    "    else:\n",
    "        return x * fact(x-1)\n",
    "        \n",
    "fact(10)"
   ]
  },
  {
   "cell_type": "markdown",
   "id": "23f32fbe",
   "metadata": {},
   "source": [
    "### Assignment 7: Decorator with Arguments\n",
    "\n",
    "Write a decorator named `repeat` that takes an argument `n` and repeats the execution of the decorated function `n` times. Apply this decorator to a function that prints a message."
   ]
  },
  {
   "cell_type": "code",
   "execution_count": 44,
   "id": "d1fd92fd",
   "metadata": {},
   "outputs": [
    {
     "name": "stdout",
     "output_type": "stream",
     "text": [
      "Hello\n",
      "Hello\n",
      "Hello\n",
      "Hello\n"
     ]
    }
   ],
   "source": [
    "def repeat(n):\n",
    "    def dec(func):\n",
    "        def wrapper(*args, **kwargs):\n",
    "            for _ in range(1,n):\n",
    "                func(*args, **kwargs)\n",
    "        return wrapper\n",
    "    return dec\n",
    "\n",
    "@repeat(5)\n",
    "def greet():\n",
    "    print('Hello')\n",
    "\n",
    "greet()"
   ]
  },
  {
   "cell_type": "markdown",
   "id": "762739ac",
   "metadata": {},
   "source": [
    "### Assignment 8: Nested Decorators\n",
    "\n",
    "Write two decorators: `uppercase` that converts the result of a function to uppercase, and `exclaim` that adds an exclamation mark to the result of a function. Apply both decorators to a function that returns a greeting message."
   ]
  },
  {
   "cell_type": "code",
   "execution_count": 49,
   "id": "732459e1",
   "metadata": {},
   "outputs": [
    {
     "name": "stdout",
     "output_type": "stream",
     "text": [
      "PUSHPAK!\n",
      "maharashtra, india\n"
     ]
    }
   ],
   "source": [
    "def uppercase(func):\n",
    "    def wrapper(*args, **kwargs):\n",
    "        s = func(*args, **kwargs)\n",
    "        return s.upper()\n",
    "    return wrapper\n",
    "\n",
    "def lowercase(func):\n",
    "    def wrapper(*args, **kwargs):\n",
    "        s = func(*args, **kwargs)\n",
    "        return s.lower()\n",
    "    return wrapper\n",
    "\n",
    "def exclaim(func):\n",
    "    def wrapper(*args, **kwargs):\n",
    "        s = func(*args, **kwargs)\n",
    "        return str(s) + '!'\n",
    "    return wrapper\n",
    "\n",
    "@uppercase\n",
    "@exclaim\n",
    "def Name():\n",
    "    return 'pushpak'\n",
    "\n",
    "print(Name())\n",
    "\n",
    "@lowercase\n",
    "def address():\n",
    "    return 'Maharashtra, INDIA'\n",
    "\n",
    "print(address())"
   ]
  },
  {
   "cell_type": "markdown",
   "id": "37d45b16",
   "metadata": {},
   "source": [
    "### Assignment 9: Class Decorator\n",
    "\n",
    "Create a class decorator named `singleton` that ensures a class has only one instance. Apply this decorator to a class named `DatabaseConnection` and test it."
   ]
  },
  {
   "cell_type": "code",
   "execution_count": null,
   "id": "322af19c",
   "metadata": {},
   "outputs": [
    {
     "name": "stdout",
     "output_type": "stream",
     "text": [
      "Database Connected Successfully !\n",
      "True\n",
      "4704080976 4704080976\n"
     ]
    }
   ],
   "source": [
    "def singleton(cls):\n",
    "    inst = {}\n",
    "    def get_inst(*args, **kwargs):\n",
    "        if cls not in inst:\n",
    "            inst[cls] = cls(*args, **kwargs)\n",
    "        return inst[cls]\n",
    "    return get_inst\n",
    "\n",
    "@singleton\n",
    "class DatabaseConnection:\n",
    "    def __init__(self):\n",
    "        print('Database Connected Successfully !')\n",
    "        self.Connectionid = id(self)\n",
    "        \n",
    "db1 = DatabaseConnection()\n",
    "db2 = DatabaseConnection()\n",
    "print(db1 is db2)\n",
    "print(db1.Connectionid, db2.Connectionid) # same instance is returned at the time of duplicate"
   ]
  },
  {
   "cell_type": "markdown",
   "id": "ecd50e32",
   "metadata": {},
   "source": [
    "### Assignment 10: Iterator Protocol with Decorators\n",
    "\n",
    "Create a custom iterator class named `ReverseString` that iterates over a string in reverse. Write a decorator named `uppercase` that converts the string to uppercase before reversing it. Apply the decorator to the `ReverseString` class."
   ]
  },
  {
   "cell_type": "code",
   "execution_count": 61,
   "id": "0e9c537f",
   "metadata": {},
   "outputs": [
    {
     "name": "stdout",
     "output_type": "stream",
     "text": [
      "K\n",
      "A\n",
      "P\n",
      "H\n",
      "S\n",
      "U\n",
      "P\n"
     ]
    }
   ],
   "source": [
    "def uppercase(cls):\n",
    "    class wrapper(cls):\n",
    "        def __init__(self,*args, **kwargs):\n",
    "            super().__init__(*args, **kwargs)\n",
    "            self.data = self.data.upper()\n",
    "    return wrapper\n",
    "\n",
    "@uppercase\n",
    "class ReverseString:\n",
    "    def __init__(self,data):\n",
    "        self.data = data\n",
    "        self.length = len(data)\n",
    "        \n",
    "    def __iter__(self):\n",
    "        return self\n",
    "    \n",
    "    def __next__(self):\n",
    "        if self.length == 0:\n",
    "            raise StopIteration\n",
    "        self.length -= 1\n",
    "        return self.data[self.length]\n",
    "    \n",
    "x = ReverseString('Pushpak')\n",
    "\n",
    "for i in x:\n",
    "    print(i)\n",
    "    \n",
    "            "
   ]
  },
  {
   "cell_type": "code",
   "execution_count": 60,
   "id": "da411bdc",
   "metadata": {},
   "outputs": [
    {
     "name": "stdout",
     "output_type": "stream",
     "text": [
      "O\n",
      "L\n",
      "L\n",
      "E\n",
      "H\n"
     ]
    }
   ],
   "source": [
    "def uppercase(cls):\n",
    "    class Wrapped(cls):\n",
    "        def __init__(self, *args, **kwargs):\n",
    "            super().__init__(*args, **kwargs)\n",
    "            self.data = self.data.upper()\n",
    "    return Wrapped\n",
    "\n",
    "@uppercase\n",
    "class ReverseString:\n",
    "    def __init__(self, data):\n",
    "        self.data = data\n",
    "        self.index = len(data)\n",
    "\n",
    "    def __iter__(self):\n",
    "        return self\n",
    "\n",
    "    def __next__(self):\n",
    "        if self.index == 0:\n",
    "            raise StopIteration\n",
    "        self.index -= 1\n",
    "        return self.data[self.index]\n",
    "\n",
    "# Test\n",
    "\n",
    "for char in ReverseString(\"hello\"):\n",
    "    print(char)"
   ]
  },
  {
   "cell_type": "markdown",
   "id": "e9e2bb64",
   "metadata": {},
   "source": [
    "### Assignment 11: Stateful Generators\n",
    "\n",
    "Write a stateful generator function named `counter` that takes a start value and increments it by 1 each time it is called. Test the generator by iterating over it and printing the first 10 values."
   ]
  },
  {
   "cell_type": "code",
   "execution_count": 63,
   "id": "a2cce6a9",
   "metadata": {},
   "outputs": [
    {
     "name": "stdout",
     "output_type": "stream",
     "text": [
      "10\n",
      "11\n",
      "12\n",
      "13\n",
      "14\n",
      "15\n",
      "16\n",
      "17\n",
      "18\n",
      "19\n"
     ]
    }
   ],
   "source": [
    "def counter(x):\n",
    "    current = x\n",
    "    while True:\n",
    "        yield current\n",
    "        current += 1\n",
    "        \n",
    "count = counter(10)\n",
    "for _ in range(10):\n",
    "    print(next(count))\n",
    "        "
   ]
  },
  {
   "cell_type": "markdown",
   "id": "78cbaa20",
   "metadata": {},
   "source": [
    "### Assignment 12: Generator with Exception Handling\n",
    "\n",
    "Write a generator function named `safe_divide` that takes a list of numbers and yields the division of each number by a given divisor. Implement exception handling within the generator to handle division by zero."
   ]
  },
  {
   "cell_type": "code",
   "execution_count": 65,
   "id": "15eef54f",
   "metadata": {},
   "outputs": [
    {
     "name": "stdout",
     "output_type": "stream",
     "text": [
      "Divisor is Zero so cant Divide\n",
      "Divisor is Zero so cant Divide\n",
      "Divisor is Zero so cant Divide\n",
      "Divisor is Zero so cant Divide\n",
      "Divisor is Zero so cant Divide\n"
     ]
    }
   ],
   "source": [
    "def safe_divide(lst,d):\n",
    "    for i in lst:\n",
    "        try:\n",
    "            yield i/d \n",
    "        except ZeroDivisionError:\n",
    "            yield 'Divisor is Zero so cant Divide'\n",
    "        \n",
    "x = safe_divide([1,2,3,4,5],0)\n",
    "for i in x:\n",
    "    print(i)"
   ]
  },
  {
   "cell_type": "markdown",
   "id": "8504617b",
   "metadata": {},
   "source": [
    "### Assignment 13: Context Manager Decorator\n",
    "\n",
    "Write a decorator named `open_file` that manages the opening and closing of a file. Apply this decorator to a function that writes some text to a file."
   ]
  },
  {
   "cell_type": "code",
   "execution_count": 66,
   "id": "9aa90493",
   "metadata": {},
   "outputs": [
    {
     "name": "stdout",
     "output_type": "stream",
     "text": [
      "None\n"
     ]
    }
   ],
   "source": [
    "def open_file(file_name, mode):\n",
    "    def deco(func):\n",
    "        def wrapper(*args, **kwargs):\n",
    "            with open(file_name, mode) as file:\n",
    "                return func(file, *args, **kwargs)\n",
    "        return wrapper\n",
    "    return deco\n",
    "\n",
    "@open_file('sample.txt', 'w')\n",
    "def write_file(file, text):\n",
    "    file.write(text)\n",
    "    \n",
    "print(write_file('I am Pushpak'))\n"
   ]
  },
  {
   "cell_type": "markdown",
   "id": "8f4a3296",
   "metadata": {},
   "source": [
    "### Assignment 14: Infinite Iterator\n",
    "\n",
    "Create an infinite iterator class named `InfiniteCounter` that starts from a given number and increments by 1 indefinitely. Test the iterator by printing the first 10 values generated by it."
   ]
  },
  {
   "cell_type": "code",
   "execution_count": 67,
   "id": "a8f41c56",
   "metadata": {},
   "outputs": [
    {
     "name": "stdout",
     "output_type": "stream",
     "text": [
      "2\n",
      "3\n",
      "4\n",
      "5\n",
      "6\n",
      "7\n",
      "8\n",
      "9\n",
      "10\n",
      "11\n"
     ]
    }
   ],
   "source": [
    "class InfiniteCounter:\n",
    "    def __init__(self, num):\n",
    "        self.num = num\n",
    "        \n",
    "    def __iter__(self):\n",
    "        return self\n",
    "    \n",
    "    def __next__(self):\n",
    "        self.num += 1\n",
    "        return self.num\n",
    "    \n",
    "obj = InfiniteCounter(1)\n",
    "\n",
    "for i in range(10):\n",
    "    print(next(obj))"
   ]
  },
  {
   "cell_type": "code",
   "execution_count": 68,
   "id": "40fe9f8a",
   "metadata": {},
   "outputs": [
    {
     "name": "stdout",
     "output_type": "stream",
     "text": [
      "12\n",
      "13\n",
      "14\n",
      "15\n",
      "16\n",
      "17\n",
      "18\n",
      "19\n",
      "20\n",
      "21\n"
     ]
    }
   ],
   "source": [
    "for i in range(10):\n",
    "    print(next(obj))"
   ]
  },
  {
   "cell_type": "markdown",
   "id": "87c8ef7b",
   "metadata": {},
   "source": [
    "### Assignment 15: Generator Pipeline\n",
    "\n",
    "Write three generator functions: `integers` that yields integers from 1 to 10, `doubles` that yields each integer doubled, and `negatives` that yields the negative of each doubled value. Chain these generators to create a pipeline that produces the negative doubled values of integers from 1 to 10."
   ]
  },
  {
   "cell_type": "code",
   "execution_count": null,
   "id": "83457e74",
   "metadata": {},
   "outputs": [
    {
     "name": "stdout",
     "output_type": "stream",
     "text": [
      "-2\n",
      "-4\n",
      "-6\n",
      "-8\n",
      "-10\n",
      "-12\n",
      "-14\n",
      "-16\n",
      "-18\n",
      "-20\n"
     ]
    }
   ],
   "source": [
    "def integers():\n",
    "    for i in range(1, 11):\n",
    "        yield i\n",
    "        \n",
    "def doubles(numbers):\n",
    "    for i in numbers:\n",
    "        yield i*2\n",
    "        \n",
    "def negative(numbers):\n",
    "    for i in numbers:\n",
    "        yield -i\n",
    "        \n",
    "i = integers()\n",
    "d = doubles(i)\n",
    "n = negative(d)\n",
    "\n",
    "for k in n:\n",
    "    print(k)"
   ]
  },
  {
   "cell_type": "markdown",
   "id": "fe83f1cb",
   "metadata": {},
   "source": []
  }
 ],
 "metadata": {
  "kernelspec": {
   "display_name": "base",
   "language": "python",
   "name": "python3"
  },
  "language_info": {
   "codemirror_mode": {
    "name": "ipython",
    "version": 3
   },
   "file_extension": ".py",
   "mimetype": "text/x-python",
   "name": "python",
   "nbconvert_exporter": "python",
   "pygments_lexer": "ipython3",
   "version": "3.11.7"
  }
 },
 "nbformat": 4,
 "nbformat_minor": 5
}
