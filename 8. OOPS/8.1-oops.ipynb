{
 "cells": [
  {
   "cell_type": "markdown",
   "metadata": {},
   "source": [
    "####  Classes and Objects\n",
    "Object-Oriented Programming (OOP) is a programming paradigm that uses \"objects\" to design applications and computer programs. OOP allows for modeling real-world scenarios using classes and objects. This lesson covers the basics of creating classes and objects, including instance variables and methods."
   ]
  },
  {
   "cell_type": "code",
   "execution_count": 1,
   "metadata": {},
   "outputs": [
    {
     "name": "stdout",
     "output_type": "stream",
     "text": [
      "<class '__main__.Car'>\n"
     ]
    }
   ],
   "source": [
    "### A class is a blue print for creating objects. Attributes,methods\n",
    "class Car:\n",
    "    pass\n",
    "\n",
    "audi=Car()\n",
    "bmw=Car()\n",
    "\n",
    "print(type(audi))\n"
   ]
  },
  {
   "cell_type": "code",
   "execution_count": null,
   "metadata": {},
   "outputs": [
    {
     "name": "stdout",
     "output_type": "stream",
     "text": [
      "Vehicle\n",
      "$ 1Million\n",
      "Vehicle\n",
      "0\n",
      "Vehicle\n"
     ]
    }
   ],
   "source": [
    "class Car:\n",
    "    Type = \"Vehicle\"  # Class attribute\n",
    "    price = 0  # Class attribute\n",
    "    \n",
    "    \n",
    "mercedes = Car()\n",
    "mercedes.price = f'$ {1}-Million'\n",
    "print(mercedes.Type)\n",
    "print(mercedes.price)\n",
    "\n",
    "audi = Car()\n",
    "print(audi.Type)  # Accessing class attribute\n",
    "print(audi.price)  # Accessing class attribute\n",
    "print(Car.Type)  # Accessing class attribute directly from the class"
   ]
  },
  {
   "cell_type": "code",
   "execution_count": null,
   "metadata": {},
   "outputs": [
    {
     "name": "stdout",
     "output_type": "stream",
     "text": [
      "Car Information: SUV, Price: 500000, Doors: 4\n"
     ]
    }
   ],
   "source": [
    "class Car :\n",
    "    Type = \"SUV\"\n",
    "    price = 500000\n",
    "    no_of_door = 4  # Instance attribute\n",
    "\n",
    "    def display_info(self): #  \n",
    "        print(f\"Car Information: {Car.Type}, Price: {Car.price}, Doors: {Car.no_of_door}\")\n",
    "\n",
    "audi = Car()  # Creating an instance of Car\n",
    "#audi = Car(\"MVP\", 600000, 4)  # Creating an instance of Car with specific attributes # if you do this you'll get an error because the constructor is not defined\n",
    "audi.display_info()  # Calling the method to display information\n",
    "# Here when you call a method of a class, the first argument is always the instance of the class (object) itself, which is referred to as `self` by convention.\n"
   ]
  },
  {
   "cell_type": "code",
   "execution_count": 3,
   "metadata": {},
   "outputs": [
    {
     "name": "stdout",
     "output_type": "stream",
     "text": [
      "<__main__.Car object at 0x11149a4f0>\n",
      "<__main__.Car object at 0x11149ad30>\n"
     ]
    }
   ],
   "source": [
    "print(audi)\n",
    "print(bmw)"
   ]
  },
  {
   "cell_type": "markdown",
   "metadata": {},
   "source": [
    "can change the value of attributes of a object using an object "
   ]
  },
  {
   "cell_type": "code",
   "execution_count": 2,
   "metadata": {},
   "outputs": [
    {
     "name": "stdout",
     "output_type": "stream",
     "text": [
      "4\n",
      "v8\n"
     ]
    }
   ],
   "source": [
    "audi.windows=4\n",
    "print(audi.windows)\n",
    "\n",
    "audi.engine = 'v8'\n",
    "print(audi.engine)"
   ]
  },
  {
   "cell_type": "code",
   "execution_count": 3,
   "metadata": {},
   "outputs": [
    {
     "ename": "AttributeError",
     "evalue": "'Car' object has no attribute 'windows'",
     "output_type": "error",
     "traceback": [
      "\u001b[0;31m---------------------------------------------------------------------------\u001b[0m",
      "\u001b[0;31mAttributeError\u001b[0m                            Traceback (most recent call last)",
      "Cell \u001b[0;32mIn[3], line 3\u001b[0m\n\u001b[1;32m      1\u001b[0m tata\u001b[38;5;241m=\u001b[39mCar()\n\u001b[1;32m      2\u001b[0m tata\u001b[38;5;241m.\u001b[39mdoors\u001b[38;5;241m=\u001b[39m\u001b[38;5;241m4\u001b[39m\n\u001b[0;32m----> 3\u001b[0m \u001b[38;5;28mprint\u001b[39m(tata\u001b[38;5;241m.\u001b[39mwindows)\n",
      "\u001b[0;31mAttributeError\u001b[0m: 'Car' object has no attribute 'windows'"
     ]
    }
   ],
   "source": [
    "tata=Car()\n",
    "tata.doors=4\n",
    "print(tata.windows)"
   ]
  },
  {
   "cell_type": "markdown",
   "metadata": {},
   "source": [
    "defining just attributes in the class without consructor is not a proper way as it can cause the errors like above so to defined the attributes you need to define a constructor as well "
   ]
  },
  {
   "cell_type": "code",
   "execution_count": 4,
   "metadata": {},
   "outputs": [
    {
     "data": {
      "text/plain": [
       "['__class__',\n",
       " '__delattr__',\n",
       " '__dict__',\n",
       " '__dir__',\n",
       " '__doc__',\n",
       " '__eq__',\n",
       " '__format__',\n",
       " '__ge__',\n",
       " '__getattribute__',\n",
       " '__getstate__',\n",
       " '__gt__',\n",
       " '__hash__',\n",
       " '__init__',\n",
       " '__init_subclass__',\n",
       " '__le__',\n",
       " '__lt__',\n",
       " '__module__',\n",
       " '__ne__',\n",
       " '__new__',\n",
       " '__reduce__',\n",
       " '__reduce_ex__',\n",
       " '__repr__',\n",
       " '__setattr__',\n",
       " '__sizeof__',\n",
       " '__str__',\n",
       " '__subclasshook__',\n",
       " '__weakref__',\n",
       " 'doors']"
      ]
     },
     "execution_count": 4,
     "metadata": {},
     "output_type": "execute_result"
    }
   ],
   "source": [
    "dir(tata)"
   ]
  },
  {
   "cell_type": "code",
   "execution_count": 5,
   "metadata": {},
   "outputs": [
    {
     "data": {
      "text/plain": [
       "__main__.Car"
      ]
     },
     "execution_count": 5,
     "metadata": {},
     "output_type": "execute_result"
    }
   ],
   "source": [
    "tata.__class__"
   ]
  },
  {
   "cell_type": "code",
   "execution_count": 6,
   "metadata": {},
   "outputs": [
    {
     "data": {
      "text/plain": [
       "{'doors': 4}"
      ]
     },
     "execution_count": 6,
     "metadata": {},
     "output_type": "execute_result"
    }
   ],
   "source": [
    "tata.__dict__  # This will show all attributes of the instance"
   ]
  },
  {
   "cell_type": "markdown",
   "metadata": {},
   "source": [
    "tata."
   ]
  },
  {
   "cell_type": "code",
   "execution_count": null,
   "metadata": {},
   "outputs": [
    {
     "name": "stdout",
     "output_type": "stream",
     "text": [
      "<__main__.Dog object at 0x107c4a580>\n",
      "Buddy\n",
      "3\n"
     ]
    }
   ],
   "source": [
    "### Instance Variable and Methods\n",
    "class Dog:\n",
    "    ## constructor : Define all te attributes of the class\n",
    "    ## Constructor is a special method that is called when an object is created from a class.\n",
    "    ## It is used to initialize the attributes of the class.\n",
    "    ## The constructor is defined using the __init__ method.\n",
    "    ## The first argument of the constructor is always self, which refers to the instance of the class.\n",
    "    ## The constructor can take additional arguments to initialize the attributes of the class.\n",
    "    def __init__(self,name,age):\n",
    "        self.name=name\n",
    "        self.age=age\n",
    "\n",
    "## create objects\n",
    "dog1=Dog(\"Buddy\",3) # as this is called the constructor will be get called first, it will initialize the attributes name and age, and if theyre missin then it will throw an error\n",
    "print(dog1)\n",
    "print(dog1.name)\n",
    "print(dog1.age)\n",
    "    \n",
    "    "
   ]
  },
  {
   "cell_type": "code",
   "execution_count": 2,
   "metadata": {},
   "outputs": [
    {
     "name": "stdout",
     "output_type": "stream",
     "text": [
      "Lucy\n",
      "4\n"
     ]
    }
   ],
   "source": [
    "dog2=Dog(\"Lucy\",4)\n",
    "print(dog2.name)\n",
    "print(dog2.age)"
   ]
  },
  {
   "cell_type": "code",
   "execution_count": 3,
   "metadata": {},
   "outputs": [
    {
     "name": "stdout",
     "output_type": "stream",
     "text": [
      "Buddy says woof\n",
      "Lucy says woof\n"
     ]
    }
   ],
   "source": [
    "## Define a class with instance methods\n",
    "class Dog:\n",
    "    def __init__(self,name,age):\n",
    "        self.name=name\n",
    "        self.age=age\n",
    "    \n",
    "    def bark(self):\n",
    "        print(f\"{self.name} says woof\")\n",
    "\n",
    "\n",
    "dog1=Dog(\"Buddy\",3)\n",
    "dog1.bark()\n",
    "dog2=Dog(\"Lucy\",4)\n",
    "dog2.bark()\n",
    "\n"
   ]
  },
  {
   "cell_type": "code",
   "execution_count": null,
   "metadata": {},
   "outputs": [
    {
     "name": "stdout",
     "output_type": "stream",
     "text": [
      "\n",
      "1000 is added to your balance.\n",
      "\n",
      "Owner: Pushpak Gadhe \n",
      "Current balance : 7000\n",
      "\n",
      "Owner: Jhon Doe \n",
      "Current balance : 100\n",
      "Not enough funds\n"
     ]
    },
    {
     "data": {
      "text/plain": [
       "100"
      ]
     },
     "execution_count": 15,
     "metadata": {},
     "output_type": "execute_result"
    }
   ],
   "source": [
    "class Bank:\n",
    "    def __init__(self, owner, balance=0):\n",
    "        self.balance = balance\n",
    "        self.owner = owner\n",
    "        \n",
    "    def deposite(self, amount):\n",
    "        self.balance+=amount\n",
    "        print(f'\\n{amount} is added to your balance.')\n",
    "        print(f'\\nOwner: {self.owner} \\nCurrent balance : {self.balance}')\n",
    "        return self.balance\n",
    "    \n",
    "    def withdraw(self, amount):\n",
    "        if self.balance>=amount:\n",
    "            self.balance-=amount\n",
    "            print(f'\\n{amount} is withdrawn from your balance.')\n",
    "            print(f'\\nOwner: {self.owner} \\nCurrent balance : {self.balance}')\n",
    "            return self.balance\n",
    "        else:\n",
    "            print(f'\\nOwner: {self.owner} \\nCurrent balance : {self.balance}')\n",
    "            print(f'Not enough funds')\n",
    "            return self.balance\n",
    "        \n",
    "        \n",
    "person1 = Bank(\"Pushpak Gadhe\", 6000)\n",
    "person1.deposite(1000)\n",
    "\n",
    "person2 = Bank(\"Jhon Doe\", 100)\n",
    "person2.withdraw(1000)\n"
   ]
  },
  {
   "cell_type": "code",
   "execution_count": null,
   "metadata": {},
   "outputs": [],
   "source": [
    "class Bank:\n",
    "    \n",
    "    all_accounts = []\n",
    "    \n",
    "    def __init__(self, owner, balance=0):\n",
    "        self.owner = owner\n",
    "        self.balance = balance\n",
    "        Bank.all_accounts.append(self)\n",
    "        \n",
    "    def deposite(self, amount):\n",
    "        self.balance += amount\n",
    "        print(f'\\n{amount} is added to your balance.')\n",
    "        print(f'\\nOwner: {self.owner} \\nCurrent balance : {self.balance}')\n",
    "        # return self.balance\n",
    "    \n",
    "    def withdraw(self, amount):\n",
    "        if self.balance >= amount:\n",
    "            self.balance -= amount\n",
    "            print(f'\\n{amount} is withdrawn from your balance.')\n",
    "            print(f'\\nOwner: {self.owner} \\nCurrent balance : {self.balance}')\n",
    "            # return self.balance\n",
    "        else:\n",
    "            print(f'\\nOwner: {self.owner} \\nCurrent balance : {self.balance}')\n",
    "            print(f'Not enough funds')\n",
    "            # return self.balance\n",
    "        \n",
    "    def showBalance(self):\n",
    "        print(f'\\nOwner: {self.owner} \\nCurrent balance : {self.balance}')\n",
    "        # return self.balance\n",
    "    \n",
    "    def transfer(self, amount, other):\n",
    "        recipient = None\n",
    "        for account in Bank.all_accounts:\n",
    "            if account.owner.lower() == other.lower():\n",
    "                recipient = account\n",
    "                break\n",
    "            \n",
    "        if recipient is None:\n",
    "            print(f'No account found for {other}.')\n",
    "            return\n",
    "        \n",
    "        if self.balance >= amount:\n",
    "            self.balance -= amount\n",
    "            recipient.balance += amount\n",
    "            print(f'\\n{amount} is transferred to {recipient.owner}.')\n",
    "            print(f'\\nOwner: {self.owner} \\nCurrent balance : {self.balance}')\n",
    "            print(f'\\nOwner: {recipient.owner} \\nCurrent balance : {recipient.balance}')\n",
    "        else:\n",
    "            print(f'\\nOwner: {self.owner} \\nCurrent balance : {self.balance}')\n",
    "            print(f'Not enough funds to transfer')"
   ]
  },
  {
   "cell_type": "code",
   "execution_count": 22,
   "metadata": {},
   "outputs": [],
   "source": [
    "user1 = Bank(\"Pushpak Gadhe\", 6000)\n",
    "user2 = Bank(\"Jhon Doe\", 1000)"
   ]
  },
  {
   "cell_type": "code",
   "execution_count": 23,
   "metadata": {},
   "outputs": [
    {
     "name": "stdout",
     "output_type": "stream",
     "text": [
      "\n",
      "1000 is added to your balance.\n",
      "\n",
      "Owner: Pushpak Gadhe \n",
      "Current balance : 7000\n"
     ]
    }
   ],
   "source": [
    "user1.deposite(1000)"
   ]
  },
  {
   "cell_type": "code",
   "execution_count": null,
   "metadata": {},
   "outputs": [],
   "source": [
    "Bank."
   ]
  },
  {
   "cell_type": "code",
   "execution_count": 24,
   "metadata": {},
   "outputs": [
    {
     "name": "stdout",
     "output_type": "stream",
     "text": [
      "No account found for jhon.\n"
     ]
    }
   ],
   "source": [
    "user1.transfer(1000, \"jhon\")"
   ]
  },
  {
   "cell_type": "code",
   "execution_count": 27,
   "metadata": {},
   "outputs": [
    {
     "name": "stdout",
     "output_type": "stream",
     "text": [
      "\n",
      "2000 is transferred to Jhon Doe.\n",
      "\n",
      "Owner: Pushpak Gadhe \n",
      "Current balance : 5000\n",
      "\n",
      "Owner: Jhon Doe \n",
      "Current balance : 3000\n"
     ]
    }
   ],
   "source": [
    "user1.transfer(2000, \"Jhon Doe\")"
   ]
  },
  {
   "cell_type": "code",
   "execution_count": 26,
   "metadata": {},
   "outputs": [
    {
     "name": "stdout",
     "output_type": "stream",
     "text": [
      "['Pushpak Gadhe', 'Jhon Doe']\n"
     ]
    }
   ],
   "source": [
    "print([account.owner for account in Bank.all_accounts])"
   ]
  },
  {
   "cell_type": "code",
   "execution_count": 13,
   "metadata": {},
   "outputs": [
    {
     "name": "stdout",
     "output_type": "stream",
     "text": [
      "5000\n"
     ]
    }
   ],
   "source": [
    "### Modeling a Bank Account\n",
    "\n",
    "## Define a class for bank account\n",
    "class BankAccount:\n",
    "    def __init__(self,owner,balance=0):\n",
    "        self.owner=owner\n",
    "        self.balance=balance\n",
    "\n",
    "    def deposit(self,amount):\n",
    "        self.balance+=amount\n",
    "        print(f\"{amount} is deposited. New balance is {self.balance}\")\n",
    "\n",
    "    def withdraw(self,amount):\n",
    "        if amount>self.balance:\n",
    "            print(\"Insufficient funds!\")\n",
    "        else:\n",
    "            self.balance-=amount\n",
    "            print(f\"{amount} is withdrawn. New Balance is {self.balance}\")\n",
    "\n",
    "    def get_balance(self):\n",
    "        return self.balance\n",
    "    \n",
    "## create an account\n",
    "\n",
    "account=BankAccount(\"Krish\",5000)\n",
    "print(account.balance)\n",
    "\n",
    "    "
   ]
  },
  {
   "cell_type": "markdown",
   "metadata": {},
   "source": []
  },
  {
   "cell_type": "code",
   "execution_count": 14,
   "metadata": {},
   "outputs": [
    {
     "name": "stdout",
     "output_type": "stream",
     "text": [
      "100 is deposited. New balance is 5100\n"
     ]
    }
   ],
   "source": [
    "## Call isntance methods\n",
    "account.deposit(100)"
   ]
  },
  {
   "cell_type": "code",
   "execution_count": 15,
   "metadata": {},
   "outputs": [
    {
     "name": "stdout",
     "output_type": "stream",
     "text": [
      "300 is withdrawn. New Balance is 4800\n"
     ]
    }
   ],
   "source": [
    "account.withdraw(300)"
   ]
  },
  {
   "cell_type": "code",
   "execution_count": 16,
   "metadata": {},
   "outputs": [
    {
     "name": "stdout",
     "output_type": "stream",
     "text": [
      "4800\n"
     ]
    }
   ],
   "source": [
    "print(account.get_balance())"
   ]
  },
  {
   "cell_type": "markdown",
   "metadata": {},
   "source": [
    "#### Conclusion\n",
    "Object-Oriented Programming (OOP) allows you to model real-world scenarios using classes and objects. In this lesson, you learned how to create classes and objects, define instance variables and methods, and use them to perform various operations. Understanding these concepts is fundamental to writing effective and maintainable Python code."
   ]
  },
  {
   "cell_type": "code",
   "execution_count": null,
   "metadata": {},
   "outputs": [],
   "source": []
  },
  {
   "cell_type": "code",
   "execution_count": null,
   "metadata": {},
   "outputs": [],
   "source": []
  },
  {
   "cell_type": "code",
   "execution_count": null,
   "metadata": {},
   "outputs": [],
   "source": []
  }
 ],
 "metadata": {
  "kernelspec": {
   "display_name": "base",
   "language": "python",
   "name": "python3"
  },
  "language_info": {
   "codemirror_mode": {
    "name": "ipython",
    "version": 3
   },
   "file_extension": ".py",
   "mimetype": "text/x-python",
   "name": "python",
   "nbconvert_exporter": "python",
   "pygments_lexer": "ipython3",
   "version": "3.11.7"
  }
 },
 "nbformat": 4,
 "nbformat_minor": 2
}
