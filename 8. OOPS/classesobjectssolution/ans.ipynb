{
 "cells": [
  {
   "cell_type": "markdown",
   "id": "26e1914e",
   "metadata": {},
   "source": [
    "Bubble sort using OOPS"
   ]
  },
  {
   "cell_type": "code",
   "execution_count": null,
   "id": "cb6f77a0",
   "metadata": {},
   "outputs": [
    {
     "name": "stdout",
     "output_type": "stream",
     "text": [
      "[1, 3, 5, 6, 7, 9]\n"
     ]
    }
   ],
   "source": [
    "class sorted:\n",
    "    def __init__(self, lst):\n",
    "        self.lst = lst \n",
    "       \n",
    "    # Instance Method \n",
    "    def sortme(self):\n",
    "        lst = self.lst\n",
    "        l = len(lst)\n",
    "        for i in range(0,l):\n",
    "            for j in range(i+1,l):\n",
    "                if lst[i] > lst[j] :\n",
    "                    temp = lst[i]\n",
    "                    lst[i] = lst[j]\n",
    "                    lst[j] = temp\n",
    "                    \n",
    "        return lst\n",
    "    \n",
    "obj1 = sorted([1,9,3,7,6,5])\n",
    "print(obj1.sortme())"
   ]
  },
  {
   "cell_type": "markdown",
   "id": "78478a22",
   "metadata": {},
   "source": [
    "### Assignment 1: Basic Class and Object Creation\n",
    "\n",
    "Create a class named `Car` with attributes `make`, `model`, and `year`. Create an object of the class and print its attributes.\n"
   ]
  },
  {
   "cell_type": "code",
   "execution_count": 2,
   "id": "71658a16",
   "metadata": {},
   "outputs": [
    {
     "data": {
      "text/plain": [
       "'2010 TATA Nano'"
      ]
     },
     "execution_count": 2,
     "metadata": {},
     "output_type": "execute_result"
    }
   ],
   "source": [
    "class Car:\n",
    "    def __init__(self, make, model, year):\n",
    "        self.make = make\n",
    "        self.model = model\n",
    "        self.year = year\n",
    "        \n",
    "    def display_info(self):\n",
    "        return f\"{self.year} {self.make} {self.model}\"\n",
    "    \n",
    "obj1 = Car(\"TATA\", \"Nano\", 2010)\n",
    "obj1.display_info()  # This will return '2010 TATA Nano'"
   ]
  },
  {
   "cell_type": "markdown",
   "id": "c9402a0b",
   "metadata": {},
   "source": [
    "### Assignment 2: Methods in Class\n",
    "\n",
    "Add a method named `start_engine` to the `Car` class that prints a message when the engine starts. Create an object of the class and call the method."
   ]
  },
  {
   "cell_type": "code",
   "execution_count": 5,
   "id": "5863f8c1",
   "metadata": {},
   "outputs": [
    {
     "name": "stdout",
     "output_type": "stream",
     "text": [
      "2010 TATA Nano\n",
      "TATA Nano engine started.\n"
     ]
    }
   ],
   "source": [
    "class Car:\n",
    "    def __init__(self, make, model, year):\n",
    "        self.make = make\n",
    "        self.model = model\n",
    "        self.year = year\n",
    "        \n",
    "    def display_info(self):\n",
    "        return f\"{self.year} {self.make} {self.model}\"\n",
    "    \n",
    "    def start_engine(self):\n",
    "        return f\"{self.make} {self.model} engine started.\"\n",
    "    \n",
    "obj1 = Car(\"TATA\", \"Nano\", 2010)\n",
    "print(obj1.display_info())  # This will return '2010 TATA Nano'\n",
    "print(obj1.start_engine())  # This will return 'TATA Nano engine started.'"
   ]
  },
  {
   "cell_type": "markdown",
   "id": "8a4b8498",
   "metadata": {},
   "source": [
    "### Assignment 3: Class with Constructor\n",
    "\n",
    "Create a class named `Student` with attributes `name` and `age`. Use a constructor to initialize these attributes. Create an object of the class and print its attributes."
   ]
  },
  {
   "cell_type": "code",
   "execution_count": 8,
   "id": "db373b69",
   "metadata": {},
   "outputs": [
    {
     "name": "stdout",
     "output_type": "stream",
     "text": [
      "Jhon, 20\n"
     ]
    }
   ],
   "source": [
    "class Student:\n",
    "    def __init__(self, name, age):\n",
    "        self.name = name \n",
    "        self.age = age\n",
    "        \n",
    "obj1 = Student(\"Jhon\", 20)\n",
    "print(f'{obj1.name}, {obj1.age}')"
   ]
  },
  {
   "cell_type": "markdown",
   "id": "e8cce42c",
   "metadata": {},
   "source": [
    "### Assignment 4: Class with Private Attributes\n",
    "\n",
    "Create a class named `BankAccount` with private attributes `account_number` and `balance`. Add methods to deposit and withdraw money, and to check the balance. Create an object of the class and perform some operations."
   ]
  },
  {
   "cell_type": "code",
   "execution_count": null,
   "id": "ac15a44d",
   "metadata": {},
   "outputs": [
    {
     "name": "stdout",
     "output_type": "stream",
     "text": [
      "Account Number : 12345 \t Balance : 0\n",
      "10000 Successfully Deposited in the Account\n",
      "The Amount : 5000 has been successfully withdrawen and The current balance is 5000\n",
      "The amount cant be withdraw as the balance is low \n",
      "Balance : 5000\n",
      "Account Number : 12345 \t Balance : 5000\n"
     ]
    },
    {
     "ename": "AttributeError",
     "evalue": "'BankAccount' object has no attribute 'balance'",
     "output_type": "error",
     "traceback": [
      "\u001b[0;31m---------------------------------------------------------------------------\u001b[0m",
      "\u001b[0;31mAttributeError\u001b[0m                            Traceback (most recent call last)",
      "Cell \u001b[0;32mIn[26], line 26\u001b[0m\n\u001b[1;32m     24\u001b[0m \u001b[38;5;28mprint\u001b[39m(user1\u001b[38;5;241m.\u001b[39mwithdraw(\u001b[38;5;241m7000\u001b[39m))\n\u001b[1;32m     25\u001b[0m \u001b[38;5;28mprint\u001b[39m(user1\u001b[38;5;241m.\u001b[39mcheck_balance())\n\u001b[0;32m---> 26\u001b[0m user1\u001b[38;5;241m.\u001b[39mbalance\n",
      "\u001b[0;31mAttributeError\u001b[0m: 'BankAccount' object has no attribute 'balance'"
     ]
    }
   ],
   "source": [
    "class BankAccount:\n",
    "    def __init__(self, account_number, balance):\n",
    "        self.__account_number = account_number # Making it Private.\n",
    "        self.__balance = balance\n",
    "        \n",
    "    def deposit(self, amount):\n",
    "        self.__balance += amount\n",
    "        return f'{amount} Successfully Deposited in the Account'\n",
    "    \n",
    "    def withdraw(self, amount):\n",
    "        if amount > self.__balance:\n",
    "            return f'The amount cant be withdraw as the balance is low \\nBalance : {self.__balance}'\n",
    "        else:\n",
    "            self.__balance -= amount\n",
    "            return f'The Amount : {amount} has been successfully withdrawen and The current balance is {self.__balance}'\n",
    "        \n",
    "    def check_balance(self):\n",
    "        return f'Account Number : {self.__account_number} \\t Balance : {self.__balance}'\n",
    "    \n",
    "user1 = BankAccount(12345, 0)\n",
    "print(user1.check_balance())\n",
    "print(user1.deposit(10000))\n",
    "print(user1.withdraw(5000))\n",
    "print(user1.withdraw(7000))\n",
    "print(user1.check_balance())\n",
    "# user1.balance # or user1.__balance will not work as the attribute is private and cant be accessible like this directly but as a method is created (of check balance and it is using those attributes inside the class so theyre accessible) so we can access it."
   ]
  },
  {
   "cell_type": "markdown",
   "id": "9949c33b",
   "metadata": {},
   "source": [
    "### Assignment 5: Class Inheritance\n",
    "\n",
    "Create a base class named `Person` with attributes `name` and `age`. Create a derived class named `Employee` that inherits from `Person` and adds an attribute `employee_id`. Create an object of the derived class and print its attributes."
   ]
  },
  {
   "cell_type": "code",
   "execution_count": 34,
   "id": "39b9fa0b",
   "metadata": {},
   "outputs": [
    {
     "data": {
      "text/plain": [
       "'Hello im jack and im 19 years old and my employee id is 1'"
      ]
     },
     "execution_count": 34,
     "metadata": {},
     "output_type": "execute_result"
    }
   ],
   "source": [
    "class Person:\n",
    "    def __init__(self, name, age):\n",
    "        self.name = name\n",
    "        self.age = age\n",
    "        \n",
    "    def introduce(self):\n",
    "        return f'Hello im {self.name} and im {self.age} years old'\n",
    "    \n",
    "class Employee(Person):\n",
    "    def __init__(self, name, age, employee_id):\n",
    "        super().__init__(name, age)\n",
    "        self.employee_id = employee_id\n",
    "        \n",
    "    def introduce(self):\n",
    "        return f'{super().introduce()} and my employee id is {self.employee_id}'\n",
    "    \n",
    "obj1=Person(\"jack\", 19)\n",
    "obj1.introduce()\n",
    "\n",
    "obj2 = Employee('jack', 19, 1)\n",
    "obj2.introduce()"
   ]
  },
  {
   "cell_type": "markdown",
   "id": "a5c0e9d0",
   "metadata": {},
   "source": [
    "### Assignment 6: Method Overriding\n",
    "\n",
    "In the `Employee` class, override the `__str__` method to return a string representation of the object. Create an object of the class and print it."
   ]
  },
  {
   "cell_type": "code",
   "execution_count": null,
   "id": "a85a0312",
   "metadata": {},
   "outputs": [
    {
     "name": "stdout",
     "output_type": "stream",
     "text": [
      "Name : jhon, age : 34, employee_id : 12345\n"
     ]
    }
   ],
   "source": [
    "class Employee(Person):\n",
    "    def __init__(self, name, age, employee_id):\n",
    "        super().__init__(name, age)\n",
    "        self.employee_id = employee_id\n",
    "        \n",
    "    # magic method or dunder method , no need to call explicitly, __str__ it is used to print the obj\n",
    "    def __str__(self):\n",
    "        return f'Name : {self.name}, age : {self.age}, employee_id : {self.employee_id}'\n",
    "        \n",
    "    def introduce(self):\n",
    "        return f'{super().introduce()} and my employee id is {self.employee_id}'\n",
    "    \n",
    "obj3 = Employee(\"jhon\", 34, 12345)\n",
    "print(obj3)"
   ]
  },
  {
   "cell_type": "markdown",
   "id": "2823a34f",
   "metadata": {},
   "source": [
    "### Assignment 7: Class Composition\n",
    "\n",
    "Create a class named `Address` with attributes `street`, `city`, and `zipcode`. Create a class named `Person` that has an `Address` object as an attribute. Create an object of the `Person` class and print its address."
   ]
  },
  {
   "cell_type": "code",
   "execution_count": null,
   "id": "2175cf26",
   "metadata": {},
   "outputs": [
    {
     "name": "stdout",
     "output_type": "stream",
     "text": [
      "Hello Raj, Your currrent address is : N6, Aurangabad, 431001\n"
     ]
    }
   ],
   "source": [
    "class Address:\n",
    "    def __init__(self, street, city, zipcode):\n",
    "        self.street = street\n",
    "        self.city = city\n",
    "        self.zipcode = zipcode\n",
    "        \n",
    "# By Inheritance \n",
    "# class Person(Address):\n",
    "#     def __init__(self, name, street, city, zipcode):\n",
    "#         self.name = name\n",
    "#         super().__init__(street, city, zipcode)\n",
    "        \n",
    "#     def __str__(self):\n",
    "#         return f'Hello {self.name}, Your current address is : {self.street}, {self.city}, {self.zipcode}'\n",
    "    \n",
    "# add1 = Address(\"N6\",\"Aurangabad\",431001)\n",
    "# person1 = Person(\"Ajay\",add1.street, add1.city, add1.zipcode)\n",
    "# print(person1)\n",
    "\n",
    "class Person:\n",
    "    def __init__(self, name, address):\n",
    "        self.name = name\n",
    "        self.address = address\n",
    "        \n",
    "    def __str__(self):\n",
    "        return f'Hello {self.name}, Your currrent address is : {self.address.street}, {self.address.city}, {self.address.zipcode}'\n",
    "    \n",
    "add1 = Address(\"N6\",\"Aurangabad\",431001)\n",
    "person1 = Person(\"Raj\", add1)\n",
    "print(person1)"
   ]
  },
  {
   "cell_type": "markdown",
   "id": "562bfadc",
   "metadata": {},
   "source": [
    "### Assignment 8: Class with Class Variables\n",
    "\n",
    "Create a class named `Counter` with a class variable `count`. Each time an object is created, increment the count. Add a method to get the current count. Create multiple objects and print the count."
   ]
  },
  {
   "cell_type": "markdown",
   "id": "708ff16c",
   "metadata": {},
   "source": [
    "\t•\tClass variable: Belongs to the class itself, shared by all objects.\n",
    "\t•\tInstance variable: Belongs to one particular object.\n",
    "\n",
    "@classmethod is a decorator in Python.\n",
    "It tells Python that the method is bound to the class, not to an instance of the class.\n",
    "\n",
    "This means:\n",
    "\n",
    "\t•\tThe method receives the class itself (cls) as its first argument, instead of the object (self).\n",
    "\t•\tYou can use it to access or modify class variables or call other class methods."
   ]
  },
  {
   "cell_type": "code",
   "execution_count": 59,
   "id": "1ff19cf8",
   "metadata": {},
   "outputs": [
    {
     "data": {
      "text/plain": [
       "'Count : 2'"
      ]
     },
     "execution_count": 59,
     "metadata": {},
     "output_type": "execute_result"
    }
   ],
   "source": [
    "class Counter:\n",
    "    \n",
    "    count = 0 # Class Variable \n",
    "    \n",
    "    def __init__(self,name):\n",
    "        self.name = name # Instance Variable \n",
    "        Counter.count += 1 # Access the Class variable \n",
    "        \n",
    "    @classmethod\n",
    "    def showCount(cls):\n",
    "        return f'Count : {Counter.count}'\n",
    "    \n",
    "obj1 = Counter(\"raj\")\n",
    "obj1.showCount()\n",
    "obj2 = Counter(\"ken\")\n",
    "obj1.showCount()\n"
   ]
  },
  {
   "cell_type": "markdown",
   "id": "1b417867",
   "metadata": {},
   "source": [
    "Create a class named `MathOperations` with a static method to calculate the square root of a number. Call the static method without creating an object."
   ]
  },
  {
   "cell_type": "code",
   "execution_count": 62,
   "id": "57579731",
   "metadata": {},
   "outputs": [
    {
     "data": {
      "text/plain": [
       "5.0"
      ]
     },
     "execution_count": 62,
     "metadata": {},
     "output_type": "execute_result"
    }
   ],
   "source": [
    "import math\n",
    "class MathOperation:\n",
    "    \n",
    "    def __init__(self):\n",
    "        pass\n",
    "    \n",
    "    @staticmethod\n",
    "    def square_root(x):\n",
    "        return math.sqrt(x)\n",
    "    \n",
    "obj1 = MathOperation()\n",
    "obj1.square_root(25)"
   ]
  },
  {
   "cell_type": "markdown",
   "id": "41c1a830",
   "metadata": {},
   "source": [
    "### Assignment 10: Class with Properties\n",
    "\n",
    "Create a class named `Rectangle` with private attributes `length` and `width`. Use properties to get and set these attributes. Create an object of the class and test the properties."
   ]
  },
  {
   "cell_type": "markdown",
   "id": "fcf267e2",
   "metadata": {},
   "source": [
    " A Property is a special way to control access to an attribute (variable inside a class) while still making it look simple to use.\n",
    "\n",
    " Special method that makes method calls look like attribute access\n",
    "\n",
    "\n",
    "Properties let your class:\n",
    "\t•\tHide internal details (encapsulation).\n",
    "\t•\tValidate data before setting.\n",
    "\t•\tStill use simple syntax (obj.length = 10 instead of obj.set_length(10)).\n",
    "\n",
    "Instead of:\n",
    "rectangle.length = 10\n",
    "print(rectangle.length)\n",
    "\n",
    "We use:\n",
    "@property\n",
    "def length(self):\n",
    "    return self.__length\n",
    "\n",
    "@length.setter\n",
    "def length(self, value):\n",
    "    self.__length = value\n",
    "\n",
    "But behind the scenes, it actually uses these getter and setter methods.\n",
    "This allows you to add validation or logic when getting or setting attributes."
   ]
  },
  {
   "cell_type": "code",
   "execution_count": null,
   "id": "118e2d62",
   "metadata": {},
   "outputs": [
    {
     "data": {
      "text/plain": [
       "20"
      ]
     },
     "execution_count": 76,
     "metadata": {},
     "output_type": "execute_result"
    }
   ],
   "source": [
    "class Rectangle:\n",
    "    def __init__(self, length, width):\n",
    "        self.__length = length\n",
    "        self.__width = width\n",
    "        \n",
    "    @property\n",
    "    def length(self):\n",
    "        return self.__length\n",
    "    \n",
    "    @length.setter\n",
    "    def length(self, value):\n",
    "        if value<0:\n",
    "            return f'Enter a positive number'\n",
    "        else:\n",
    "            self.__length = value\n",
    "            return f'new length {self.__length} is successfully Applied.'\n",
    "        \n",
    "    @property\n",
    "    def width(self):\n",
    "        return self.__width\n",
    "    \n",
    "    @width.setter\n",
    "    def width(self, value):\n",
    "        if value<0:\n",
    "            return f'Enter a positive number'\n",
    "        else:\n",
    "            self.__width = value\n",
    "            return f'new width {self.__width} is successfully Applied.'\n",
    "        \n",
    "obj = Rectangle(10,20)\n",
    "obj.length\n",
    "obj.width\n",
    "obj.length = 20 # setter\n",
    "obj.length"
   ]
  },
  {
   "cell_type": "code",
   "execution_count": null,
   "id": "e68e7aae",
   "metadata": {},
   "outputs": [
    {
     "name": "stdout",
     "output_type": "stream",
     "text": [
      "Length : 10, width : 20\n",
      "Area : 200 sq units\n"
     ]
    },
    {
     "ename": "AttributeError",
     "evalue": "'Rectangle' object has no attribute 'length'",
     "output_type": "error",
     "traceback": [
      "\u001b[0;31m---------------------------------------------------------------------------\u001b[0m",
      "\u001b[0;31mAttributeError\u001b[0m                            Traceback (most recent call last)",
      "Cell \u001b[0;32mIn[70], line 17\u001b[0m\n\u001b[1;32m     14\u001b[0m \u001b[38;5;28mprint\u001b[39m(obj1\u001b[38;5;241m.\u001b[39marea())\n\u001b[1;32m     16\u001b[0m \u001b[38;5;66;03m#print(obj1.__length)\u001b[39;00m\n\u001b[0;32m---> 17\u001b[0m \u001b[38;5;28mprint\u001b[39m(obj1\u001b[38;5;241m.\u001b[39mlength)\n",
      "\u001b[0;31mAttributeError\u001b[0m: 'Rectangle' object has no attribute 'length'"
     ]
    }
   ],
   "source": [
    "class Rectangle:\n",
    "    def __init__(self, length, width):\n",
    "        self.__length = length\n",
    "        self.__width = width\n",
    "        \n",
    "    def dimentions(self):\n",
    "        return f'Length : {self.__length}, width : {self.__width}'\n",
    "    \n",
    "    def area(self):\n",
    "        return f'Area : {self.__length * self.__width} sq units'\n",
    "    \n",
    "obj1 = Rectangle(10,20)\n",
    "print(obj1.dimentions())\n",
    "print(obj1.area())\n",
    "\n",
    "#print(obj1.__length) Error\n",
    "print(obj1.length) # Error as these length and width fields are private\n",
    "\n"
   ]
  },
  {
   "cell_type": "markdown",
   "id": "7ff07e58",
   "metadata": {},
   "source": [
    "### Assignment 11: Abstract Base Class\n",
    "\n",
    "Create an abstract base class named `Shape` with an abstract method `area`. Create derived classes `Circle` and `Square` that implement the `area` method. Create objects of the derived classes and call the `area` method."
   ]
  },
  {
   "cell_type": "code",
   "execution_count": 77,
   "id": "292f13f5",
   "metadata": {},
   "outputs": [
    {
     "name": "stdout",
     "output_type": "stream",
     "text": [
      "Area of Circle : 314.0 sq units.\n",
      "Area of Square : 100 sq units.\n"
     ]
    }
   ],
   "source": [
    "from abc import ABC, abstractmethod\n",
    "\n",
    "class Shape(ABC):\n",
    "    @abstractmethod\n",
    "    def area(self):\n",
    "        pass\n",
    "    \n",
    "class Circle(Shape):\n",
    "    def __init__(self,redius):\n",
    "        self.__redius = redius\n",
    "        \n",
    "    def area(self):\n",
    "        return f'Area of Circle : {3.14*self.__redius*self.__redius} sq units.'\n",
    "    \n",
    "class Square(Shape):\n",
    "    def __init__(self, side):\n",
    "        self.__side = side\n",
    "        \n",
    "    def area(self):\n",
    "        return f'Area of Square : {self.__side*self.__side} sq units.'\n",
    "    \n",
    "    \n",
    "def area(shape):\n",
    "    return shape.area()\n",
    "\n",
    "circle = Circle(10)\n",
    "square = Square(10)\n",
    "\n",
    "print(area(circle))\n",
    "print(area(square))\n"
   ]
  },
  {
   "cell_type": "markdown",
   "id": "af02b821",
   "metadata": {},
   "source": []
  }
 ],
 "metadata": {
  "kernelspec": {
   "display_name": "base",
   "language": "python",
   "name": "python3"
  },
  "language_info": {
   "codemirror_mode": {
    "name": "ipython",
    "version": 3
   },
   "file_extension": ".py",
   "mimetype": "text/x-python",
   "name": "python",
   "nbconvert_exporter": "python",
   "pygments_lexer": "ipython3",
   "version": "3.11.7"
  }
 },
 "nbformat": 4,
 "nbformat_minor": 5
}
