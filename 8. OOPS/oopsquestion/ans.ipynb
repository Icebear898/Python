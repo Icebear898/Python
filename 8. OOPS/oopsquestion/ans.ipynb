{
 "cells": [
  {
   "cell_type": "markdown",
   "id": "74c38eb7",
   "metadata": {},
   "source": [
    "### Assignment 1: Polymorphism with Methods\n",
    "\n",
    "Create a base class named `Shape` with a method `area`. Create two derived classes `Circle` and `Square` that override the `area` method. Create a list of `Shape` objects and call the `area` method on each object to demonstrate polymorphism."
   ]
  },
  {
   "cell_type": "code",
   "execution_count": 3,
   "id": "8957254d",
   "metadata": {},
   "outputs": [
    {
     "name": "stdout",
     "output_type": "stream",
     "text": [
      "314.1592653589793\n",
      "100\n"
     ]
    }
   ],
   "source": [
    "import math\n",
    "class Shape:\n",
    "    def area():\n",
    "        pass\n",
    "    \n",
    "class Circle(Shape):\n",
    "    def __init__(self, radius):\n",
    "        self.radius = radius\n",
    "        \n",
    "    def area(self):\n",
    "        return math.pi * self.radius ** 2\n",
    "    \n",
    "class Square(Shape):\n",
    "    def __init__(self, side):\n",
    "        self.side = side\n",
    "        \n",
    "    def area(self):\n",
    "        return self.side ** 2\n",
    "    \n",
    "objc = Circle(10)\n",
    "print(objc.area())\n",
    "\n",
    "objs = Square(10)\n",
    "print(objs.area())"
   ]
  },
  {
   "cell_type": "markdown",
   "id": "e17c81df",
   "metadata": {},
   "source": [
    "### Assignment 2: Polymorphism with Function Arguments\n",
    "\n",
    "Create a function named `describe_shape` that takes a `Shape` object as an argument and calls its `area` method. Create objects of `Circle` and `Square` classes and pass them to the `describe_shape` function."
   ]
  },
  {
   "cell_type": "code",
   "execution_count": 6,
   "id": "dc94ddb4",
   "metadata": {},
   "outputs": [
    {
     "data": {
      "text/plain": [
       "100"
      ]
     },
     "execution_count": 6,
     "metadata": {},
     "output_type": "execute_result"
    }
   ],
   "source": [
    "def Describe_shape(shape):\n",
    "    return shape.area()\n",
    "\n",
    "Describe_shape(objc)\n",
    "Describe_shape(objs)"
   ]
  },
  {
   "cell_type": "markdown",
   "id": "5f5300c8",
   "metadata": {},
   "source": [
    "### Assignment 3: Abstract Base Class with Abstract Methods\n",
    "\n",
    "Create an abstract base class named `Vehicle` with an abstract method `start_engine`. Create derived classes `Car` and `Bike` that implement the `start_engine` method. Create objects of the derived classes and call the `start_engine` method."
   ]
  },
  {
   "cell_type": "code",
   "execution_count": 9,
   "id": "ff4c8a18",
   "metadata": {},
   "outputs": [
    {
     "data": {
      "text/plain": [
       "'Bike Engine Starting.....'"
      ]
     },
     "execution_count": 9,
     "metadata": {},
     "output_type": "execute_result"
    }
   ],
   "source": [
    "from abc import ABC, abstractmethod\n",
    "\n",
    "class Vehicle(ABC):\n",
    "    @abstractmethod\n",
    "    def start_engine(self):\n",
    "        pass\n",
    "    \n",
    "class Car(Vehicle):\n",
    "    def start_engine(self):\n",
    "        return 'Car Engine Starting.....'\n",
    "    \n",
    "class Bike(Vehicle):\n",
    "    def start_engine(self):\n",
    "        return 'Bike Engine Starting.....'\n",
    "    \n",
    "# class Truck(Vehicle): # here if any instanciatied class done not follow the abstract structure then it will cause an error.\n",
    "#     pass\n",
    "\n",
    "objc = Car()\n",
    "objb = Bike()\n",
    "# objt = Truck()\n",
    "\n",
    "objc.start_engine()\n",
    "objb.start_engine()"
   ]
  },
  {
   "cell_type": "markdown",
   "id": "270175b8",
   "metadata": {},
   "source": [
    "### Assignment 4: Abstract Base Class with Concrete Methods\n",
    "\n",
    "In the `Vehicle` class, add a concrete method `fuel_type` that returns a generic fuel type. Override this method in `Car` and `Bike` classes to return specific fuel types. Create objects of the derived classes and call the `fuel_type` method."
   ]
  },
  {
   "cell_type": "code",
   "execution_count": 11,
   "id": "9ef27d55",
   "metadata": {},
   "outputs": [
    {
     "data": {
      "text/plain": [
       "'This uses a PETROL feul'"
      ]
     },
     "execution_count": 11,
     "metadata": {},
     "output_type": "execute_result"
    }
   ],
   "source": [
    "from abc import ABC, abstractmethod\n",
    "\n",
    "class Vehicle(ABC):\n",
    "    @abstractmethod\n",
    "    def start_engine(self):\n",
    "        pass\n",
    "    \n",
    "    def fuel_type(self):\n",
    "        return \"This uses a FUEL feul\"\n",
    "    \n",
    "class Car(Vehicle):\n",
    "    def start_engine(self):\n",
    "        return 'Car Engine Starting.....'\n",
    "    \n",
    "    def fuel_type(self):\n",
    "        return \"This uses a CNG feul\"\n",
    "    \n",
    "class Bike(Vehicle):\n",
    "    def start_engine(self):\n",
    "        return 'Bike Engine Starting.....'\n",
    "    \n",
    "    def fuel_type(self):\n",
    "        return \"This uses a PETROL feul\"\n",
    "    \n",
    "# class Truck(Vehicle): # here if any instanciatied class done not follow the abstract structure then it will cause an error.\n",
    "#     pass\n",
    "\n",
    "objc = Car()\n",
    "objb = Bike()\n",
    "# objt = Truck()\n",
    "\n",
    "objc.start_engine()\n",
    "objb.start_engine()\n",
    "objc.fuel_type()\n",
    "objb.fuel_type()"
   ]
  },
  {
   "cell_type": "markdown",
   "id": "8b7a0e82",
   "metadata": {},
   "source": [
    "### Assignment 5: Encapsulation with Private Attributes\n",
    "\n",
    "Create a class named `BankAccount` with private attributes `account_number` and `balance`. Add methods to deposit and withdraw money, and to check the balance. Ensure that the balance cannot be accessed directly."
   ]
  },
  {
   "cell_type": "code",
   "execution_count": 21,
   "id": "553ddf20",
   "metadata": {},
   "outputs": [],
   "source": [
    "class BankAccount:\n",
    "    def __init__(self, account_name, balance):\n",
    "        self.__account_name = account_name\n",
    "        self.__balance = balance\n",
    "        \n",
    "    def deposite(self, amount):\n",
    "        self.__balance += amount\n",
    "        return f\"Deposited Successfully! \\nCurrent Balance : {self.__balance}\"\n",
    "    \n",
    "    def withdraw(self, amount):\n",
    "        if amount > self.__balance:\n",
    "            return \"Unable to withdraw! \\nInsufficient Funds in account\"\n",
    "        else :\n",
    "            self.__balance -= amount\n",
    "            return f\"Withdrawn Successfully! \\nCurrent Balance : {self.__balance}\"\n",
    "        \n",
    "    def check_balance(self):\n",
    "        return f'Current balance : {self.__balance}'\n",
    "    \n",
    "obj1 = BankAccount(\"Jhon deer\", 10000)"
   ]
  },
  {
   "cell_type": "code",
   "execution_count": 22,
   "id": "f089d668",
   "metadata": {},
   "outputs": [
    {
     "name": "stdout",
     "output_type": "stream",
     "text": [
      "Deposited Successfully! \n",
      "Current Balance : 11000\n"
     ]
    }
   ],
   "source": [
    "print(obj1.deposite(1000))"
   ]
  },
  {
   "cell_type": "code",
   "execution_count": 23,
   "id": "c7c38ce4",
   "metadata": {},
   "outputs": [
    {
     "name": "stdout",
     "output_type": "stream",
     "text": [
      "Unable to withdraw! \n",
      "Insufficient Funds in account\n"
     ]
    }
   ],
   "source": [
    "print(obj1.withdraw(20000))"
   ]
  },
  {
   "cell_type": "code",
   "execution_count": 24,
   "id": "0164e63d",
   "metadata": {},
   "outputs": [
    {
     "name": "stdout",
     "output_type": "stream",
     "text": [
      "Withdrawn Successfully! \n",
      "Current Balance : 10000\n"
     ]
    }
   ],
   "source": [
    "print(obj1.withdraw(1000))"
   ]
  },
  {
   "cell_type": "code",
   "execution_count": 25,
   "id": "50b3a194",
   "metadata": {},
   "outputs": [
    {
     "name": "stdout",
     "output_type": "stream",
     "text": [
      "Current balance : 10000\n"
     ]
    }
   ],
   "source": [
    "print(obj1.check_balance())"
   ]
  },
  {
   "cell_type": "markdown",
   "id": "46cc7fb7",
   "metadata": {},
   "source": [
    "### Assignment 6: Encapsulation with Property Decorators\n",
    "\n",
    "In the `BankAccount` class, use property decorators to get and set the `balance` attribute. Ensure that the balance cannot be set to a negative value."
   ]
  },
  {
   "cell_type": "code",
   "execution_count": 29,
   "id": "1f1b18a3",
   "metadata": {},
   "outputs": [],
   "source": [
    "class BankAccount:\n",
    "    def __init__(self, account_name, balance):\n",
    "        self.__account_name = account_name\n",
    "        self.__balance = balance\n",
    "        \n",
    "    @property\n",
    "    def balance(self):\n",
    "        return self.__balance\n",
    "    \n",
    "    @balance.setter\n",
    "    def balance(self, amount):\n",
    "        if amount < 0:\n",
    "            return 'Balance cant be negative'\n",
    "        \n",
    "        else:\n",
    "            self.__balance = amount\n",
    "            return self.__balance\n",
    "        \n",
    "    def deposite(self, amount):\n",
    "        self.__balance += amount\n",
    "        return f\"Deposited Successfully! \\nCurrent Balance : {self.__balance}\"\n",
    "    \n",
    "    def withdraw(self, amount):\n",
    "        if amount > self.__balance:\n",
    "            return \"Unable to withdraw! \\nInsufficient Funds in account\"\n",
    "        else :\n",
    "            self.__balance -= amount\n",
    "            return f\"Withdrawn Successfully! \\nCurrent Balance : {self.__balance}\"\n",
    "        \n",
    "    def check_balance(self):\n",
    "        return f'Current balance : {self.__balance}'\n",
    "    \n",
    "obj1 = BankAccount(\"Jhon deer\", 10000)"
   ]
  },
  {
   "cell_type": "code",
   "execution_count": 30,
   "id": "7c9563c3",
   "metadata": {},
   "outputs": [
    {
     "data": {
      "text/plain": [
       "10000"
      ]
     },
     "execution_count": 30,
     "metadata": {},
     "output_type": "execute_result"
    }
   ],
   "source": [
    "obj1.balance"
   ]
  },
  {
   "cell_type": "code",
   "execution_count": 32,
   "id": "a45f3b39",
   "metadata": {},
   "outputs": [
    {
     "data": {
      "text/plain": [
       "100"
      ]
     },
     "execution_count": 32,
     "metadata": {},
     "output_type": "execute_result"
    }
   ],
   "source": [
    "obj1.balance = 100\n",
    "obj1.balance"
   ]
  },
  {
   "cell_type": "markdown",
   "id": "e4633b4f",
   "metadata": {},
   "source": [
    "### Assignment 7: Combining Encapsulation and Inheritance\n",
    "\n",
    "Create a base class named `Person` with private attributes `name` and `age`. Add methods to get and set these attributes. Create a derived class named `Student` that adds an attribute `student_id`. Create an object of the `Student` class and test the encapsulation."
   ]
  },
  {
   "cell_type": "code",
   "execution_count": 37,
   "id": "e43490e3",
   "metadata": {},
   "outputs": [],
   "source": [
    "class Person:\n",
    "    def __init__(self, name, age):\n",
    "        self.__name = name\n",
    "        self.__age = age\n",
    "        \n",
    "    def get(self, x):\n",
    "        if x.lower() == 'name':\n",
    "            return self.__name\n",
    "        if x.lower() == 'age':\n",
    "            return self.__age\n",
    "        else:\n",
    "            return f'This does not conatins {x} attribute'\n",
    "    \n",
    "    def set(self, x, a):\n",
    "        if x.lower() == 'name':\n",
    "            if type(a) == str:\n",
    "                self.__name = a\n",
    "            else :\n",
    "                return f'Please enter a Valid name in letters.'\n",
    "            return self.__name\n",
    "        if x.lower() == 'age':\n",
    "            if type(a) == int:\n",
    "                self.__age = a\n",
    "            else :\n",
    "                return f'Please enter a Valid age in numbers.'\n",
    "            return self.__age\n",
    "        else:\n",
    "            return f'This does not conatins {x} attribute'\n",
    "    \n",
    "obj = Person('Ram', 10)"
   ]
  },
  {
   "cell_type": "code",
   "execution_count": 43,
   "id": "fb452a68",
   "metadata": {},
   "outputs": [
    {
     "data": {
      "text/plain": [
       "'Please enter a Valid name in letters.'"
      ]
     },
     "execution_count": 43,
     "metadata": {},
     "output_type": "execute_result"
    }
   ],
   "source": [
    "obj.set('name', 4)"
   ]
  },
  {
   "cell_type": "code",
   "execution_count": 41,
   "id": "c7abc2e6",
   "metadata": {},
   "outputs": [
    {
     "data": {
      "text/plain": [
       "'bam'"
      ]
     },
     "execution_count": 41,
     "metadata": {},
     "output_type": "execute_result"
    }
   ],
   "source": [
    "obj.set('name','bam')"
   ]
  },
  {
   "cell_type": "code",
   "execution_count": 42,
   "id": "476e7363",
   "metadata": {},
   "outputs": [
    {
     "data": {
      "text/plain": [
       "'bam'"
      ]
     },
     "execution_count": 42,
     "metadata": {},
     "output_type": "execute_result"
    }
   ],
   "source": [
    "obj.get('name')"
   ]
  },
  {
   "cell_type": "markdown",
   "id": "7023ecb5",
   "metadata": {},
   "source": [
    "### Assignment 8: Polymorphism with Inheritance\n",
    "\n",
    "Create a base class named `Animal` with a method `speak`. Create two derived classes `Dog` and `Cat` that override the `speak` method. Create a list of `Animal` objects and call the `speak` method on each object to demonstrate polymorphism."
   ]
  },
  {
   "cell_type": "code",
   "execution_count": 45,
   "id": "0fd4acfd",
   "metadata": {},
   "outputs": [],
   "source": [
    "class Animal:\n",
    "    def speak():\n",
    "        pass\n",
    "    \n",
    "class Dog(Animal):\n",
    "    def speak(self):\n",
    "        return 'Woof woof !'\n",
    "    \n",
    "class Cat(Animal):\n",
    "    def speak(self):\n",
    "        return 'Meow Meow'\n",
    "    \n",
    "objd = Dog()\n",
    "objc = Cat()"
   ]
  },
  {
   "cell_type": "code",
   "execution_count": 46,
   "id": "99a213f8",
   "metadata": {},
   "outputs": [
    {
     "data": {
      "text/plain": [
       "'Woof woof !'"
      ]
     },
     "execution_count": 46,
     "metadata": {},
     "output_type": "execute_result"
    }
   ],
   "source": [
    "objd.speak()"
   ]
  },
  {
   "cell_type": "code",
   "execution_count": 47,
   "id": "d9d7038d",
   "metadata": {},
   "outputs": [
    {
     "data": {
      "text/plain": [
       "'Meow Meow'"
      ]
     },
     "execution_count": 47,
     "metadata": {},
     "output_type": "execute_result"
    }
   ],
   "source": [
    "objc.speak()"
   ]
  },
  {
   "cell_type": "markdown",
   "id": "baddfdc1",
   "metadata": {},
   "source": [
    "### Assignment 9: Abstract Methods in Base Class\n",
    "\n",
    "Create an abstract base class named `Employee` with an abstract method `calculate_salary`. Create two derived classes `FullTimeEmployee` and `PartTimeEmployee` that implement the `calculate_salary` method. Create objects of the derived classes and call the `calculate_salary` method."
   ]
  },
  {
   "cell_type": "code",
   "execution_count": 48,
   "id": "6b04bff2",
   "metadata": {},
   "outputs": [],
   "source": [
    "from abc import ABC, abstractmethod\n",
    "\n",
    "class Employee(ABC):\n",
    "    @abstractmethod\n",
    "    def calculate_salary(self):\n",
    "        pass\n",
    "    \n",
    "class FullTimeEmployee(Employee):\n",
    "    def calculate_salary(self):\n",
    "        return 'The salary for full time is 1000/day'\n",
    "    \n",
    "class PartTimeEmployee(Employee):\n",
    "    def calculate_salary(self):\n",
    "        return 'The salary for part time is 100/day'\n",
    "    \n",
    "full = FullTimeEmployee()\n",
    "part = PartTimeEmployee()"
   ]
  },
  {
   "cell_type": "code",
   "execution_count": 49,
   "id": "046509eb",
   "metadata": {},
   "outputs": [
    {
     "data": {
      "text/plain": [
       "'The salary for full time is 1000/day'"
      ]
     },
     "execution_count": 49,
     "metadata": {},
     "output_type": "execute_result"
    }
   ],
   "source": [
    "full.calculate_salary()"
   ]
  },
  {
   "cell_type": "code",
   "execution_count": 50,
   "id": "731d5b5d",
   "metadata": {},
   "outputs": [
    {
     "data": {
      "text/plain": [
       "'The salary for part time is 100/day'"
      ]
     },
     "execution_count": 50,
     "metadata": {},
     "output_type": "execute_result"
    }
   ],
   "source": [
    "part.calculate_salary()"
   ]
  },
  {
   "cell_type": "markdown",
   "id": "341aa528",
   "metadata": {},
   "source": [
    "### Assignment 10: Encapsulation in Data Classes\n",
    "\n",
    "Create a data class named `Product` with private attributes `product_id`, `name`, and `price`. Add methods to get and set these attributes. Ensure that the price cannot be set to a negative value."
   ]
  },
  {
   "cell_type": "code",
   "execution_count": 56,
   "id": "252e1963",
   "metadata": {},
   "outputs": [],
   "source": [
    "class Product:\n",
    "    def __init__(self, product_id, name, price):\n",
    "        self.__product_id = product_id\n",
    "        self.__name = name\n",
    "        self.__price = price\n",
    "        \n",
    "    def get(self, x):\n",
    "        if x.lower() == 'product_id' or x.lower() == 'product id':\n",
    "            return self.__product_id\n",
    "        if x.lower() == 'name':\n",
    "            return self.__name\n",
    "        if x.lower() == 'price':\n",
    "            return self.__price\n",
    "        \n",
    "    def set(self, x, a):\n",
    "        if x.lower() == 'product_id' or x.lower() == 'product id':\n",
    "            if type(a) == int or a.isalnum():\n",
    "                self.__product_id = a\n",
    "                return self.__product_id\n",
    "            else :\n",
    "                return 'Enter a valid product_id (A Num or AlphaNumeric)'\n",
    "        if x.lower() == 'name':\n",
    "            if type(a) ==  str:\n",
    "                self.__name = a\n",
    "                return self.__name\n",
    "            else :\n",
    "                return 'Enter a valid name (String or Character)'\n",
    "        if x.lower() == 'price':\n",
    "            if type(a) ==  int:\n",
    "                if a > 0:\n",
    "                    self.__price = a\n",
    "                    return self.__price\n",
    "                else:\n",
    "                    return 'Price must be greater than 0.'\n",
    "            else :\n",
    "                return 'Enter a valid price (Number)'\n",
    "        \n",
    "p = Product(1, 'Face wash', 100)"
   ]
  },
  {
   "cell_type": "code",
   "execution_count": 55,
   "id": "33dea65b",
   "metadata": {},
   "outputs": [
    {
     "data": {
      "text/plain": [
       "'Face wash'"
      ]
     },
     "execution_count": 55,
     "metadata": {},
     "output_type": "execute_result"
    }
   ],
   "source": [
    "p.get('Name')"
   ]
  },
  {
   "cell_type": "code",
   "execution_count": 57,
   "id": "710454a8",
   "metadata": {},
   "outputs": [
    {
     "data": {
      "text/plain": [
       "200"
      ]
     },
     "execution_count": 57,
     "metadata": {},
     "output_type": "execute_result"
    }
   ],
   "source": [
    "p.set('price', 200)"
   ]
  },
  {
   "cell_type": "code",
   "execution_count": 58,
   "id": "77bb0fc2",
   "metadata": {},
   "outputs": [
    {
     "data": {
      "text/plain": [
       "200"
      ]
     },
     "execution_count": 58,
     "metadata": {},
     "output_type": "execute_result"
    }
   ],
   "source": [
    "p.get('price')"
   ]
  },
  {
   "cell_type": "markdown",
   "id": "42248e15",
   "metadata": {},
   "source": [
    "### Assignment 11: Polymorphism with Operator Overloading\n",
    "\n",
    "Create a class named `Vector` with attributes `x` and `y`. Overload the `+` operator to add two `Vector` objects. Create objects of the class and test the operator overloading.\n"
   ]
  },
  {
   "cell_type": "code",
   "execution_count": 65,
   "id": "4de6971c",
   "metadata": {},
   "outputs": [
    {
     "name": "stdout",
     "output_type": "stream",
     "text": [
      "4 6\n"
     ]
    }
   ],
   "source": [
    "class Vector:\n",
    "    def __init__(self, x, y):\n",
    "        self.x = x\n",
    "        self.y = y\n",
    "        \n",
    "    def __add__(self, other):\n",
    "        return Vector(self.x + other.x, self.y + other.y)\n",
    "    \n",
    "v1 = Vector(1,2)\n",
    "v2 = Vector(3,4)\n",
    "v3 = v1 + v2\n",
    "print(v3.x, v3.y)"
   ]
  },
  {
   "cell_type": "markdown",
   "id": "9f36676f",
   "metadata": {},
   "source": [
    "output is a tuple object"
   ]
  },
  {
   "cell_type": "code",
   "execution_count": 68,
   "id": "ba66ebb5",
   "metadata": {},
   "outputs": [
    {
     "name": "stdout",
     "output_type": "stream",
     "text": [
      "(4, 6)\n"
     ]
    }
   ],
   "source": [
    "class Vector:\n",
    "    def __init__(self, x, y):\n",
    "        self.x = x\n",
    "        self.y = y\n",
    "        \n",
    "    def __add__(self, other):\n",
    "        Vector.x = self.x + other.x\n",
    "        Vector.y = self.y + other.y\n",
    "        return Vector.x, Vector.y\n",
    "    \n",
    "v1 = Vector(1,2)\n",
    "v2 = Vector(3,4)\n",
    "v3 = v1 + v2\n",
    "print(v3)"
   ]
  },
  {
   "cell_type": "markdown",
   "id": "d1b29259",
   "metadata": {},
   "source": [
    "### Assignment 12: Abstract Properties\n",
    "\n",
    "Create an abstract base class named `Appliance` with an abstract property `power`. Create two derived classes `WashingMachine` and `Refrigerator` that implement the `power` property. Create objects of the derived classes and access the `power` property."
   ]
  },
  {
   "cell_type": "code",
   "execution_count": 73,
   "id": "05b68229",
   "metadata": {},
   "outputs": [
    {
     "data": {
      "text/plain": [
       "'300 W'"
      ]
     },
     "execution_count": 73,
     "metadata": {},
     "output_type": "execute_result"
    }
   ],
   "source": [
    "from abc import ABC\n",
    "\n",
    "class Appliance(ABC):\n",
    "    @property\n",
    "    @abstractmethod\n",
    "    def power(self):\n",
    "        pass\n",
    "    \n",
    "class WashingMachine(Appliance):\n",
    "    @property\n",
    "    def power(self):\n",
    "        return \"300 W\"\n",
    "    \n",
    "class Refrigerator(Appliance):\n",
    "    @property\n",
    "    def power(self):\n",
    "        return \"200 W\"\n",
    "    \n",
    "wm = WashingMachine()\n",
    "r = Refrigerator()\n",
    "\n",
    "wm.power"
   ]
  },
  {
   "cell_type": "markdown",
   "id": "83538f10",
   "metadata": {},
   "source": [
    "### Assignment 13: Encapsulation in Class Hierarchies\n",
    "\n",
    "Create a base class named `Account` with private attributes `account_number` and `balance`. Add methods to get and set these attributes. Create a derived class named `SavingsAccount` that adds an attribute `interest_rate`. Create an object of the `SavingsAccount` class and test the encapsulation."
   ]
  },
  {
   "cell_type": "code",
   "execution_count": null,
   "id": "e353f1e1",
   "metadata": {},
   "outputs": [
    {
     "data": {
      "text/plain": [
       "123"
      ]
     },
     "execution_count": 77,
     "metadata": {},
     "output_type": "execute_result"
    }
   ],
   "source": [
    "class Account:\n",
    "    def __init__(self, account_number, balance):\n",
    "        self.__account_number = account_number\n",
    "        self.__balance = balance\n",
    "        \n",
    "    @property\n",
    "    def account_number(self):\n",
    "        return self.__account_number\n",
    "    \n",
    "    @property\n",
    "    def balance(self):\n",
    "        return self.__balance\n",
    "    \n",
    "    @account_number.setter\n",
    "    def account_number(self, a):\n",
    "        if type(a) == int and a > 0:\n",
    "            self.__account_number = a\n",
    "            return self.__account_number\n",
    "        else:\n",
    "            return 'Enter a valid number'\n",
    "        \n",
    "    @balance.setter\n",
    "    def balance(self, a):\n",
    "        if type(a) == int and a > 0:\n",
    "            self.__balance = a\n",
    "            return self.__balance\n",
    "        else: \n",
    "            return 'enter a valid balance'\n",
    "        \n",
    "class SavingAccount(Account):\n",
    "    def __init__(self, account_number, balance, interest_rate):\n",
    "        super().__init__(account_number, balance)\n",
    "        self.interest_rate = interest_rate\n",
    "        \n",
    "objs = SavingAccount(123, 1000, 7)\n",
    "objs.account_number\n",
    "    "
   ]
  },
  {
   "cell_type": "code",
   "execution_count": 78,
   "id": "69c871f9",
   "metadata": {},
   "outputs": [
    {
     "data": {
      "text/plain": [
       "1000"
      ]
     },
     "execution_count": 78,
     "metadata": {},
     "output_type": "execute_result"
    }
   ],
   "source": [
    "objs.balance"
   ]
  },
  {
   "cell_type": "code",
   "execution_count": 80,
   "id": "77f8ce21",
   "metadata": {},
   "outputs": [],
   "source": [
    "objs.balance = 200"
   ]
  },
  {
   "cell_type": "code",
   "execution_count": 81,
   "id": "9c374e4d",
   "metadata": {},
   "outputs": [
    {
     "data": {
      "text/plain": [
       "200"
      ]
     },
     "execution_count": 81,
     "metadata": {},
     "output_type": "execute_result"
    }
   ],
   "source": [
    "objs.balance"
   ]
  },
  {
   "cell_type": "markdown",
   "id": "8b4dab89",
   "metadata": {},
   "source": [
    "### Assignment 14: Polymorphism with Multiple Inheritance\n",
    "\n",
    "Create a class named `Flyer` with a method `fly`. Create a class named `Swimmer` with a method `swim`. Create a class named `Superhero` that inherits from both `Flyer` and `Swimmer` and overrides both methods. Create an object of the `Superhero` class and call both methods."
   ]
  },
  {
   "cell_type": "code",
   "execution_count": 86,
   "id": "5c0f1a20",
   "metadata": {},
   "outputs": [
    {
     "data": {
      "text/plain": [
       "'Superhero can Fly'"
      ]
     },
     "execution_count": 86,
     "metadata": {},
     "output_type": "execute_result"
    }
   ],
   "source": [
    "class Flyer:\n",
    "    def fly(self):\n",
    "        return 'I can Fly'\n",
    "    \n",
    "class Swimmer:\n",
    "    def swim(self):\n",
    "        return 'I can Swim'\n",
    "    \n",
    "class Superhero(Flyer, Swimmer):\n",
    "    \n",
    "    def swim(self):\n",
    "        return 'Superhero can Swim'\n",
    "    \n",
    "    def fly(self):\n",
    "        return 'Superhero can Fly'\n",
    "\n",
    "su = Superhero()\n",
    "su.fly()"
   ]
  },
  {
   "cell_type": "markdown",
   "id": "24a9cc32",
   "metadata": {},
   "source": [
    "### Assignment 15: Abstract Methods and Multiple Inheritance\n",
    "\n",
    "Create an abstract base class named `Worker` with an abstract method `work`. Create two derived classes `Engineer` and `Doctor` that implement the `work` method. Create another derived class `Scientist` that inherits from both `Engineer` and `Doctor`. Create an object of the `Scientist` class and call the `work` method."
   ]
  },
  {
   "cell_type": "code",
   "execution_count": 92,
   "id": "3b157bf4",
   "metadata": {},
   "outputs": [
    {
     "data": {
      "text/plain": [
       "'I work for Medical Industry'"
      ]
     },
     "execution_count": 92,
     "metadata": {},
     "output_type": "execute_result"
    }
   ],
   "source": [
    "from abc import ABC, abstractmethod\n",
    "\n",
    "class Worker(ABC):\n",
    "    @abstractmethod\n",
    "    def work(self):\n",
    "        pass\n",
    "    \n",
    "class Engineer(Worker):\n",
    "    def work(self):\n",
    "        return 'I work for Product Industry'\n",
    "\n",
    "class Doctor(Worker):\n",
    "    def work(self):\n",
    "        return 'I work for Medical Industry'\n",
    "\n",
    "class Scientist(Engineer, Doctor):\n",
    "    def work(self):\n",
    "        return f'{Engineer.work(self)}\\n{Doctor.work(self)}'\n",
    "\n",
    "s = Scientist()\n",
    "\n",
    "s.work() # invoke the engineer's method\n",
    "\n",
    "Doctor.work(s) # invoke the doctor's method"
   ]
  },
  {
   "cell_type": "code",
   "execution_count": 94,
   "id": "723400cc",
   "metadata": {},
   "outputs": [
    {
     "name": "stdout",
     "output_type": "stream",
     "text": [
      "I work for Product Industry\n",
      "I work for Medical Industry\n"
     ]
    }
   ],
   "source": [
    "print(s.work())"
   ]
  },
  {
   "cell_type": "markdown",
   "id": "37267528",
   "metadata": {},
   "source": []
  }
 ],
 "metadata": {
  "kernelspec": {
   "display_name": "base",
   "language": "python",
   "name": "python3"
  },
  "language_info": {
   "codemirror_mode": {
    "name": "ipython",
    "version": 3
   },
   "file_extension": ".py",
   "mimetype": "text/x-python",
   "name": "python",
   "nbconvert_exporter": "python",
   "pygments_lexer": "ipython3",
   "version": "3.11.7"
  }
 },
 "nbformat": 4,
 "nbformat_minor": 5
}
