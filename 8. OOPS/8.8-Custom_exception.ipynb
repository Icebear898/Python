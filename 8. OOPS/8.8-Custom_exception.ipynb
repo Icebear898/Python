{
 "cells": [
  {
   "cell_type": "markdown",
   "id": "fe4b8db2",
   "metadata": {},
   "source": [
    "Custom Exception ( Raise and throw Error )"
   ]
  },
  {
   "cell_type": "code",
   "execution_count": null,
   "id": "388b10e0",
   "metadata": {},
   "outputs": [
    {
     "name": "stdout",
     "output_type": "stream",
     "text": [
      "Your age should be greater than 20 and less than 30\n"
     ]
    }
   ],
   "source": [
    "class Error(Exception):\n",
    "    pass\n",
    "\n",
    "class DobException(Error):\n",
    "    pass\n",
    "\n",
    "year = int(input(\"Enter Your Year of Birth : \"))\n",
    "age = 2025-year\n",
    "\n",
    "try:\n",
    "    if age>20 and age<30:\n",
    "        print('Youre eligible for registration.')\n",
    "    else:\n",
    "        raise DobException  # when ever you raise an error you should catch that error with try and catch block !\n",
    "    \n",
    "except DobException: \n",
    "    print('Your age should be greater than 20 and less than 30')"
   ]
  },
  {
   "cell_type": "markdown",
   "id": "28f70e85",
   "metadata": {},
   "source": []
  }
 ],
 "metadata": {
  "kernelspec": {
   "display_name": "base",
   "language": "python",
   "name": "python3"
  },
  "language_info": {
   "codemirror_mode": {
    "name": "ipython",
    "version": 3
   },
   "file_extension": ".py",
   "mimetype": "text/x-python",
   "name": "python",
   "nbconvert_exporter": "python",
   "pygments_lexer": "ipython3",
   "version": "3.11.7"
  }
 },
 "nbformat": 4,
 "nbformat_minor": 5
}
