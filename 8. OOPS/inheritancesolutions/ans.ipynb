{
 "cells": [
  {
   "cell_type": "markdown",
   "id": "5f055149",
   "metadata": {},
   "source": [
    "## Lesson: Single and Multiple Inheritance\n",
    "### Assignment 1: Single Inheritance Basic\n",
    "\n",
    "Create a base class named `Animal` with attributes `name` and `species`. Create a derived class named `Dog` that inherits from `Animal` and adds an attribute `breed`. Create an object of the `Dog` class and print its attributes."
   ]
  },
  {
   "cell_type": "code",
   "execution_count": 6,
   "id": "1bb99f6e",
   "metadata": {},
   "outputs": [
    {
     "name": "stdout",
     "output_type": "stream",
     "text": [
      "aloo wolf husky\n"
     ]
    }
   ],
   "source": [
    "class Animal:\n",
    "    def __init__(self, name, species):\n",
    "        self.name = name\n",
    "        self.species = species\n",
    "        \n",
    "class Dog(Animal):\n",
    "    def __init__(self, name, species, breed):\n",
    "        super().__init__(name, species)\n",
    "        self.breed = breed\n",
    "        \n",
    "        \n",
    "obj = Dog(\"aloo\",\"wolf\",\"husky\")\n",
    "print(obj.name, obj.species, obj.breed)"
   ]
  },
  {
   "cell_type": "markdown",
   "id": "f5fc2ec7",
   "metadata": {},
   "source": [
    "### Assignment 2: Method Overriding in Single Inheritance\n",
    "\n",
    "In the `Dog` class, override the `__str__` method to return a string representation of the object. Create an object of the class and print it."
   ]
  },
  {
   "cell_type": "code",
   "execution_count": 8,
   "id": "e42d804a",
   "metadata": {},
   "outputs": [
    {
     "name": "stdout",
     "output_type": "stream",
     "text": [
      "aloo wolf husky\n"
     ]
    },
    {
     "data": {
      "text/plain": [
       "'Name: aloo, Species: wolf, Breed: husky'"
      ]
     },
     "execution_count": 8,
     "metadata": {},
     "output_type": "execute_result"
    }
   ],
   "source": [
    "class Animal:\n",
    "    def __init__(self, name, species):\n",
    "        self.name = name\n",
    "        self.species = species\n",
    "        \n",
    "class Dog(Animal):\n",
    "    def __init__(self, name, species, breed):\n",
    "        super().__init__(name, species)\n",
    "        self.breed = breed\n",
    "        \n",
    "    def __str__(self):\n",
    "        return f'Name: {self.name}, Species: {self.species}, Breed: {self.breed}'\n",
    "        \n",
    "        \n",
    "obj = Dog(\"aloo\",\"wolf\",\"husky\")\n",
    "print(obj.name, obj.species, obj.breed)\n",
    "obj.__str__()"
   ]
  },
  {
   "cell_type": "markdown",
   "id": "1d2367d2",
   "metadata": {},
   "source": [
    "### Assignment 3: Single Inheritance with Additional Methods\n",
    "\n",
    "In the `Dog` class, add a method named `bark` that prints a barking sound. Create an object of the class and call the method.\n"
   ]
  },
  {
   "cell_type": "code",
   "execution_count": 10,
   "id": "0360f6de",
   "metadata": {},
   "outputs": [
    {
     "name": "stdout",
     "output_type": "stream",
     "text": [
      "aloo wolf husky\n"
     ]
    },
    {
     "data": {
      "text/plain": [
       "'aloo says woof !'"
      ]
     },
     "execution_count": 10,
     "metadata": {},
     "output_type": "execute_result"
    }
   ],
   "source": [
    "class Animal:\n",
    "    def __init__(self, name, species):\n",
    "        self.name = name\n",
    "        self.species = species\n",
    "        \n",
    "class Dog(Animal):\n",
    "    def __init__(self, name, species, breed):\n",
    "        super().__init__(name, species)\n",
    "        self.breed = breed\n",
    "        \n",
    "    def __str__(self):\n",
    "        return f'Name: {self.name}, Species: {self.species}, Breed: {self.breed}'\n",
    "    \n",
    "    def bark(self):\n",
    "        return f'{self.name} says woof !'\n",
    "        \n",
    "        \n",
    "obj = Dog(\"aloo\",\"wolf\",\"husky\")\n",
    "print(obj.name, obj.species, obj.breed)\n",
    "obj.__str__()\n",
    "obj.bark()"
   ]
  },
  {
   "cell_type": "markdown",
   "id": "3f05fb2e",
   "metadata": {},
   "source": [
    "### Assignment 4: Multiple Inheritance Basic\n",
    "\n",
    "Create a base class named `Walker` with a method `walk` that prints a walking message. Create another base class named `Runner` with a method `run` that prints a running message. Create a derived class named `Athlete` that inherits from both `Walker` and `Runner`. Create an object of the `Athlete` class and call both methods."
   ]
  },
  {
   "cell_type": "code",
   "execution_count": 14,
   "id": "a77a3597",
   "metadata": {},
   "outputs": [
    {
     "name": "stdout",
     "output_type": "stream",
     "text": [
      "I can Walk.\n",
      "I can Run.\n"
     ]
    }
   ],
   "source": [
    "class Walker:\n",
    "    def __init__(self):\n",
    "        pass\n",
    "    \n",
    "    def walk(self):\n",
    "        return 'I can Walk.'\n",
    "    \n",
    "class Runner:\n",
    "    def __init__(self):\n",
    "        pass\n",
    "    \n",
    "    def run(self):\n",
    "        return 'I can Run.'\n",
    "    \n",
    "class Athlete(Walker, Runner):\n",
    "    def __init__(self):\n",
    "        Walker.__init__(self)\n",
    "        Runner.__init__(self)\n",
    "        \n",
    "    \n",
    "obj = Athlete()\n",
    "print(obj.walk())\n",
    "print(obj.run())"
   ]
  },
  {
   "cell_type": "markdown",
   "id": "f5e35b6a",
   "metadata": {},
   "source": [
    "### Assignment 5: Method Resolution Order (MRO) in Multiple Inheritance\n",
    "\n",
    "In the `Athlete` class, override the `walk` method to print a different message. Create an object of the class and call the `walk` method. Use the `super()` function to call the `walk` method of the `Walker` class."
   ]
  },
  {
   "cell_type": "code",
   "execution_count": 19,
   "id": "ee659538",
   "metadata": {},
   "outputs": [
    {
     "name": "stdout",
     "output_type": "stream",
     "text": [
      "I can walk and run !\n",
      "I can Walk.\n",
      "None\n",
      "I can Run.\n"
     ]
    }
   ],
   "source": [
    "class Walker:\n",
    "    def __init__(self):\n",
    "        pass\n",
    "    \n",
    "    def walk(self):\n",
    "        print('I can Walk.')\n",
    "    \n",
    "class Runner:\n",
    "    def __init__(self):\n",
    "        pass\n",
    "    \n",
    "    def run(self):\n",
    "        return 'I can Run.'\n",
    "    \n",
    "class Athlete(Walker, Runner):\n",
    "    def __init__(self):\n",
    "        Walker.__init__(self)\n",
    "        Runner.__init__(self)\n",
    "        \n",
    "    def walk(self):\n",
    "        print(\"I can walk and run !\")\n",
    "        super().walk()\n",
    "        \n",
    "    \n",
    "obj = Athlete()\n",
    "print(obj.walk())\n",
    "print(obj.run())"
   ]
  },
  {
   "cell_type": "markdown",
   "id": "521337b8",
   "metadata": {},
   "source": [
    "### Assignment 6: Multiple Inheritance with Additional Attributes\n",
    "\n",
    "In the `Athlete` class, add an attribute `training_hours` and a method `train` that prints the training hours. Create an object of the class and call the method."
   ]
  },
  {
   "cell_type": "code",
   "execution_count": 20,
   "id": "c927bbbd",
   "metadata": {},
   "outputs": [
    {
     "name": "stdout",
     "output_type": "stream",
     "text": [
      "Training Hours : 4\n"
     ]
    }
   ],
   "source": [
    "class Athlete(Walker, Runner):\n",
    "    def __init__(self, training_hours):\n",
    "        Walker.__init__(self)\n",
    "        Runner.__init__(self)\n",
    "        self.training_hours = training_hours\n",
    "        \n",
    "    def walk(self):\n",
    "        print(\"I can walk and run !\")\n",
    "        super().walk()\n",
    "        \n",
    "    def train(self):\n",
    "        return f'Training Hours : {self.training_hours}'\n",
    "    \n",
    "obj = Athlete(4)\n",
    "print(obj.train())"
   ]
  },
  {
   "cell_type": "markdown",
   "id": "82507345",
   "metadata": {},
   "source": [
    "### Assignment 7: Diamond Problem in Multiple Inheritance\n",
    "\n",
    "Create a class named `A` with a method `show` that prints a message. Create two derived classes `B` and `C` that inherit from `A` and override the `show` method. Create a class `D` that inherits from both `B` and `C`. Create an object of the `D` class and call the `show` method. Observe the method resolution order."
   ]
  },
  {
   "cell_type": "code",
   "execution_count": 27,
   "id": "21905483",
   "metadata": {},
   "outputs": [
    {
     "data": {
      "text/plain": [
       "'C'"
      ]
     },
     "execution_count": 27,
     "metadata": {},
     "output_type": "execute_result"
    }
   ],
   "source": [
    "class A:\n",
    "    def show(self):\n",
    "        return \"A\"\n",
    "    \n",
    "class B(A):\n",
    "    def show(self):\n",
    "        return \"B\"\n",
    "    \n",
    "class C(A):\n",
    "    def show(self):\n",
    "        return \"C\"\n",
    "    \n",
    "class D(B,C): # B will be first then C because of MRO ( Method Resoulution Order )\n",
    "    pass\n",
    "\n",
    "pbj = D()\n",
    "pbj.show() # B.show()\n",
    "C.show(pbj)\n",
    "\n",
    "#print(D.__mro__) # show order "
   ]
  },
  {
   "cell_type": "markdown",
   "id": "9f4ecf5c",
   "metadata": {},
   "source": [
    "### Assignment 8: Using `super()` in Single Inheritance\n",
    "\n",
    "Create a base class named `Shape` with an attribute `color`. Create a derived class named `Circle` that inherits from `Shape` and adds an attribute `radius`. Use the `super()` function to initialize the attributes. Create an object of the `Circle` class and print its attributes."
   ]
  },
  {
   "cell_type": "code",
   "execution_count": 29,
   "id": "bffb9e4d",
   "metadata": {},
   "outputs": [
    {
     "data": {
      "text/plain": [
       "'blue'"
      ]
     },
     "execution_count": 29,
     "metadata": {},
     "output_type": "execute_result"
    }
   ],
   "source": [
    "class Shape:\n",
    "    def __init__(self, color):\n",
    "        self.color = color\n",
    "        \n",
    "class Circle(Shape):\n",
    "    def __init__(self, color, radius):\n",
    "        super().__init__(color)\n",
    "        self.radius = radius\n",
    "        \n",
    "obj = Circle(\"blue\", 100)\n",
    "obj.color"
   ]
  },
  {
   "cell_type": "markdown",
   "id": "29227943",
   "metadata": {},
   "source": [
    "### Assignment 9: Using `super()` in Multiple Inheritance\n",
    "\n",
    "Create a class named `Person` with an attribute `name`. Create a class named `Employee` with an attribute `employee_id`. Create a derived class `Manager` that inherits from both `Person` and `Employee`. Use the `super()` function to initialize the attributes. Create an object of the `Manager` class and print its attributes."
   ]
  },
  {
   "cell_type": "code",
   "execution_count": null,
   "id": "aa8203ca",
   "metadata": {},
   "outputs": [
    {
     "data": {
      "text/plain": [
       "'tete'"
      ]
     },
     "execution_count": 32,
     "metadata": {},
     "output_type": "execute_result"
    }
   ],
   "source": [
    "class Person:\n",
    "    def __init__(self, name):\n",
    "        self.name = name\n",
    "        \n",
    "class Employee:\n",
    "    def __init__(self, employee_id):\n",
    "        self.employee_id = employee_id\n",
    "        \n",
    "class Manager(Person, Employee):\n",
    "    def __init__(self, name, employee_id): # as per mro person is the super parent class\n",
    "        super().__init__(name) # when ever you use super method we dont use self \n",
    "        Employee.__init__(self,employee_id)\n",
    "        \n",
    "        \n",
    "o = Manager(\"tete\", 1)\n",
    "o.name"
   ]
  },
  {
   "cell_type": "markdown",
   "id": "21c9fcdb",
   "metadata": {},
   "source": [
    "### Assignment 10: Method Overriding and `super()`\n",
    "\n",
    "Create a class named `Vehicle` with a method `start` that prints a starting message. Create a derived class `Car` that overrides the `start` method to print a different message. Use the `super()` function to call the `start` method of the `Vehicle` class. Create an object of the `Car` class and call the `start` method."
   ]
  },
  {
   "cell_type": "code",
   "execution_count": 35,
   "id": "e301e479",
   "metadata": {},
   "outputs": [
    {
     "name": "stdout",
     "output_type": "stream",
     "text": [
      "Vehicle is Starting.....\n",
      "Car is Starting.....\n",
      "None\n"
     ]
    }
   ],
   "source": [
    "class Vehicle:\n",
    "    def start(self):\n",
    "        print('Vehicle is Starting.....')\n",
    "    \n",
    "class Car(Vehicle):\n",
    "    def start(self):\n",
    "        super().start()\n",
    "        print('Car is Starting.....')\n",
    "        \n",
    "        \n",
    "        \n",
    "c = Car()\n",
    "print(c.start())"
   ]
  },
  {
   "cell_type": "markdown",
   "id": "c83cbcf9",
   "metadata": {},
   "source": [
    "### Assignment 11: Multiple Inheritance with Different Methods\n",
    "\n",
    "Create a class named `Flyer` with a method `fly` that prints a flying message. Create a class named `Swimmer` with a method `swim` that prints a swimming message. Create a derived class `Superhero` that inherits from both `Flyer` and `Swimmer`. Create an object of the `Superhero` class and call both methods."
   ]
  },
  {
   "cell_type": "code",
   "execution_count": 39,
   "id": "8ed5936d",
   "metadata": {},
   "outputs": [
    {
     "name": "stdout",
     "output_type": "stream",
     "text": [
      "I can Fly....\n",
      "I can Swim....\n"
     ]
    }
   ],
   "source": [
    "class Flyer:\n",
    "    def fly(self):\n",
    "        print('I can Fly....')\n",
    "        \n",
    "class Swimmer:\n",
    "    def swim(self):\n",
    "        print('I can Swim....')\n",
    "        \n",
    "class Superhero(Flyer, Swimmer):\n",
    "    pass\n",
    "\n",
    "s = Superhero()\n",
    "s.fly()\n",
    "s.swim()"
   ]
  },
  {
   "cell_type": "markdown",
   "id": "be750e12",
   "metadata": {},
   "source": [
    "### Assignment 12: Complex Multiple Inheritance\n",
    "\n",
    "Create a class named `Base1` with an attribute `a`. Create a class named `Base2` with an attribute `b`. Create a class named `Derived` that inherits from both `Base1` and `Base2` and adds an attribute `c`. Initialize all attributes using the `super()` function. Create an object of the `Derived` class and print its attributes."
   ]
  },
  {
   "cell_type": "code",
   "execution_count": 41,
   "id": "1af0ca3b",
   "metadata": {},
   "outputs": [
    {
     "data": {
      "text/plain": [
       "1"
      ]
     },
     "execution_count": 41,
     "metadata": {},
     "output_type": "execute_result"
    }
   ],
   "source": [
    "class Base1:\n",
    "    def __init__(self, a):\n",
    "        self.a = a\n",
    "        \n",
    "class Base2:\n",
    "    def __init__(self, b):\n",
    "        self.b = b\n",
    "        \n",
    "class Derived(Base1, Base2):\n",
    "    def __init__(self, a, b, c):\n",
    "        super().__init__(a)\n",
    "        Base2.__init__(self, b)\n",
    "        self.c = C\n",
    "        \n",
    "        \n",
    "o = Derived(1,2,3)\n",
    "o.a"
   ]
  },
  {
   "cell_type": "markdown",
   "id": "d7ebb548",
   "metadata": {},
   "source": [
    "### Assignment 13: Checking Instance Types with Inheritance\n",
    "\n",
    "Create a base class named `Animal` and a derived class named `Cat`. Create objects of both classes and use the `isinstance` function to check the instance types."
   ]
  },
  {
   "cell_type": "markdown",
   "id": "cba94473",
   "metadata": {},
   "source": [
    "The isinstance() function in Python checks if an object is an instance of a specified class or a subclass thereof.\n",
    "\n",
    "isinstance(obj, class)"
   ]
  },
  {
   "cell_type": "code",
   "execution_count": 46,
   "id": "6eddd414",
   "metadata": {},
   "outputs": [
    {
     "name": "stdout",
     "output_type": "stream",
     "text": [
      "True\n",
      "False\n",
      "True\n",
      "True\n"
     ]
    }
   ],
   "source": [
    "class Animal:\n",
    "    pass\n",
    "class Cat(Animal):\n",
    "    pass\n",
    "\n",
    "a = Animal()\n",
    "c = Cat()\n",
    "\n",
    "print(isinstance(a, Animal))\n",
    "print(isinstance(a, Cat))\n",
    "print(isinstance(c, Animal))\n",
    "print(isinstance(c, Cat))"
   ]
  },
  {
   "cell_type": "markdown",
   "id": "35dc58f3",
   "metadata": {},
   "source": [
    "### Assignment 14: Polymorphism with Inheritance\n",
    "\n",
    "Create a base class named `Bird` with a method `speak`. Create two derived classes `Parrot` and `Penguin` that override the `speak` method. Create a list of `Bird` objects and call the `speak` method on each object to demonstrate polymorphism."
   ]
  },
  {
   "cell_type": "code",
   "execution_count": 47,
   "id": "6d4bc928",
   "metadata": {},
   "outputs": [
    {
     "name": "stdout",
     "output_type": "stream",
     "text": [
      "Mithu mithu\n",
      "Hello Im Penguin\n"
     ]
    }
   ],
   "source": [
    "class Bird:\n",
    "    def speak(self):\n",
    "        return 'Im Bird'\n",
    "    \n",
    "class Parrot(Bird):\n",
    "    def speak(self):\n",
    "        return 'Mithu mithu'\n",
    "    \n",
    "class Penguin(Bird):\n",
    "    def speak(self):\n",
    "        return 'Hello Im Penguin'\n",
    "    \n",
    "p = Parrot()\n",
    "pe = Penguin()\n",
    "l = [p, pe]\n",
    "for i in l:\n",
    "    print(i.speak())"
   ]
  },
  {
   "cell_type": "markdown",
   "id": "8f4671fc",
   "metadata": {},
   "source": [
    "### Assignment 15: Combining Single and Multiple Inheritance\n",
    "\n",
    "Create a base class named `Device` with an attribute `brand`. Create a derived class `Phone` that inherits from `Device` and adds an attribute `model`. Create another base class `Camera` with an attribute `resolution`. Create a derived class `Smartphone` that inherits from both `Phone` and `Camera`. Create an object of the `Smartphone` class and print its attributes."
   ]
  },
  {
   "cell_type": "code",
   "execution_count": 49,
   "id": "c0c7bfdb",
   "metadata": {},
   "outputs": [
    {
     "data": {
      "text/plain": [
       "'Oneplus'"
      ]
     },
     "execution_count": 49,
     "metadata": {},
     "output_type": "execute_result"
    }
   ],
   "source": [
    "class Device:\n",
    "    def __init__(self, brand):\n",
    "        self.brand = brand\n",
    "        \n",
    "class Phone(Device):\n",
    "    def __init__(self, brand, model):\n",
    "        super().__init__(brand)\n",
    "        self.model = model\n",
    "        \n",
    "class Camera:\n",
    "    def __init__(self, resolution):\n",
    "        self.resolution = resolution\n",
    "        \n",
    "class Smartphone(Phone, Camera):\n",
    "    def __init__(self, brand, model, resolution):\n",
    "        super().__init__(brand, model)\n",
    "        Camera.__init__(self, resolution)\n",
    "        \n",
    "s = Smartphone('Oneplus', '11', '50 MP') \n",
    "s.brand"
   ]
  },
  {
   "cell_type": "markdown",
   "id": "82df7c41",
   "metadata": {},
   "source": []
  }
 ],
 "metadata": {
  "kernelspec": {
   "display_name": "base",
   "language": "python",
   "name": "python3"
  },
  "language_info": {
   "codemirror_mode": {
    "name": "ipython",
    "version": 3
   },
   "file_extension": ".py",
   "mimetype": "text/x-python",
   "name": "python",
   "nbconvert_exporter": "python",
   "pygments_lexer": "ipython3",
   "version": "3.11.7"
  }
 },
 "nbformat": 4,
 "nbformat_minor": 5
}
