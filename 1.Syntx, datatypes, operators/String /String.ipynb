{
 "cells": [
  {
   "cell_type": "markdown",
   "metadata": {},
   "source": [
    " A string in Python is a sequence of characters used to represent text. Strings can include letters, numbers, symbols, and even spaces, and they are enclosed in either single quotes ('), double quotes (\"), or triple quotes (''' or \"\"\")."
   ]
  },
  {
   "cell_type": "markdown",
   "metadata": {},
   "source": [
    "    1.\tStrings are immutable:\n",
    "•\tOnce created, a string cannot be changed."
   ]
  },
  {
   "cell_type": "code",
   "execution_count": 1,
   "metadata": {},
   "outputs": [
    {
     "ename": "TypeError",
     "evalue": "'str' object does not support item assignment",
     "output_type": "error",
     "traceback": [
      "\u001b[0;31m---------------------------------------------------------------------------\u001b[0m",
      "\u001b[0;31mTypeError\u001b[0m                                 Traceback (most recent call last)",
      "Cell \u001b[0;32mIn[1], line 2\u001b[0m\n\u001b[1;32m      1\u001b[0m text \u001b[39m=\u001b[39m \u001b[39m\"\u001b[39m\u001b[39mPython\u001b[39m\u001b[39m\"\u001b[39m\n\u001b[0;32m----> 2\u001b[0m text[\u001b[39m0\u001b[39;49m] \u001b[39m=\u001b[39m \u001b[39m\"\u001b[39m\u001b[39mJ\u001b[39m\u001b[39m\"\u001b[39m  \u001b[39m# Error: Strings are immutable\u001b[39;00m\n",
      "\u001b[0;31mTypeError\u001b[0m: 'str' object does not support item assignment"
     ]
    }
   ],
   "source": [
    "text = \"Python\"\n",
    "text[0] = \"J\"  # Error: Strings are immutable"
   ]
  },
  {
   "cell_type": "markdown",
   "metadata": {},
   "source": []
  },
  {
   "cell_type": "markdown",
   "metadata": {},
   "source": [
    "\t2.\tStrings are iterable:\n",
    "•\tYou can loop through each character."
   ]
  },
  {
   "cell_type": "code",
   "execution_count": 2,
   "metadata": {},
   "outputs": [
    {
     "name": "stdout",
     "output_type": "stream",
     "text": [
      "P\n",
      "y\n",
      "t\n",
      "h\n",
      "o\n",
      "n\n"
     ]
    }
   ],
   "source": [
    "for char in \"Python\":\n",
    "    print(char)"
   ]
  },
  {
   "cell_type": "markdown",
   "metadata": {},
   "source": [
    "\t3.\tIndexing and slicing:\n",
    "•\tAccess specific characters or parts of a string."
   ]
  },
  {
   "cell_type": "code",
   "execution_count": 3,
   "metadata": {},
   "outputs": [
    {
     "name": "stdout",
     "output_type": "stream",
     "text": [
      "H\n",
      "!\n",
      "Python\n"
     ]
    }
   ],
   "source": [
    "text = \"Hello, Python!\"\n",
    "print(text[0])    # Output: H (first character)\n",
    "print(text[-1])   # Output: ! (last character)\n",
    "print(text[7:13]) # Output: Python (slice from index 7 to 12)"
   ]
  },
  {
   "cell_type": "markdown",
   "metadata": {},
   "source": [
    "        Common String Operations"
   ]
  },
  {
   "cell_type": "markdown",
   "metadata": {},
   "source": [
    "    1.\tConcatenation:\n",
    "Combine two or more strings using the + operator."
   ]
  },
  {
   "cell_type": "code",
   "execution_count": 4,
   "metadata": {},
   "outputs": [
    {
     "name": "stdout",
     "output_type": "stream",
     "text": [
      "Hello, World!\n"
     ]
    }
   ],
   "source": [
    "greeting = \"Hello\" + \", \" + \"World!\"\n",
    "print(greeting)  # Output: Hello, World!"
   ]
  },
  {
   "cell_type": "markdown",
   "metadata": {},
   "source": [
    "\t2.\tRepetition:\n",
    "Repeat a string using the * operator."
   ]
  },
  {
   "cell_type": "code",
   "execution_count": 5,
   "metadata": {},
   "outputs": [
    {
     "name": "stdout",
     "output_type": "stream",
     "text": [
      "Hi! Hi! Hi! \n"
     ]
    }
   ],
   "source": [
    "echo = \"Hi! \" * 3\n",
    "print(echo)  # Output: Hi! Hi! Hi! "
   ]
  },
  {
   "cell_type": "markdown",
   "metadata": {},
   "source": [
    "\t3.\tLength:\n",
    "Use len() to find the number of characters in a string."
   ]
  },
  {
   "cell_type": "code",
   "execution_count": 6,
   "metadata": {},
   "outputs": [
    {
     "name": "stdout",
     "output_type": "stream",
     "text": [
      "6\n"
     ]
    }
   ],
   "source": [
    "text = \"Python\"\n",
    "print(len(text))  # Output: 6"
   ]
  },
  {
   "cell_type": "markdown",
   "metadata": {},
   "source": [
    "    String Operations/Methods"
   ]
  },
  {
   "cell_type": "markdown",
   "metadata": {},
   "source": [
    "\t1. .join()\n",
    "\n",
    "•\tDescription: Combines elements of an iterable (like a list or tuple) into a single string, using a string as the separator.\n",
    "\n",
    "•\tSyntax: separator.join(iterable)"
   ]
  },
  {
   "cell_type": "code",
   "execution_count": 7,
   "metadata": {},
   "outputs": [
    {
     "name": "stdout",
     "output_type": "stream",
     "text": [
      "Python is fun\n"
     ]
    }
   ],
   "source": [
    "words = [\"Python\", \"is\", \"fun\"]\n",
    "sentence = \" \".join(words)  # Join with a space\n",
    "print(sentence)  # Output: Python is fun"
   ]
  },
  {
   "cell_type": "markdown",
   "metadata": {},
   "source": [
    "    2. split()\n",
    "\n",
    "•\tDescription: Splits a string into a list based on a specified delimiter.\n",
    "\n",
    "•\tSyntax: string.split(separator, maxsplit)\n",
    "\n",
    "•\tseparator: The delimiter used to split the string (default is whitespace).\n",
    "\n",
    "•\tmaxsplit: Optional; the maximum number of splits."
   ]
  },
  {
   "cell_type": "code",
   "execution_count": 8,
   "metadata": {},
   "outputs": [
    {
     "name": "stdout",
     "output_type": "stream",
     "text": [
      "['Python', 'is', 'amazing']\n"
     ]
    }
   ],
   "source": [
    "text = \"Python is amazing\"\n",
    "words = text.split()  # Splits by spaces\n",
    "print(words)  # Output: ['Python', 'is', 'amazing']"
   ]
  },
  {
   "cell_type": "markdown",
   "metadata": {},
   "source": [
    "    3. .replace()\n",
    "\n",
    "•\tDescription: Replaces occurrences of a substring with another substring.\n",
    "\n",
    "•\tSyntax: string.replace(old, new, count)\n",
    "\n",
    "•\told: The substring to be replaced.\n",
    "\n",
    "•\tnew: The substring to replace with.\n",
    "\n",
    "•\tcount: Optional; the maximum number of replacements.\n"
   ]
  },
  {
   "cell_type": "code",
   "execution_count": 9,
   "metadata": {},
   "outputs": [
    {
     "name": "stdout",
     "output_type": "stream",
     "text": [
      "Programming is fun. Python is easy.\n"
     ]
    }
   ],
   "source": [
    "text = \"Python is fun. Python is easy.\"\n",
    "new_text = text.replace(\"Python\", \"Programming\", 1)\n",
    "print(new_text)  # Output: Programming is fun. Python is easy."
   ]
  },
  {
   "cell_type": "markdown",
   "metadata": {},
   "source": [
    "    4. .strip(), .lstrip(), .rstrip()\n",
    "\n",
    "•\tDescription: Removes leading and/or trailing characters (default is whitespace)."
   ]
  },
  {
   "cell_type": "markdown",
   "metadata": {},
   "source": [
    ".strip():\n",
    "\n",
    "•\tRemoves both leading and trailing characters."
   ]
  },
  {
   "cell_type": "code",
   "execution_count": 10,
   "metadata": {},
   "outputs": [
    {
     "name": "stdout",
     "output_type": "stream",
     "text": [
      "Hello World\n"
     ]
    }
   ],
   "source": [
    "text = \"  Hello World  \"\n",
    "print(text.strip())  # Output: Hello World"
   ]
  },
  {
   "cell_type": "markdown",
   "metadata": {},
   "source": [
    ".lstrip():\n",
    "\n",
    "•\tRemoves only leading characters."
   ]
  },
  {
   "cell_type": "code",
   "execution_count": 11,
   "metadata": {},
   "outputs": [
    {
     "name": "stdout",
     "output_type": "stream",
     "text": [
      "Hello World  \n"
     ]
    }
   ],
   "source": [
    "text = \"  Hello World  \"\n",
    "print(text.lstrip())  # Output: Hello World  "
   ]
  },
  {
   "cell_type": "markdown",
   "metadata": {},
   "source": [
    ".rstrip():\n",
    "\n",
    "•\tRemoves only trailing characters."
   ]
  },
  {
   "cell_type": "code",
   "execution_count": 12,
   "metadata": {},
   "outputs": [
    {
     "name": "stdout",
     "output_type": "stream",
     "text": [
      "  Hello World\n"
     ]
    }
   ],
   "source": [
    "text = \"  Hello World  \"\n",
    "print(text.rstrip())  # Output:   Hello World"
   ]
  },
  {
   "cell_type": "markdown",
   "metadata": {},
   "source": [
    "    5. .startswith() and .endswith()\n",
    "\n",
    "•\tDescription: Check if a string starts or ends with a specific substring.\n"
   ]
  },
  {
   "cell_type": "code",
   "execution_count": 13,
   "metadata": {},
   "outputs": [
    {
     "name": "stdout",
     "output_type": "stream",
     "text": [
      "True\n",
      "True\n"
     ]
    }
   ],
   "source": [
    "text = \"Hello, World!\"\n",
    "print(text.startswith(\"Hello\"))  # Output: True\n",
    "print(text.endswith(\"World!\"))   # Output: True"
   ]
  },
  {
   "cell_type": "markdown",
   "metadata": {},
   "source": [
    "    6. .upper(), .lower(), .capitalize(), .title(), .swapcase()\n",
    "\n",
    "•\tDescription: Modify the case of a string.\n"
   ]
  },
  {
   "cell_type": "code",
   "execution_count": 14,
   "metadata": {},
   "outputs": [
    {
     "name": "stdout",
     "output_type": "stream",
     "text": [
      "HELLO PYTHON\n",
      "hello python\n",
      "Hello python\n",
      "Hello Python\n",
      "HELLO pYTHON\n"
     ]
    }
   ],
   "source": [
    "text = \"hello Python\"\n",
    "print(text.upper())       # Output: HELLO PYTHON\n",
    "print(text.lower())       # Output: hello python\n",
    "print(text.capitalize())  # Output: Hello python\n",
    "print(text.title())       # Output: Hello Python\n",
    "print(text.swapcase())    # Output: HELLO pYTHON"
   ]
  },
  {
   "cell_type": "markdown",
   "metadata": {},
   "source": [
    "    7. .find() and .index()\n",
    "\n",
    "•\tDescription: Search for a substring in a string."
   ]
  },
  {
   "cell_type": "markdown",
   "metadata": {},
   "source": [
    ".find():\n",
    "\n",
    "•\tReturns the index of the first occurrence (or -1 if not found)."
   ]
  },
  {
   "cell_type": "code",
   "execution_count": 15,
   "metadata": {},
   "outputs": [
    {
     "name": "stdout",
     "output_type": "stream",
     "text": [
      "7\n"
     ]
    }
   ],
   "source": [
    "text = \"Python is fun\"\n",
    "print(text.find(\"is\"))  # Output: 7"
   ]
  },
  {
   "cell_type": "markdown",
   "metadata": {},
   "source": [
    ".index():\n",
    "\n",
    "•\tSimilar to .find() but raises an error if not found."
   ]
  },
  {
   "cell_type": "code",
   "execution_count": 16,
   "metadata": {},
   "outputs": [
    {
     "name": "stdout",
     "output_type": "stream",
     "text": [
      "7\n"
     ]
    }
   ],
   "source": [
    "text = \"Python is fun\"\n",
    "print(text.index(\"is\"))  # Output: 7"
   ]
  },
  {
   "cell_type": "markdown",
   "metadata": {},
   "source": [
    "    8. .count()\n",
    "\n",
    "•\tDescription: Counts the occurrences of a substring in a string."
   ]
  },
  {
   "cell_type": "code",
   "execution_count": 17,
   "metadata": {},
   "outputs": [
    {
     "name": "stdout",
     "output_type": "stream",
     "text": [
      "2\n"
     ]
    }
   ],
   "source": [
    "text = \"Python is fun. Python is easy.\"\n",
    "print(text.count(\"Python\"))  # Output: 2"
   ]
  },
  {
   "cell_type": "markdown",
   "metadata": {},
   "source": [
    "    9. .isdigit(), .isalpha(), .isalnum()\n",
    "\n",
    "•\tDescription: Check the nature of a string’s contents.\n"
   ]
  },
  {
   "cell_type": "code",
   "execution_count": 18,
   "metadata": {},
   "outputs": [
    {
     "name": "stdout",
     "output_type": "stream",
     "text": [
      "True\n",
      "True\n",
      "True\n"
     ]
    }
   ],
   "source": [
    "print(\"123\".isdigit())   # Output: True\n",
    "print(\"abc\".isalpha())   # Output: True\n",
    "print(\"abc123\".isalnum())  # Output: True"
   ]
  },
  {
   "cell_type": "code",
   "execution_count": null,
   "metadata": {},
   "outputs": [],
   "source": []
  }
 ],
 "metadata": {
  "kernelspec": {
   "display_name": "Python 3",
   "language": "python",
   "name": "python3"
  },
  "language_info": {
   "codemirror_mode": {
    "name": "ipython",
    "version": 3
   },
   "file_extension": ".py",
   "mimetype": "text/x-python",
   "name": "python",
   "nbconvert_exporter": "python",
   "pygments_lexer": "ipython3",
   "version": "3.10.0"
  },
  "orig_nbformat": 4
 },
 "nbformat": 4,
 "nbformat_minor": 2
}
