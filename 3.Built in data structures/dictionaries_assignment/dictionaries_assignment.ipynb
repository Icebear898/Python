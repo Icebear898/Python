{
 "cells": [
  {
   "cell_type": "markdown",
   "metadata": {},
   "source": [
    "# Module 3: Data Structures Assignments\n",
    "## Lesson 3.4: Dictionaries\n",
    "### Assignment 1: Creating and Accessing Dictionaries\n",
    "\n",
    "Create a dictionary with the first 10 positive integers as keys and their squares as values. Print the dictionary.\n",
    "\n",
    "### Assignment 2: Accessing Dictionary Elements\n",
    "\n",
    "Print the value of the key 5 and the keys of the dictionary created in Assignment 1.\n",
    "\n",
    "### Assignment 3: Dictionary Methods\n",
    "\n",
    "Add a new key-value pair (11, 121) to the dictionary created in Assignment 1 and then remove the key-value pair with key 1. Print the modified dictionary.\n",
    "\n",
    "### Assignment 4: Iterating Over Dictionaries\n",
    "\n",
    "Iterate over the dictionary created in Assignment 1 and print each key-value pair.\n",
    "\n",
    "### Assignment 5: Dictionary Comprehensions\n",
    "\n",
    "Create a new dictionary containing the cubes of the first 10 positive integers using a dictionary comprehension. Print the new dictionary.\n",
    "\n",
    "### Assignment 6: Merging Dictionaries\n",
    "\n",
    "Create two dictionaries: one with keys as the first 5 positive integers and values as their squares, and another with keys as the next 5 positive integers and values as their squares. Merge these dictionaries into a single dictionary and print it.\n",
    "\n",
    "### Assignment 7: Nested Dictionaries\n",
    "\n",
    "Create a nested dictionary representing a student with keys 'name', 'age', 'grades', where 'grades' is another dictionary with keys 'math', 'science', and 'english'. Print the nested dictionary.\n",
    "\n",
    "### Assignment 8: Dictionary of Lists\n",
    "\n",
    "Create a dictionary where the keys are the first 5 positive integers and the values are lists containing the first 5 multiples of the key. Print the dictionary.\n",
    "\n",
    "### Assignment 9: Dictionary of Tuples\n",
    "\n",
    "Create a dictionary where the keys are the first 5 positive integers and the values are tuples containing the key and its square. Print the dictionary.\n",
    "\n",
    "### Assignment 10: Dictionary and List Conversion\n",
    "\n",
    "Create a dictionary with the first 5 positive integers as keys and their squares as values. Convert the dictionary to a list of tuples and print it.\n",
    "\n",
    "### Assignment 11: Dictionary Filtering\n",
    "\n",
    "Create a dictionary with the first 10 positive integers as keys and their squares as values. Create a new dictionary containing only the key-value pairs where the key is even. Print the new dictionary.\n",
    "\n",
    "### Assignment 12: Dictionary Key and Value Transformation\n",
    "\n",
    "Create a dictionary with the first 5 positive integers as keys and their squares as values. Create a new dictionary with keys and values swapped. Print the new dictionary.\n",
    "\n",
    "### Assignment 13: Default Dictionary\n",
    "\n",
    "Create a default dictionary where each key has a default value of an empty list. Add some elements to the lists and print the dictionary.\n",
    "\n",
    "### Assignment 14: Counting with Dictionaries\n",
    "\n",
    "Write a function that takes a string and returns a dictionary with the count of each character in the string. Print the dictionary.\n",
    "\n",
    "### Assignment 15: Dictionary and JSON\n",
    "\n",
    "Create a dictionary representing a book with keys 'title', 'author', 'year', and 'genre'. Convert the dictionary to a JSON string and print it."
   ]
  },
  {
   "cell_type": "markdown",
   "id": "3e469c51",
   "metadata": {},
   "source": [
    "### Assignment 1: Creating and Accessing Dictionaries\n",
    "\n",
    "Create a dictionary with the first 10 positive integers as keys and their squares as values. Print the dictionary.\n"
   ]
  },
  {
   "cell_type": "code",
   "execution_count": 1,
   "metadata": {},
   "outputs": [
    {
     "name": "stdout",
     "output_type": "stream",
     "text": [
      "{1: 1, 2: 4, 3: 9, 4: 16, 5: 25, 6: 36, 7: 49, 8: 64, 9: 81, 10: 100}\n"
     ]
    }
   ],
   "source": [
    "dict1 = {x:x**2 for x in range(1,11)}\n",
    "print(dict1)"
   ]
  },
  {
   "cell_type": "markdown",
   "id": "c6edaf0c",
   "metadata": {},
   "source": [
    "### Assignment 2: Accessing Dictionary Elements\n",
    "\n",
    "Print the value of the key 5 and the keys of the dictionary created in Assignment 1."
   ]
  },
  {
   "cell_type": "code",
   "execution_count": 5,
   "id": "853258b4",
   "metadata": {},
   "outputs": [
    {
     "name": "stdout",
     "output_type": "stream",
     "text": [
      "25\n",
      "dict_keys([1, 2, 3, 4, 5, 6, 7, 8, 9, 10])\n"
     ]
    }
   ],
   "source": [
    "print(dict1[5])\n",
    "print(dict1.keys())"
   ]
  },
  {
   "cell_type": "markdown",
   "id": "e4f60802",
   "metadata": {},
   "source": [
    "### Assignment 3: Dictionary Methods\n",
    "\n",
    "Add a new key-value pair (11, 121) to the dictionary created in Assignment 1 and then remove the key-value pair with key 1. Print the modified dictionary."
   ]
  },
  {
   "cell_type": "code",
   "execution_count": 9,
   "id": "f52bbbfa",
   "metadata": {},
   "outputs": [
    {
     "name": "stdout",
     "output_type": "stream",
     "text": [
      "{1: 1, 2: 4, 3: 9, 4: 16, 5: 25, 6: 36, 7: 49, 8: 64, 9: 81, 10: 100, 11: 121}\n",
      "{2: 4, 3: 9, 4: 16, 5: 25, 6: 36, 7: 49, 8: 64, 9: 81, 10: 100, 11: 121}\n"
     ]
    }
   ],
   "source": [
    "dict1[11]=121\n",
    "print(dict1)\n",
    "dict1.pop(1)\n",
    "print(dict1)"
   ]
  },
  {
   "cell_type": "markdown",
   "id": "2de0e108",
   "metadata": {},
   "source": [
    "### Assignment 4: Iterating Over Dictionaries\n",
    "\n",
    "Iterate over the dictionary created in Assignment 1 and print each key-value pair."
   ]
  },
  {
   "cell_type": "code",
   "execution_count": 7,
   "id": "77a89d38",
   "metadata": {},
   "outputs": [
    {
     "name": "stdout",
     "output_type": "stream",
     "text": [
      "1:1\n",
      "2:4\n",
      "3:9\n",
      "4:16\n",
      "5:25\n",
      "6:36\n",
      "7:49\n",
      "8:64\n",
      "9:81\n",
      "10:100\n",
      "11:121\n"
     ]
    }
   ],
   "source": [
    "for k,v in dict1.items():\n",
    "    print(f'{k}:{v}')"
   ]
  },
  {
   "cell_type": "markdown",
   "id": "278d72db",
   "metadata": {},
   "source": [
    "Assignment 5: Dictionary Comprehensions\n",
    "\n",
    "Create a new dictionary containing the cubes of the first 10 positive integers using a dictionary comprehension. Print the new dictionary."
   ]
  },
  {
   "cell_type": "code",
   "execution_count": 10,
   "id": "1066693b",
   "metadata": {},
   "outputs": [
    {
     "name": "stdout",
     "output_type": "stream",
     "text": [
      "{1: 1, 2: 8, 3: 27, 4: 64, 5: 125, 6: 216, 7: 343, 8: 512, 9: 729, 10: 1000}\n"
     ]
    }
   ],
   "source": [
    "dict2 = {x:x**3 for x in range(1,11)}\n",
    "print(dict2)"
   ]
  },
  {
   "cell_type": "markdown",
   "id": "5eaba01b",
   "metadata": {},
   "source": [
    "Assignment 6: Merging Dictionaries\n",
    "\n",
    "Create two dictionaries: one with keys as the first 5 positive integers and values as their squares, and another with keys as the next 5 positive integers and values as their squares. Merge these dictionaries into a single dictionary and print it."
   ]
  },
  {
   "cell_type": "code",
   "execution_count": 13,
   "id": "cc20bc67",
   "metadata": {},
   "outputs": [
    {
     "name": "stdout",
     "output_type": "stream",
     "text": [
      "{1: 1, 2: 4, 3: 9, 4: 16, 5: 25}\n",
      "{6: 36, 7: 49, 8: 64, 9: 81, 10: 100}\n",
      "{1: 1, 2: 4, 3: 9, 4: 16, 5: 25, 6: 36, 7: 49, 8: 64, 9: 81, 10: 100}\n",
      "{1: 1, 2: 4, 3: 9, 4: 16, 5: 25, 6: 36, 7: 49, 8: 64, 9: 81, 10: 100}\n"
     ]
    }
   ],
   "source": [
    "dict3 = {x:x**2 for x in range(1,6)}\n",
    "dict4 = {x:x**2 for x in range(6,11)}\n",
    "\n",
    "print(dict3)\n",
    "print(dict4)\n",
    "\n",
    "merged_dict = {**dict3,**dict4}\n",
    "print(merged_dict)\n",
    "\n",
    "dict3.update(dict4)\n",
    "print(dict3)"
   ]
  },
  {
   "cell_type": "markdown",
   "id": "3e49534f",
   "metadata": {},
   "source": [
    "Assignment 7: Nested Dictionaries\n",
    "\n",
    "Create a nested dictionary representing a student with keys ‘name’, ‘age’, ‘grades’, where ‘grades’ is another dictionary with keys ‘math’, ‘science’, and ‘english’. Print the nested dictionary."
   ]
  },
  {
   "cell_type": "code",
   "execution_count": 14,
   "id": "6b49fb80",
   "metadata": {},
   "outputs": [
    {
     "name": "stdout",
     "output_type": "stream",
     "text": [
      "{'name': 'Raj', 'age': 22, 'grades': {'maths': 21, 'science': 24, 'english': 90}}\n"
     ]
    }
   ],
   "source": [
    "student = {'name': 'Raj', 'age': 22, 'grades':{'maths': 21, 'science': 24, 'english': 90}}\n",
    "print(student)"
   ]
  },
  {
   "cell_type": "markdown",
   "id": "3681d40f",
   "metadata": {},
   "source": [
    "Assignment 8: Dictionary of Lists\n",
    "\n",
    "Create a dictionary where the keys are the first 5 positive integers and the values are lists containing the first 5 multiples of the key. Print the dictionary."
   ]
  },
  {
   "cell_type": "code",
   "execution_count": 15,
   "id": "8a61820f",
   "metadata": {},
   "outputs": [
    {
     "name": "stdout",
     "output_type": "stream",
     "text": [
      "{1: [1, 2, 3, 4, 5], 2: [2, 4, 6, 8, 10], 3: [3, 6, 9, 12, 15], 4: [4, 8, 12, 16, 20], 5: [5, 10, 15, 20, 25]}\n"
     ]
    }
   ],
   "source": [
    "dict5= {x:[x*i for i in range(1,6)] for x in range(1,6)}\n",
    "print(dict5)"
   ]
  },
  {
   "cell_type": "markdown",
   "id": "331dae88",
   "metadata": {},
   "source": [
    "Assignment 9: Dictionary of Tuples\n",
    "\n",
    "Create a dictionary where the keys are the first 5 positive integers and the values are tuples containing the key and its square. Print the dictionary."
   ]
  },
  {
   "cell_type": "code",
   "execution_count": 19,
   "id": "4e1c6fa3",
   "metadata": {},
   "outputs": [
    {
     "name": "stdout",
     "output_type": "stream",
     "text": [
      "{1: (1, 2), 2: (2, 4), 3: (3, 6), 4: (4, 8), 5: (5, 10)}\n"
     ]
    }
   ],
   "source": [
    "dict6= {x:(x,x*2) for x in range(1,6)}\n",
    "print(dict6)"
   ]
  },
  {
   "cell_type": "markdown",
   "id": "b20f83bd",
   "metadata": {},
   "source": [
    "Assignment 10: Dictionary and List Conversion\n",
    "\n",
    "Create a dictionary with the first 5 positive integers as keys and their squares as values. Convert the dictionary to a list of tuples and print it."
   ]
  },
  {
   "cell_type": "code",
   "execution_count": 32,
   "id": "ab9bef76",
   "metadata": {},
   "outputs": [
    {
     "name": "stdout",
     "output_type": "stream",
     "text": [
      "{1: 1, 2: 4, 3: 9, 4: 16, 5: 25}\n",
      "[(1, 1), (2, 4), (3, 9), (4, 16), (5, 25)]\n"
     ]
    }
   ],
   "source": [
    "dict7= {x:x**2 for x in range(1,6)}\n",
    "print(dict7)\n",
    "li1=[]\n",
    "for k,v in dict7.items():\n",
    "    li1.append((k,v))\n",
    "print(li1)"
   ]
  },
  {
   "cell_type": "code",
   "execution_count": 33,
   "id": "8f68b4a2",
   "metadata": {},
   "outputs": [
    {
     "name": "stdout",
     "output_type": "stream",
     "text": [
      "[(1, 1), (2, 4), (3, 9), (4, 16), (5, 25)]\n"
     ]
    }
   ],
   "source": [
    "dict7= {x:x**2 for x in range(1,6)}\n",
    "liste = list(dict7.items())\n",
    "print(liste)"
   ]
  },
  {
   "cell_type": "markdown",
   "id": "c6e3977d",
   "metadata": {},
   "source": [
    "Assignment 11: Dictionary Filtering\n",
    "\n",
    "Create a dictionary with the first 10 positive integers as keys and their squares as values. Create a new dictionary containing only the key-value pairs where the key is even. Print the new dictionary."
   ]
  },
  {
   "cell_type": "code",
   "execution_count": 34,
   "id": "24e16000",
   "metadata": {},
   "outputs": [
    {
     "name": "stdout",
     "output_type": "stream",
     "text": [
      "{2: 4, 4: 16, 6: 36, 8: 64, 10: 100}\n"
     ]
    }
   ],
   "source": [
    "dict8= {x:x**2 for x in range(1,11)}\n",
    "dict9= {}\n",
    "for k,v in dict8.items():\n",
    "    if k%2==0:\n",
    "        dict9[k]=v\n",
    "\n",
    "print(dict9)"
   ]
  },
  {
   "cell_type": "code",
   "execution_count": 36,
   "id": "be35b0cb",
   "metadata": {},
   "outputs": [
    {
     "name": "stdout",
     "output_type": "stream",
     "text": [
      "{2: 4, 4: 16, 6: 36, 8: 64, 10: 100}\n"
     ]
    }
   ],
   "source": [
    "dict8= {x:x**2 for x in range(1,11)}\n",
    "dict9 = {k:v for k,v in dict8.items() if k%2==0}\n",
    "print(dict9)"
   ]
  },
  {
   "cell_type": "markdown",
   "id": "e77cdcee",
   "metadata": {},
   "source": [
    "Assignment 12: Dictionary Key and Value Transformation\n",
    "\n",
    "Create a dictionary with the first 5 positive integers as keys and their squares as values. Create a new dictionary with keys and values swapped. Print the new dictionary."
   ]
  },
  {
   "cell_type": "code",
   "execution_count": 39,
   "id": "fe72148c",
   "metadata": {},
   "outputs": [
    {
     "data": {
      "text/plain": [
       "{1: 1, 4: 2, 9: 3, 16: 4, 25: 5}"
      ]
     },
     "execution_count": 39,
     "metadata": {},
     "output_type": "execute_result"
    }
   ],
   "source": [
    "dict7\n",
    "dict10={v:k for k,v in dict7.items()}\n",
    "dict10"
   ]
  },
  {
   "cell_type": "markdown",
   "id": "a73eddd8",
   "metadata": {},
   "source": [
    "Assignment 13: Default Dictionary\n",
    "\n",
    "Create a default dictionary where each key has a default value of an empty list. Add some elements to the lists and print the dictionary."
   ]
  },
  {
   "cell_type": "markdown",
   "id": "cc4f6507",
   "metadata": {},
   "source": [
    "In Python, the defaultdict is a subclass of the built-in dict class, provided by the collections module. It simplifies handling dictionaries where missing keys need default values. Instead of raising a KeyError when accessing a non-existent key, the defaultdict automatically creates an entry with a default value specified during its creation."
   ]
  },
  {
   "cell_type": "code",
   "execution_count": 45,
   "id": "9dad8742",
   "metadata": {},
   "outputs": [
    {
     "data": {
      "text/plain": [
       "{1: [1], 2: [2], 3: [3], 4: [], 5: []}"
      ]
     },
     "execution_count": 45,
     "metadata": {},
     "output_type": "execute_result"
    }
   ],
   "source": [
    "dict11 = {k:[] for k in range(1,6)}\n",
    "dict11\n",
    "# for k,v in dict11.items():\n",
    "#     v.append(1)\n",
    "#     v.append(2)\n",
    "#     v.append(3)\n",
    "\n",
    "dict11[1].append(1)\n",
    "dict11[2].append(2)\n",
    "dict11[3].append(3)\n",
    "\n",
    "    \n",
    "dict11"
   ]
  },
  {
   "cell_type": "markdown",
   "id": "a8c919e4",
   "metadata": {},
   "source": [
    "Assignment 14: Counting with Dictionaries\n",
    "\n",
    "Write a function that takes a string and returns a dictionary with the count of each character in the string. Print the dictionary."
   ]
  },
  {
   "cell_type": "code",
   "execution_count": 49,
   "id": "f8ef27bb",
   "metadata": {},
   "outputs": [
    {
     "name": "stdout",
     "output_type": "stream",
     "text": [
      "{'p': 2, 'u': 1, 's': 1, 'h': 1, 'a': 1, 'k': 1}\n"
     ]
    }
   ],
   "source": [
    "def countingstr(strng):\n",
    "    dicte={}\n",
    "    for i in strng:\n",
    "        if i in dicte:\n",
    "            dicte[i]+=1\n",
    "        else:\n",
    "            dicte[i]=1\n",
    "    return dicte\n",
    "\n",
    "print(countingstr('pushpak'))"
   ]
  },
  {
   "cell_type": "code",
   "execution_count": 51,
   "id": "1ccba237",
   "metadata": {},
   "outputs": [
    {
     "name": "stdout",
     "output_type": "stream",
     "text": [
      "{'p': 2, 'u': 1, 's': 1, 'h': 1, 'a': 1, 'k': 1}\n"
     ]
    }
   ],
   "source": [
    "def couuntstr(s):\n",
    "    decto={}\n",
    "    for i in s:\n",
    "        decto[i]=decto.get(i,0) + 1\n",
    "    \n",
    "    return decto\n",
    "print(couuntstr('pushpak'))"
   ]
  },
  {
   "cell_type": "markdown",
   "id": "1cbc9a0f",
   "metadata": {},
   "source": [
    "Assignment 15: Dictionary and JSON\n",
    "\n",
    "Create a dictionary representing a book with keys ‘title’, ‘author’, ‘year’, and ‘genre’. Convert the dictionary to a JSON string and print it."
   ]
  },
  {
   "cell_type": "code",
   "execution_count": 54,
   "id": "e630f1e7",
   "metadata": {},
   "outputs": [
    {
     "name": "stdout",
     "output_type": "stream",
     "text": [
      "{\"title\": \"Women\", \"author\": \"jhon modi\", \"year\": 2025, \"genre\": \"comedy\"}\n"
     ]
    }
   ],
   "source": [
    "import json\n",
    "book = {\n",
    "    'title': 'Women',\n",
    "    'author': 'jhon modi',\n",
    "    'year': 2025,\n",
    "    'genre': 'comedy'\n",
    "}\n",
    "\n",
    "json_book = json.dumps(book)\n",
    "print(json_book)"
   ]
  },
  {
   "cell_type": "code",
   "execution_count": null,
   "id": "58c88663",
   "metadata": {},
   "outputs": [],
   "source": []
  }
 ],
 "metadata": {
  "kernelspec": {
   "display_name": "Python 3",
   "language": "python",
   "name": "python3"
  },
  "language_info": {
   "codemirror_mode": {
    "name": "ipython",
    "version": 3
   },
   "file_extension": ".py",
   "mimetype": "text/x-python",
   "name": "python",
   "nbconvert_exporter": "python",
   "pygments_lexer": "ipython3",
   "version": "3.10.0"
  }
 },
 "nbformat": 4,
 "nbformat_minor": 5
}
