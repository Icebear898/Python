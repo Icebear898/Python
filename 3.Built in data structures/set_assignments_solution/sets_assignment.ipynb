{
 "cells": [
  {
   "cell_type": "markdown",
   "metadata": {},
   "source": [
    "# Module 3: Data Structures Assignments\n",
    "## Lesson 3.3: Sets\n",
    "### Assignment 1: Creating and Accessing Sets\n",
    "\n",
    "Create a set with the first 10 positive integers. Print the set.\n",
    "\n",
    "### Assignment 2: Adding and Removing Elements\n",
    "\n",
    "Add the number 11 to the set created in Assignment 1. Then remove the number 1 from the set. Print the modified set.\n",
    "\n",
    "### Assignment 3: Set Operations\n",
    "\n",
    "Create two sets: one with the first 5 positive integers and another with the first 5 even integers. Perform and print the results of union, intersection, difference, and symmetric difference operations on these sets.\n",
    "\n",
    "### Assignment 4: Set Comprehensions\n",
    "\n",
    "Create a new set containing the squares of the first 10 positive integers using a set comprehension. Print the new set.\n",
    "\n",
    "### Assignment 5: Filtering Sets\n",
    "\n",
    "Create a new set containing only the even numbers from the set created in Assignment 1 using a set comprehension. Print the new set.\n",
    "\n",
    "### Assignment 6: Set Methods\n",
    "\n",
    "Create a set with duplicate elements and remove the duplicates using set methods. Print the modified set.\n",
    "\n",
    "### Assignment 7: Subsets and Supersets\n",
    "\n",
    "Create two sets: one with the first 5 positive integers and another with the first 3 positive integers. Check if the second set is a subset of the first set and if the first set is a superset of the second set. Print the results.\n",
    "\n",
    "### Assignment 8: Frozenset\n",
    "\n",
    "Create a frozenset with the first 5 positive integers. Print the frozenset.\n",
    "\n",
    "### Assignment 9: Set and List Conversion\n",
    "\n",
    "Create a set with the first 5 positive integers. Convert it to a list, append the number 6, and convert it back to a set. Print the resulting set.\n",
    "\n",
    "### Assignment 10: Set and Dictionary\n",
    "\n",
    "Create a dictionary with set keys and integer values. Print the dictionary.\n",
    "\n",
    "### Assignment 11: Iterating Over Sets\n",
    "\n",
    "Create a set and iterate over the elements, printing each element.\n",
    "\n",
    "### Assignment 12: Removing Elements from Sets\n",
    "\n",
    "Create a set and remove elements from it until it is empty. Print the set after each removal.\n",
    "\n",
    "### Assignment 13: Set Symmetric Difference Update\n",
    "\n",
    "Create two sets and update the first set with the symmetric difference of the two sets. Print the modified first set.\n",
    "\n",
    "### Assignment 14: Set Membership Testing\n",
    "\n",
    "Create a set and test if certain elements are present in the set. Print the results.\n",
    "\n",
    "### Assignment 15: Set of Tuples\n",
    "\n",
    "Create a set containing tuples, where each tuple contains two elements. Print the set."
   ]
  },
  {
   "cell_type": "markdown",
   "id": "a9b00983",
   "metadata": {},
   "source": [
    "### Assignment 1: Creating and Accessing Sets\n",
    "\n",
    "Create a set with the first 10 positive integers. Print the set."
   ]
  },
  {
   "cell_type": "code",
   "execution_count": 17,
   "metadata": {},
   "outputs": [
    {
     "data": {
      "text/plain": [
       "{1, 2, 3, 4, 5, 6, 7, 8, 9, 10}"
      ]
     },
     "execution_count": 17,
     "metadata": {},
     "output_type": "execute_result"
    }
   ],
   "source": [
    "s3= {i for i in range(1,11)}\n",
    "s3"
   ]
  },
  {
   "cell_type": "code",
   "execution_count": 5,
   "id": "2b9e9f4c",
   "metadata": {},
   "outputs": [
    {
     "data": {
      "text/plain": [
       "{1, 2, 3, 4, 5, 6, 7, 8, 9, 10}"
      ]
     },
     "execution_count": 5,
     "metadata": {},
     "output_type": "execute_result"
    }
   ],
   "source": [
    "s = set(range(1,11))\n",
    "s"
   ]
  },
  {
   "cell_type": "markdown",
   "id": "eaf61083",
   "metadata": {},
   "source": [
    "### Assignment 2: Adding and Removing Elements\n",
    "\n",
    "Add the number 11 to the set created in Assignment 1. Then remove the number 1 from the set. Print the modified set.\n"
   ]
  },
  {
   "cell_type": "code",
   "execution_count": 12,
   "id": "b9b2b8a4",
   "metadata": {},
   "outputs": [
    {
     "name": "stdout",
     "output_type": "stream",
     "text": [
      "{1, 2, 3, 4, 5, 6, 7, 8, 9, 10, 11}\n",
      "{1, 2, 3, 4, 5, 6, 7, 8, 9, 10}\n"
     ]
    }
   ],
   "source": [
    "s.add(11)\n",
    "print(s)\n",
    "s.remove(11)\n",
    "print(s)"
   ]
  },
  {
   "cell_type": "markdown",
   "id": "fab33776",
   "metadata": {},
   "source": [
    "### Assignment 3: Set Operations\n",
    "\n",
    "Create two sets: one with the first 5 positive integers and another with the first 5 even integers. Perform and print the results of union, intersection, difference, and symmetric difference operations on these sets.\n"
   ]
  },
  {
   "cell_type": "code",
   "execution_count": 11,
   "id": "ea0237f0",
   "metadata": {},
   "outputs": [
    {
     "name": "stdout",
     "output_type": "stream",
     "text": [
      "{1, 2, 3, 4, 5}\n",
      "{2, 4, 6, 8, 10}\n",
      "Set 1: {1, 2, 3, 4, 5}\n",
      "Set 2: {2, 4, 6, 8, 10}\n",
      "Union: {1, 2, 3, 4, 5, 6, 8, 10}\n",
      "Intersection: {2, 4}\n",
      "Difference: {1, 3, 5}\n",
      "Symmetric Difference: {1, 3, 5, 6, 8, 10}\n"
     ]
    }
   ],
   "source": [
    "s1 = set(range(1,6))\n",
    "s2 = set(range(2,11,2))\n",
    "print(s1)\n",
    "print(s2)\n",
    "uni = s1.union(s2)\n",
    "inte = s1.intersection(s2)\n",
    "diff = s1.difference(s2)\n",
    "sy_diff = s1.symmetric_difference(s2)\n",
    "\n",
    "print(f'Set 1: {s1}\\nSet 2: {s2}\\nUnion: {uni}\\nIntersection: {inte}\\nDifference wrt Set 1: {diff}\\nSymmetric Difference: {sy_diff}')"
   ]
  },
  {
   "cell_type": "code",
   "execution_count": 13,
   "id": "2fcb1952",
   "metadata": {},
   "outputs": [
    {
     "name": "stdout",
     "output_type": "stream",
     "text": [
      "Union: {1, 2, 3, 4, 5, 6, 8, 10}\n",
      "Intersection: {2, 4}\n",
      "Difference (set1 - set2): {1, 3, 5}\n",
      "Symmetric Difference: {1, 3, 5, 6, 8, 10}\n"
     ]
    }
   ],
   "source": [
    "set1 = set(range(1, 6))\n",
    "set2 = set(range(2, 11, 2))\n",
    "print(f\"Union: {set1 | set2}\")\n",
    "print(f\"Intersection: {set1 & set2}\")\n",
    "print(f\"Difference (set1 - set2): {set1 - set2}\")\n",
    "print(f\"Symmetric Difference: {set1 ^ set2}\")"
   ]
  },
  {
   "cell_type": "markdown",
   "id": "767cd733",
   "metadata": {},
   "source": [
    "### Assignment 4: Set Comprehensions\n",
    "\n",
    "Create a new set containing the squares of the first 10 positive integers using a set comprehension. Print the new set."
   ]
  },
  {
   "cell_type": "code",
   "execution_count": 15,
   "id": "36167b19",
   "metadata": {},
   "outputs": [
    {
     "data": {
      "text/plain": [
       "{1, 4, 9, 16, 25, 36, 49, 64, 81, 100}"
      ]
     },
     "execution_count": 15,
     "metadata": {},
     "output_type": "execute_result"
    }
   ],
   "source": [
    "s = {i**2 for i in range(1,11)}\n",
    "s"
   ]
  },
  {
   "cell_type": "markdown",
   "id": "a246e0ee",
   "metadata": {},
   "source": [
    "### Assignment 5: Filtering Sets\n",
    "\n",
    "Create a new set containing only the even numbers from the set created in Assignment 1 using a set comprehension. Print the new set."
   ]
  },
  {
   "cell_type": "code",
   "execution_count": 18,
   "id": "d53eac26",
   "metadata": {},
   "outputs": [
    {
     "data": {
      "text/plain": [
       "{2, 4, 6, 8, 10}"
      ]
     },
     "execution_count": 18,
     "metadata": {},
     "output_type": "execute_result"
    }
   ],
   "source": [
    "s4 = {i for i in s3 if i%2==0}\n",
    "s4"
   ]
  },
  {
   "cell_type": "markdown",
   "id": "c49d7bbb",
   "metadata": {},
   "source": [
    "### Assignment 6: Set Methods\n",
    "\n",
    "Create a set with duplicate elements and remove the duplicates using set methods. Print the modified set."
   ]
  },
  {
   "cell_type": "code",
   "execution_count": 19,
   "id": "aff63d84",
   "metadata": {},
   "outputs": [
    {
     "name": "stdout",
     "output_type": "stream",
     "text": [
      "{1, 2, 3, 4, 5, 6, 7}\n"
     ]
    }
   ],
   "source": [
    "s = {1,2,3,4,5,5,5,6,6,7}\n",
    "print(s)"
   ]
  },
  {
   "cell_type": "markdown",
   "id": "c83efb8a",
   "metadata": {},
   "source": [
    "### Assignment 7: Subsets and Supersets\n",
    "\n",
    "Create two sets: one with the first 5 positive integers and another with the first 3 positive integers. Check if the second set is a subset of the first set and if the first set is a superset of the second set. Print the results."
   ]
  },
  {
   "cell_type": "code",
   "execution_count": 20,
   "id": "da19bd1e",
   "metadata": {},
   "outputs": [
    {
     "name": "stdout",
     "output_type": "stream",
     "text": [
      "True\n",
      "True\n"
     ]
    }
   ],
   "source": [
    "one = {1,2,3,4,5}\n",
    "two = {1,2,3}\n",
    "print(two.issubset(one))\n",
    "print(one.issuperset(two))"
   ]
  },
  {
   "cell_type": "markdown",
   "id": "0aaad5b1",
   "metadata": {},
   "source": [
    "### Assignment 8: Frozenset\n",
    "\n",
    "Create a frozenset with the first 5 positive integers. Print the frozenset."
   ]
  },
  {
   "cell_type": "markdown",
   "id": "83294f23",
   "metadata": {},
   "source": [
    "a frozenset is an immutable version of a set. Unlike a regular set, which is mutable (can be changed by adding or removing elements), a frozenset cannot be modified after it’s created. This immutability makes frozensets hashable, meaning they can be used as keys in a dictionary or elements of another set.\n"
   ]
  },
  {
   "cell_type": "code",
   "execution_count": 21,
   "id": "63e7d497",
   "metadata": {},
   "outputs": [
    {
     "data": {
      "text/plain": [
       "frozenset({1, 2, 3, 4, 5})"
      ]
     },
     "execution_count": 21,
     "metadata": {},
     "output_type": "execute_result"
    }
   ],
   "source": [
    "s = frozenset(range(1,6))\n",
    "s"
   ]
  },
  {
   "cell_type": "markdown",
   "id": "167cb72a",
   "metadata": {},
   "source": [
    "### Assignment 9: Set and List Conversion\n",
    "\n",
    "Create a set with the first 5 positive integers. Convert it to a list, append the number 6, and convert it back to a set. Print the resulting set."
   ]
  },
  {
   "cell_type": "code",
   "execution_count": 23,
   "id": "ec3cca40",
   "metadata": {},
   "outputs": [
    {
     "name": "stdout",
     "output_type": "stream",
     "text": [
      "{1, 2, 3, 4, 5, 6}\n"
     ]
    }
   ],
   "source": [
    "s = {i for i in range(1,6)}\n",
    "li = list(s)\n",
    "li.append(6)\n",
    "s2= set(li)\n",
    "print(s2)"
   ]
  },
  {
   "cell_type": "markdown",
   "id": "f85cd14d",
   "metadata": {},
   "source": [
    "### Assignment 10: Set and Dictionary\n",
    "\n",
    "Create a dictionary with set keys and integer values. Print the dictionary."
   ]
  },
  {
   "cell_type": "code",
   "execution_count": 25,
   "id": "4e514294",
   "metadata": {},
   "outputs": [
    {
     "name": "stdout",
     "output_type": "stream",
     "text": [
      "{frozenset({'one'}): 1, frozenset({'two'}): 2, frozenset({'Three'}): 3}\n"
     ]
    }
   ],
   "source": [
    "dict = { frozenset({'one'}):1, frozenset({'two'}):2, frozenset({'Three'}):3}\n",
    "print(dict)"
   ]
  },
  {
   "cell_type": "markdown",
   "id": "8d9d6ebc",
   "metadata": {},
   "source": [
    "### Assignment 11: Iterating Over Sets\n",
    "\n",
    "Create a set and iterate over the elements, printing each element.\n"
   ]
  },
  {
   "cell_type": "code",
   "execution_count": 26,
   "id": "c9cd99b9",
   "metadata": {},
   "outputs": [
    {
     "name": "stdout",
     "output_type": "stream",
     "text": [
      "1\n",
      "2\n",
      "3\n",
      "hello\n",
      "harpic\n"
     ]
    }
   ],
   "source": [
    "se = {1,2,3,'hello','harpic'}\n",
    "for i in se:\n",
    "    print(i)"
   ]
  },
  {
   "cell_type": "markdown",
   "id": "266bc44a",
   "metadata": {},
   "source": [
    "### Assignment 12: Removing Elements from Sets\n",
    "\n",
    "Create a set and remove elements from it until it is empty. Print the set after each removal."
   ]
  },
  {
   "cell_type": "code",
   "execution_count": 32,
   "id": "c3924f4b",
   "metadata": {},
   "outputs": [
    {
     "name": "stdout",
     "output_type": "stream",
     "text": [
      "{2, 3, 4}\n"
     ]
    },
    {
     "ename": "RuntimeError",
     "evalue": "Set changed size during iteration",
     "output_type": "error",
     "traceback": [
      "\u001b[0;31m---------------------------------------------------------------------------\u001b[0m",
      "\u001b[0;31mRuntimeError\u001b[0m                              Traceback (most recent call last)",
      "Cell \u001b[0;32mIn[32], line 2\u001b[0m\n\u001b[1;32m      1\u001b[0m s\u001b[39m=\u001b[39m{i \u001b[39mfor\u001b[39;00m i \u001b[39min\u001b[39;00m \u001b[39mrange\u001b[39m(\u001b[39m1\u001b[39m,\u001b[39m5\u001b[39m)}\n\u001b[0;32m----> 2\u001b[0m \u001b[39mfor\u001b[39;00m i \u001b[39min\u001b[39;00m s:\n\u001b[1;32m      3\u001b[0m     \u001b[39mif\u001b[39;00m \u001b[39mlen\u001b[39m(s)\u001b[39m==\u001b[39m\u001b[39m0\u001b[39m:\n\u001b[1;32m      4\u001b[0m         \u001b[39mbreak\u001b[39;00m\n",
      "\u001b[0;31mRuntimeError\u001b[0m: Set changed size during iteration"
     ]
    }
   ],
   "source": [
    "s={i for i in range(1,5)}\n",
    "for i in s:\n",
    "    if len(s)==0:\n",
    "        break\n",
    "    s.pop()\n",
    "    print(s)"
   ]
  },
  {
   "cell_type": "code",
   "execution_count": 30,
   "id": "f2cad498",
   "metadata": {},
   "outputs": [
    {
     "name": "stdout",
     "output_type": "stream",
     "text": [
      "{1, 2, 3, 4, 5}\n",
      "{2, 3, 4, 5}\n",
      "{3, 4, 5}\n",
      "{4, 5}\n",
      "{5}\n",
      "set()\n"
     ]
    }
   ],
   "source": [
    "s={i for i in range(1,6)}\n",
    "print(s)\n",
    "while s:\n",
    "    s.pop()\n",
    "    print(s)"
   ]
  },
  {
   "cell_type": "markdown",
   "id": "f7a71eb7",
   "metadata": {},
   "source": [
    "### Assignment 13: Set Symmetric Difference Update\n",
    "\n",
    "Create two sets and update the first set with the symmetric difference of the two sets. Print the modified first set."
   ]
  },
  {
   "cell_type": "code",
   "execution_count": 1,
   "id": "681c89f4",
   "metadata": {},
   "outputs": [
    {
     "name": "stdout",
     "output_type": "stream",
     "text": [
      "{1, 3, 5}\n"
     ]
    }
   ],
   "source": [
    "s1 = {i for i in range(1,6)}\n",
    "s2 = {i for i in range(1,6) if i%2==0}\n",
    "\n",
    "s1.symmetric_difference_update(s2)\n",
    "print(s1)"
   ]
  },
  {
   "cell_type": "markdown",
   "id": "bcaf6598",
   "metadata": {},
   "source": [
    "### Assignment 14: Set Membership Testing\n",
    "\n",
    "Create a set and test if certain elements are present in the set. Print the results.\n"
   ]
  },
  {
   "cell_type": "code",
   "execution_count": 2,
   "id": "aa7a8133",
   "metadata": {},
   "outputs": [
    {
     "name": "stdout",
     "output_type": "stream",
     "text": [
      "True\n",
      "False\n"
     ]
    }
   ],
   "source": [
    "s = set(range(1, 6))\n",
    "print(3 in s)\n",
    "print(6 in s)"
   ]
  },
  {
   "cell_type": "markdown",
   "id": "8a859232",
   "metadata": {},
   "source": [
    "### Assignment 15: Set of Tuples\n",
    "\n",
    "Create a set containing tuples, where each tuple contains two elements. Print the set."
   ]
  },
  {
   "cell_type": "code",
   "execution_count": 3,
   "id": "5074cae7",
   "metadata": {},
   "outputs": [
    {
     "name": "stdout",
     "output_type": "stream",
     "text": [
      "{(3, 2), (1, 2), (3, 4), (5, 6)}\n"
     ]
    }
   ],
   "source": [
    "setup = {(1,2),(3,4),(5,6),(3,2)}\n",
    "print(setup)"
   ]
  },
  {
   "cell_type": "code",
   "execution_count": null,
   "id": "bc23a4de",
   "metadata": {},
   "outputs": [],
   "source": []
  }
 ],
 "metadata": {
  "kernelspec": {
   "display_name": "Python 3",
   "language": "python",
   "name": "python3"
  },
  "language_info": {
   "codemirror_mode": {
    "name": "ipython",
    "version": 3
   },
   "file_extension": ".py",
   "mimetype": "text/x-python",
   "name": "python",
   "nbconvert_exporter": "python",
   "pygments_lexer": "ipython3",
   "version": "3.10.0"
  }
 },
 "nbformat": 4,
 "nbformat_minor": 5
}
