{
 "cells": [
  {
   "cell_type": "markdown",
   "metadata": {},
   "source": [
    "# Module 4: Advanced Functions Assignments\n",
    "## Lesson 4.1: Defining Functions\n",
    "### Assignment 1: Fibonacci Sequence with Memoization\n",
    "\n",
    "Define a recursive function to calculate the nth Fibonacci number using memoization. Test the function with different inputs.\n",
    "\n",
    "### Assignment 2: Function with Nested Default Arguments\n",
    "\n",
    "Define a function that takes two arguments, a and b, where b is a dictionary with a default value of an empty dictionary. The function should add a new key-value pair to the dictionary and return it. Test the function with different inputs.\n",
    "\n",
    "### Assignment 3: Function with Variable Keyword Arguments\n",
    "\n",
    "Define a function that takes a variable number of keyword arguments and returns a dictionary containing only those key-value pairs where the value is an integer. Test the function with different inputs.\n",
    "\n",
    "### Assignment 4: Function with Callback\n",
    "\n",
    "Define a function that takes another function as a callback and a list of integers. The function should apply the callback to each integer in the list and return a new list with the results. Test with different callback functions.\n",
    "\n",
    "### Assignment 5: Function that Returns a Function\n",
    "\n",
    "Define a function that returns another function. The returned function should take an integer and return its square. Test the returned function with different inputs.\n",
    "\n",
    "### Assignment 6: Function with Decorators\n",
    "\n",
    "Define a function that calculates the time taken to execute another function. Apply this decorator to a function that performs a complex calculation. Test the decorated function with different inputs.\n",
    "\n",
    "### Assignment 7: Higher-Order Function for Filtering and Mapping\n",
    "\n",
    "Define a higher-order function that takes two functions, a filter function and a map function, along with a list of integers. The higher-order function should first filter the integers using the filter function and then apply the map function to the filtered integers. Test with different filter and map functions.\n",
    "\n",
    "### Assignment 8: Function Composition\n",
    "\n",
    "Define a function that composes two functions, f and g, such that the result is f(g(x)). Test with different functions f and g.\n",
    "\n",
    "### Assignment 9: Partial Function Application\n",
    "\n",
    "Use the functools.partial function to create a new function that multiplies its input by 2. Test the new function with different inputs.\n",
    "\n",
    "### Assignment 10: Function with Error Handling\n",
    "\n",
    "Define a function that takes a list of integers and returns their average. The function should handle any errors that occur (e.g., empty list) and return None in such cases. Test with different inputs.\n",
    "\n",
    "### Assignment 11: Function with Generators\n",
    "\n",
    "Define a function that generates an infinite sequence of Fibonacci numbers. Test by printing the first 10 numbers in the sequence.\n",
    "\n",
    "### Assignment 12: Currying\n",
    "\n",
    "Define a curried function that takes three arguments, one at a time, and returns their product. Test the function by providing arguments one at a time.\n",
    "\n",
    "### Assignment 13: Function with Context Manager\n",
    "\n",
    "Define a function that uses a context manager to write a list of integers to a file. The function should handle any errors that occur during file operations. Test with different lists.\n",
    "\n",
    "### Assignment 14: Function with Multiple Return Types\n",
    "\n",
    "Define a function that takes a list of mixed data types (integers, strings, and floats) and returns three lists: one containing all the integers, one containing all the strings, and one containing all the floats. Test with different inputs.\n",
    "\n",
    "### Assignment 15: Function with State\n",
    "\n",
    "Define a function that maintains state between calls using a mutable default argument. The function should keep track of how many times it has been called. Test by calling the function multiple times."
   ]
  },
  {
   "cell_type": "markdown",
   "id": "ffd8d32f",
   "metadata": {},
   "source": [
    "### Assignment 1: Fibonacci Sequence with Memoization\n",
    "\n",
    "Define a recursive function to calculate the nth Fibonacci number using memoization. Test the function with different inputs.\n"
   ]
  },
  {
   "cell_type": "code",
   "execution_count": 17,
   "metadata": {},
   "outputs": [
    {
     "name": "stdout",
     "output_type": "stream",
     "text": [
      "55\n",
      "5\n",
      "{0: 0, 1: 1, 2: 1, 3: 2, 4: 3, 5: 5, 6: 8, 7: 13, 8: 21, 9: 34, 10: 55}\n"
     ]
    }
   ],
   "source": [
    "track={}\n",
    "def fibonacciser(n, track):\n",
    "    if n in track:\n",
    "        return track[n]\n",
    "    if n <= 1:\n",
    "\n",
    "        track[n]=n\n",
    "        return n\n",
    "    \n",
    "    track[n] = fibonacciser(n-2, track) + fibonacciser(n-1,track)\n",
    "    return track[n]\n",
    "    \n",
    "print(fibonacciser(10,track))\n",
    "print(fibonacciser(5,track))\n",
    "print(track)\n",
    "        "
   ]
  },
  {
   "cell_type": "markdown",
   "id": "aac41148",
   "metadata": {},
   "source": [
    "here we get 1 before zero because f(n-1) is first calculated then f(n-2)"
   ]
  },
  {
   "cell_type": "markdown",
   "id": "0fb6f520",
   "metadata": {},
   "source": [
    "### Assignment 2: Function with Nested Default Arguments\n",
    "\n",
    "Define a function that takes two arguments, a and b, where b is a dictionary with a default value of an empty dictionary. The function should add a new key-value pair to the dictionary and return it. Test the function with different inputs."
   ]
  },
  {
   "cell_type": "code",
   "execution_count": 45,
   "id": "328698d0",
   "metadata": {},
   "outputs": [
    {
     "name": "stdout",
     "output_type": "stream",
     "text": [
      "{1: 1}\n",
      "{1: 1, 2: 0}\n",
      "1, 1\n",
      "{1: 1, 2: 0, 3: 3}\n"
     ]
    }
   ],
   "source": [
    "def dicto(a,b={}):\n",
    "    if a in b:\n",
    "        return f'{a}, {b[a]}'\n",
    "    b[len(b)+1]=a\n",
    "    return b\n",
    "\n",
    "print(dicto(1))\n",
    "print(dicto(0))\n",
    "print(dicto(1))\n",
    "print(dicto(3))\n"
   ]
  },
  {
   "cell_type": "code",
   "execution_count": 44,
   "id": "8e6bd0fa",
   "metadata": {},
   "outputs": [
    {
     "name": "stdout",
     "output_type": "stream",
     "text": [
      "{1: 1}\n",
      "{1: 1, 2: 0}\n",
      "1, 1\n",
      "{1: 1, 2: 0, 3: 3}\n",
      "{1: 1, 2: 2, 3: 3}\n"
     ]
    }
   ],
   "source": [
    "b={}\n",
    "def dicto(a,b={}):\n",
    "    if a in b:\n",
    "        return f'{a}, {b[a]}'\n",
    "    b[len(b)+1]=a\n",
    "    return b\n",
    "\n",
    "print(dicto(1,b))\n",
    "print(dicto(0,b))\n",
    "print(dicto(1,b))\n",
    "print(dicto(3,b))\n",
    "\n",
    "b[2]=2\n",
    "print(b)"
   ]
  },
  {
   "cell_type": "markdown",
   "id": "514901b7",
   "metadata": {},
   "source": [
    "### Assignment 3: Function with Variable Keyword Arguments\n",
    "\n",
    "Define a function that takes a variable number of keyword arguments and returns a dictionary containing only those key-value pairs where the value is an integer. Test the function with different inputs."
   ]
  },
  {
   "cell_type": "code",
   "execution_count": 52,
   "id": "8d4f806e",
   "metadata": {},
   "outputs": [
    {
     "name": "stdout",
     "output_type": "stream",
     "text": [
      "{'age': 21}\n"
     ]
    }
   ],
   "source": [
    "def store(**kwargs):\n",
    "    return {key:value for key,value in kwargs.items() if isinstance(value, int)}\n",
    "\n",
    "print(store(name='Raj', age=21))"
   ]
  },
  {
   "cell_type": "markdown",
   "id": "05c2734f",
   "metadata": {},
   "source": [
    "### Assignment 4: Function with Callback\n",
    "\n",
    "Define a function that takes another function as a callback and a list of integers. The function should apply the callback to each integer in the list and return a new list with the results. Test with different callback functions.\n"
   ]
  },
  {
   "cell_type": "code",
   "execution_count": 53,
   "id": "0c154838",
   "metadata": {},
   "outputs": [
    {
     "name": "stdout",
     "output_type": "stream",
     "text": [
      "[1, 4, 9, 16, 25] [1, 2, 3, 4, 5]\n"
     ]
    }
   ],
   "source": [
    "def applly_callback(callback, num):\n",
    "    return [callback(i) for i in num]\n",
    "\n",
    "nu = [1,2,3,4,5]\n",
    "print(applly_callback(lambda x:x**2, nu),nu)"
   ]
  },
  {
   "cell_type": "markdown",
   "id": "d52999ee",
   "metadata": {},
   "source": [
    "### Assignment 5: Function that Returns a Function\n",
    "\n",
    "Define a function that returns another function. The returned function should take an integer and return its square. Test the returned function with different inputs.\n"
   ]
  },
  {
   "cell_type": "code",
   "execution_count": 54,
   "id": "595092a9",
   "metadata": {},
   "outputs": [
    {
     "name": "stdout",
     "output_type": "stream",
     "text": [
      "100\n"
     ]
    }
   ],
   "source": [
    "def func2(x):\n",
    "    return x**2\n",
    "\n",
    "def func1(x):\n",
    "    return func2(x)\n",
    "\n",
    "print(func1(10))\n"
   ]
  },
  {
   "cell_type": "code",
   "execution_count": 55,
   "id": "f4824e81",
   "metadata": {},
   "outputs": [
    {
     "name": "stdout",
     "output_type": "stream",
     "text": [
      "25\n"
     ]
    }
   ],
   "source": [
    "def out(x):\n",
    "    def square(x):\n",
    "        return x**2\n",
    "    return square(x)\n",
    "\n",
    "print(out(5))"
   ]
  },
  {
   "cell_type": "markdown",
   "id": "d5cbdfee",
   "metadata": {},
   "source": [
    "### Assignment 6: Function with Decorators\n",
    "\n",
    "Define a function that calculates the time taken to execute another function. Apply this decorator to a function that performs a complex calculation. Test the decorated function with different inputs.\n"
   ]
  },
  {
   "cell_type": "code",
   "execution_count": 65,
   "id": "ba1310ec",
   "metadata": {},
   "outputs": [
    {
     "name": "stdout",
     "output_type": "stream",
     "text": [
      "Results 120, The Function <function factorial_cal at 0x10c7fe320> has taken 1.9073486328125e-06 seconds\n",
      "120\n",
      "Results 1, The Function <function factoriala_cal at 0x10c859bd0> has taken 1.1920928955078125e-06 seconds\n",
      "Results 2, The Function <function factoriala_cal at 0x10c859bd0> has taken 1.4066696166992188e-05 seconds\n",
      "Results 6, The Function <function factoriala_cal at 0x10c859bd0> has taken 1.8835067749023438e-05 seconds\n",
      "Results 24, The Function <function factoriala_cal at 0x10c859bd0> has taken 2.5033950805664062e-05 seconds\n",
      "Results 120, The Function <function factoriala_cal at 0x10c859bd0> has taken 3.218650817871094e-05 seconds\n",
      "120\n"
     ]
    }
   ],
   "source": [
    "import time \n",
    "\n",
    "def timecal(func):\n",
    "    def wrapper(*args, **kwargs):\n",
    "        start = time.time()\n",
    "        results = func(*args, **kwargs)\n",
    "        end = time.time()\n",
    "        print(f'Results {results}, The Function {func} has taken {end-start} seconds')\n",
    "        return results\n",
    "    return wrapper\n",
    "\n",
    "@timecal\n",
    "def factoriala_cal(x):\n",
    "    if x == 1 or x == 0:\n",
    "        return 1\n",
    "    result = x*factoriala_cal(x-1)\n",
    "    return result\n",
    "\n",
    "@timecal\n",
    "def factorial_cal(x):\n",
    "    if x==1 or x==0:\n",
    "        return 1\n",
    "    res = 1\n",
    "    for i in range(2,x+1):\n",
    "        res = res * i\n",
    "    return res\n",
    "        \n",
    "print(factorial_cal(5))\n",
    "print(factoriala_cal(5))"
   ]
  },
  {
   "cell_type": "markdown",
   "id": "bf89d2f8",
   "metadata": {},
   "source": [
    "### Assignment 7: Higher-Order Function for Filtering and Mapping\n",
    "\n",
    "Define a higher-order function that takes two functions, a filter function and a map function, along with a list of integers. The higher-order function should first filter the integers using the filter function and then apply the map function to the filtered integers. Test with different filter and map functions."
   ]
  },
  {
   "cell_type": "code",
   "execution_count": 70,
   "id": "cf6b66cb",
   "metadata": {},
   "outputs": [
    {
     "name": "stdout",
     "output_type": "stream",
     "text": [
      "[23, 23, 24, 35, 35, 57, 57, 68, 90]\n",
      "None\n"
     ]
    }
   ],
   "source": [
    "def ffunc1(li):\n",
    "    res = list(filter(lambda x:x>18, li))\n",
    "    return res\n",
    "\n",
    "def mfunc2(li):\n",
    "    res = list(map(lambda x:x+1, li))\n",
    "    return res\n",
    "\n",
    "def trans(ffunc1, mfunc2, li):\n",
    "    filtero = ffunc1(li)\n",
    "    mapo = mfunc2(filtero)\n",
    "    return print(mapo)\n",
    "\n",
    "li = [1,34,56,23,67,89,22,34,56,22,11,12,13,15,8,9]\n",
    "\n",
    "print(trans(ffunc1,mfunc2,sorted(li)))\n"
   ]
  },
  {
   "cell_type": "markdown",
   "id": "f55c0049",
   "metadata": {},
   "source": [
    "### Assignment 8: Function Composition\n",
    "\n",
    "Define a function that composes two functions, f and g, such that the result is f(g(x)). Test with different functions f and g.\n"
   ]
  },
  {
   "cell_type": "code",
   "execution_count": 73,
   "id": "c905ad24",
   "metadata": {},
   "outputs": [
    {
     "name": "stdout",
     "output_type": "stream",
     "text": [
      "[4, 16, 36, 64]\n"
     ]
    }
   ],
   "source": [
    "def algo(x):\n",
    "    def even(x):\n",
    "        return [i for i in x if i%2==0]\n",
    "    def square(x):\n",
    "        return list(map(lambda i:i**2, x))\n",
    "    return square(even(x))\n",
    "\n",
    "li = [1,2,3,4,5,6,7,8]\n",
    "print(algo(li))"
   ]
  },
  {
   "cell_type": "code",
   "execution_count": 76,
   "id": "cb29e368",
   "metadata": {},
   "outputs": [
    {
     "name": "stdout",
     "output_type": "stream",
     "text": [
      "101\n"
     ]
    }
   ],
   "source": [
    "def compose(f,g):\n",
    "    return lambda x:f(g(x))\n",
    "\n",
    "f = lambda x:x+1\n",
    "g = lambda x:x**2\n",
    "\n",
    "h = compose(f,g)\n",
    "print(h(10))"
   ]
  },
  {
   "cell_type": "markdown",
   "id": "a1a9b7c1",
   "metadata": {},
   "source": [
    "### Assignment 9: Partial Function Application\n",
    "\n",
    "Use the functools.partial function to create a new function that multiplies its input by 2. Test the new function with different inputs.\n"
   ]
  },
  {
   "cell_type": "markdown",
   "id": "f7130444",
   "metadata": {},
   "source": [
    "\n",
    "functools is a standard Python module that provides higher-order functions for functional programming. These functions either:\n",
    "\t1.\tOperate on functions: They modify or enhance the behavior of other functions.\n",
    "\t2.\tHelp in optimization or customizations: Like caching, partial application, etc."
   ]
  },
  {
   "cell_type": "markdown",
   "id": "c57d7588",
   "metadata": {},
   "source": [
    "A partial function in Python is a feature provided by the functools module. It allows you to “pre-fill” or “freeze” some arguments of a function and create a new function with a simpler interface. This is particularly useful when a function is commonly used with some fixed arguments.\n"
   ]
  },
  {
   "cell_type": "code",
   "execution_count": 81,
   "id": "817b0a00",
   "metadata": {},
   "outputs": [
    {
     "name": "stdout",
     "output_type": "stream",
     "text": [
      "200\n",
      "20\n"
     ]
    }
   ],
   "source": [
    "from functools import partial \n",
    "\n",
    "def multiply(x,y):\n",
    "    return x*y\n",
    "\n",
    "print(multiply(10,20))\n",
    "\n",
    "double = partial(multiply,y=2)\n",
    "\n",
    "print(double(10))\n"
   ]
  },
  {
   "cell_type": "markdown",
   "id": "6b7a6a54",
   "metadata": {},
   "source": [
    "### Assignment 10: Function with Error Handling\n",
    "\n",
    "Define a function that takes a list of integers and returns their average. The function should handle any errors that occur (e.g., empty list) and return None in such cases. Test with different inputs.\n"
   ]
  },
  {
   "cell_type": "code",
   "execution_count": 84,
   "id": "c35c9708",
   "metadata": {},
   "outputs": [
    {
     "name": "stdout",
     "output_type": "stream",
     "text": [
      "3.0\n"
     ]
    }
   ],
   "source": [
    "def avg(li):\n",
    "    if len(li)==0 :\n",
    "        return None\n",
    "    \n",
    "    sum = 0\n",
    "    ind = 0\n",
    "    \n",
    "    for x in li:\n",
    "        if isinstance(x, int):\n",
    "            sum = x + sum\n",
    "            ind = ind+1\n",
    "            \n",
    "    if ind==0:\n",
    "        return None\n",
    "            \n",
    "    return sum/ind\n",
    "\n",
    "print(avg([1,2,3,4,5,'hello','no']))\n",
    "    "
   ]
  },
  {
   "cell_type": "code",
   "execution_count": 87,
   "id": "e7c417bd",
   "metadata": {},
   "outputs": [
    {
     "name": "stdout",
     "output_type": "stream",
     "text": [
      "4.0\n"
     ]
    }
   ],
   "source": [
    "def avg(lst):\n",
    "    try:\n",
    "        return sum(lst)/len(lst)\n",
    "    except ZeroDivisionError:\n",
    "        return None\n",
    "    \n",
    "lst = [1,2,3,4,5,6,7]\n",
    "print(avg(lst))\n",
    "        "
   ]
  },
  {
   "cell_type": "markdown",
   "id": "2820df29",
   "metadata": {},
   "source": [
    "### Assignment 11: Function with Generators\n",
    "\n",
    "Define a function that generates an infinite sequence of Fibonacci numbers. Test by printing the first 10 numbers in the sequence."
   ]
  },
  {
   "cell_type": "markdown",
   "id": "1428eb99",
   "metadata": {},
   "source": [
    "yield is a keyword in Python used to create a generator, a type of iterable that produces items one at a time. Unlike a regular function that computes and returns all the results at once using return, a generator uses yield to pause the function and return a value, resuming execution from where it left off."
   ]
  },
  {
   "cell_type": "code",
   "execution_count": 90,
   "id": "37bac999",
   "metadata": {},
   "outputs": [
    {
     "name": "stdout",
     "output_type": "stream",
     "text": [
      "0\n",
      "1\n",
      "1\n",
      "2\n",
      "3\n",
      "5\n",
      "8\n",
      "13\n",
      "21\n",
      "34\n"
     ]
    }
   ],
   "source": [
    "def fibonacci_generator():\n",
    "    a,b = 0,1\n",
    "    while True:\n",
    "        yield a\n",
    "        a,b = b,a+b\n",
    "        \n",
    "fib_gen = fibonacci_generator()\n",
    "for _ in range(10):\n",
    "    print(next(fib_gen))"
   ]
  },
  {
   "cell_type": "markdown",
   "id": "20a8a8a3",
   "metadata": {},
   "source": [
    "### Assignment 12: Currying\n",
    "\n",
    "Define a curried function that takes three arguments, one at a time, and returns their product. Test the function by providing arguments one at a time."
   ]
  },
  {
   "cell_type": "markdown",
   "id": "12d49d74",
   "metadata": {},
   "source": [
    "Currying is a technique where a function is transformed into a sequence of functions, each taking a single argument. For example, a curried function with three arguments  f(a, b, c)  is expressed as  f(a)(b)(c) ."
   ]
  },
  {
   "cell_type": "markdown",
   "id": "f9e52b27",
   "metadata": {},
   "source": [
    "Why Use Currying?\n",
    "\t•\tImproved Code Reusability: Functions can be partially applied to reuse intermediate results.\n",
    "\t•\tFlexible APIs: Currying can be useful when arguments are supplied incrementally.\n",
    "\t•\tFunction Composition: It aligns with functional programming principles.\n"
   ]
  },
  {
   "cell_type": "code",
   "execution_count": 91,
   "id": "9af8e9f3",
   "metadata": {},
   "outputs": [
    {
     "name": "stdout",
     "output_type": "stream",
     "text": [
      "6\n"
     ]
    }
   ],
   "source": [
    "def curring(a):\n",
    "    def inner_a(b):\n",
    "        def inner_b(c):\n",
    "            return a*b*c\n",
    "        return inner_b\n",
    "    return inner_a\n",
    "\n",
    "print(curring(1)(2)(3))"
   ]
  },
  {
   "cell_type": "markdown",
   "id": "1d771c39",
   "metadata": {},
   "source": [
    "### Assignment 13: Function with Context Manager\n",
    "\n",
    "Define a function that uses a context manager to write a list of integers to a file. The function should handle any errors that occur during file operations. Test with different lists."
   ]
  },
  {
   "cell_type": "code",
   "execution_count": 92,
   "id": "e9652939",
   "metadata": {},
   "outputs": [],
   "source": [
    "def write_to_file(lst, filename):\n",
    "    try:\n",
    "        with open(filename, 'w') as f:\n",
    "            for num in lst:\n",
    "                f.write(f\"{num}\\n\")\n",
    "    except IOError as e:\n",
    "        print(f\"An error occurred: {e}\")\n",
    "\n",
    "# Test\n",
    "write_to_file([1, 2, 3, 4, 5], 'output.txt')"
   ]
  },
  {
   "cell_type": "markdown",
   "id": "f7dd6ea1",
   "metadata": {},
   "source": [
    "### Assignment 14: Function with Multiple Return Types\n",
    "\n",
    "Define a function that takes a list of mixed data types (integers, strings, and floats) and returns three lists: one containing all the integers, one containing all the strings, and one containing all the floats. Test with different inputs."
   ]
  },
  {
   "cell_type": "code",
   "execution_count": 98,
   "id": "4f5f6bc3",
   "metadata": {},
   "outputs": [
    {
     "name": "stdout",
     "output_type": "stream",
     "text": [
      "([1, 2], ['hii', 'pushpak'], [4.5, 6.7])\n"
     ]
    }
   ],
   "source": [
    "def filterate(li):\n",
    "    ints = []\n",
    "    strings = []\n",
    "    floats = []\n",
    "    \n",
    "    for i in li:\n",
    "        if isinstance(i,int):\n",
    "            ints.append(i)\n",
    "        \n",
    "        if isinstance(i,str):\n",
    "            strings.append(i)\n",
    "        \n",
    "        if isinstance(i,float):\n",
    "            floats.append(i)\n",
    "    \n",
    "    return ints,strings,floats\n",
    "\n",
    "print(filterate([1,2,4.5,6.7,'hii','pushpak']))"
   ]
  },
  {
   "cell_type": "markdown",
   "id": "0c3614ab",
   "metadata": {},
   "source": [
    "### Assignment 15: Function with State\n",
    "\n",
    "Define a function that maintains state between calls using a mutable default argument. The function should keep track of how many times it has been called. Test by calling the function multiple times."
   ]
  },
  {
   "cell_type": "code",
   "execution_count": 100,
   "id": "77f28cc7",
   "metadata": {},
   "outputs": [
    {
     "name": "stdout",
     "output_type": "stream",
     "text": [
      "1\n",
      "2\n",
      "3\n"
     ]
    }
   ],
   "source": [
    "def call_me(count={'counter':0}):\n",
    "    count['counter']+=1\n",
    "    return count['counter']\n",
    "\n",
    "print(call_me())\n",
    "print(call_me())\n",
    "print(call_me())"
   ]
  },
  {
   "cell_type": "markdown",
   "id": "c28c5988",
   "metadata": {},
   "source": []
  }
 ],
 "metadata": {
  "kernelspec": {
   "display_name": "Python 3",
   "language": "python",
   "name": "python3"
  },
  "language_info": {
   "codemirror_mode": {
    "name": "ipython",
    "version": 3
   },
   "file_extension": ".py",
   "mimetype": "text/x-python",
   "name": "python",
   "nbconvert_exporter": "python",
   "pygments_lexer": "ipython3",
   "version": "3.10.0"
  }
 },
 "nbformat": 4,
 "nbformat_minor": 5
}
