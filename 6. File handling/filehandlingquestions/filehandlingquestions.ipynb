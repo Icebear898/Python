{
 "cells": [
  {
   "cell_type": "markdown",
   "metadata": {},
   "source": [
    "# Module: File Handling Assignments\n",
    "## Lesson: File Handling and Operations\n",
    "### Assignment 1: Reading a File\n",
    "\n",
    "Write a function that reads the contents of a file named `sample.txt` and prints each line.\n",
    "\n",
    "### Assignment 2: Writing to a File\n",
    "\n",
    "Write a function that writes a list of strings to a file named `output.txt`, with each string on a new line.\n",
    "\n",
    "### Assignment 3: Copying a File\n",
    "\n",
    "Write a function that copies the contents of a file named `source.txt` to a new file named `destination.txt`.\n",
    "\n",
    "### Assignment 4: Appending to a File\n",
    "\n",
    "Write a function that appends a given string to the end of a file named `log.txt`.\n",
    "\n",
    "### Assignment 5: Counting Words in a File\n",
    "\n",
    "Write a function that reads the contents of a file named `document.txt` and returns the number of words in the file.\n",
    "\n",
    "### Assignment 6: Finding and Replacing Text\n",
    "\n",
    "Write a function that finds and replaces all occurrences of a given word in a file named `data.txt` with another word.\n",
    "\n",
    "### Assignment 7: Reading a File in Reverse\n",
    "\n",
    "Write a function that reads the contents of a file named `reverse.txt` and prints each line in reverse order.\n",
    "\n",
    "### Assignment 8: Counting Lines, Words, and Characters\n",
    "\n",
    "Write a function that reads the contents of a file named `stats.txt` and returns the number of lines, words, and characters in the file.\n",
    "\n",
    "### Assignment 9: Merging Multiple Files\n",
    "\n",
    "Write a function that merges the contents of multiple files into a single file named `merged.txt`.\n",
    "\n",
    "### Assignment 10: Splitting a Large File\n",
    "\n",
    "Write a function that splits a large file named `large.txt` into smaller files of 100 lines each.\n",
    "\n",
    "### Assignment 11: Creating a Log File\n",
    "\n",
    "Write a function that creates a log file named `activity.log` and writes log messages with timestamps.\n",
    "\n",
    "### Assignment 12: Binary File Operations\n",
    "\n",
    "Write a function that reads a binary file named `image.bin` and writes its contents to another binary file named `copy_image.bin`.\n",
    "\n",
    "### Assignment 13: CSV File Operations\n",
    "\n",
    "Write a function that reads a CSV file named `data.csv` and prints its contents as a list of dictionaries.\n",
    "\n",
    "### Assignment 14: JSON File Operations\n",
    "\n",
    "Write a function that reads a JSON file named `data.json` and prints its contents as a Python dictionary.\n",
    "\n",
    "### Assignment 15: File Permission Handling\n",
    "\n",
    "Write a function that attempts to read a file named `protected.txt` and handles any permission errors gracefully by printing an error message."
   ]
  },
  {
   "cell_type": "markdown",
   "id": "64802a4d",
   "metadata": {},
   "source": [
    "### Assignment 1: Reading a File\n",
    "\n",
    "Write a function that reads the contents of a file named `sample.txt` and prints each line."
   ]
  },
  {
   "cell_type": "code",
   "execution_count": 5,
   "metadata": {},
   "outputs": [
    {
     "name": "stdout",
     "output_type": "stream",
     "text": [
      "Hello Everyone\n",
      "My name is Pushpak\n",
      "None\n"
     ]
    }
   ],
   "source": [
    "def readfile(filename):\n",
    "    with open(filename,'r') as file:\n",
    "        for line in file:\n",
    "            print(line.strip())\n",
    "    \n",
    "        \n",
    "print(readfile('sample.txt'))"
   ]
  },
  {
   "cell_type": "markdown",
   "id": "e2429bc2",
   "metadata": {},
   "source": [
    "### Assignment 2: Writing to a File\n",
    "\n",
    "Write a function that writes a list of strings to a file named `output.txt`, with each string on a new line."
   ]
  },
  {
   "cell_type": "code",
   "execution_count": 9,
   "id": "8a93d149",
   "metadata": {},
   "outputs": [
    {
     "name": "stdout",
     "output_type": "stream",
     "text": [
      "None\n"
     ]
    }
   ],
   "source": [
    "def wrtlist(lines,filename):\n",
    "    with open(filename,'w') as file:\n",
    "        for line in lines:\n",
    "            file.write(line+'\\n')\n",
    "            \n",
    "            \n",
    "print(wrtlist(['hello', 'my', 'name', 'is', 'panda'], 'output.txt'))"
   ]
  },
  {
   "cell_type": "markdown",
   "id": "0968957f",
   "metadata": {},
   "source": [
    "### Assignment 3: Copying a File\n",
    "\n",
    "Write a function that copies the contents of a file named `source.txt` to a new file named `destination.txt`."
   ]
  },
  {
   "cell_type": "code",
   "execution_count": 10,
   "id": "51d52cb9",
   "metadata": {},
   "outputs": [
    {
     "name": "stdout",
     "output_type": "stream",
     "text": [
      "['Hello Everyone\\n', 'My name is Pushpak']\n",
      "None\n"
     ]
    }
   ],
   "source": [
    "def hello(file1):\n",
    "    with open(file1,'r') as file:\n",
    "        li = [line for line in file]\n",
    "        print(li)\n",
    "        \n",
    "print(hello('sample.txt'))"
   ]
  },
  {
   "cell_type": "code",
   "execution_count": null,
   "id": "aa89c982",
   "metadata": {},
   "outputs": [],
   "source": [
    "def copy_file(source, destination):\n",
    "    with open(source, 'r') as src:\n",
    "        with open(destination, 'w') as dest:\n",
    "            dest.write(src.read())"
   ]
  },
  {
   "cell_type": "code",
   "execution_count": 12,
   "id": "631c62bf",
   "metadata": {},
   "outputs": [
    {
     "name": "stdout",
     "output_type": "stream",
     "text": [
      "None\n"
     ]
    }
   ],
   "source": [
    "def copy(file1,file2):\n",
    "    with open(file1,'r') as file:\n",
    "        li = [line for line in file]\n",
    "    \n",
    "    with open(file2,'w') as file:\n",
    "        for i in li:\n",
    "            file.write(i)\n",
    "        \n",
    "print(copy('sample.txt','copy.txt'))"
   ]
  },
  {
   "cell_type": "markdown",
   "id": "a5a39e66",
   "metadata": {},
   "source": [
    "### Assignment 4: Appending to a File\n",
    "\n",
    "Write a function that appends a given string to the end of a file named `log.txt`.\n"
   ]
  },
  {
   "cell_type": "code",
   "execution_count": 16,
   "id": "c1d6f90e",
   "metadata": {},
   "outputs": [
    {
     "name": "stdout",
     "output_type": "stream",
     "text": [
      "None\n"
     ]
    }
   ],
   "source": [
    "def add(content):\n",
    "    with open('log.txt','a') as file:\n",
    "        file.write(content+'\\n')\n",
    "        \n",
    "i = input('Enter Your name: ')\n",
    "print(add(i))"
   ]
  },
  {
   "cell_type": "markdown",
   "id": "9f5444e5",
   "metadata": {},
   "source": [
    "### Assignment 5: Counting Words in a File\n",
    "\n",
    "Write a function that reads the contents of a file named `document.txt` and returns the number of words in the file."
   ]
  },
  {
   "cell_type": "code",
   "execution_count": 22,
   "id": "e61ed109",
   "metadata": {},
   "outputs": [
    {
     "name": "stdout",
     "output_type": "stream",
     "text": [
      "{'Hello': 1, 'World!': 1, 'this': 1, 'is': 1, 'a': 1, 'new': 1, 'line.Append': 1, 'operation': 1, 'taking': 1, 'place!': 1, 'First': 1, 'line': 3, 'Second': 1, 'Third': 1}\n"
     ]
    }
   ],
   "source": [
    "def readfile2(filename):\n",
    "    with open(filename,'r') as file:\n",
    "        dict={}\n",
    "        for line in file:\n",
    "            wordo = line.split()\n",
    "            for word in wordo:\n",
    "                if word in dict:\n",
    "                    dict[word]+=1\n",
    "                else:\n",
    "                    dict[word]=1\n",
    "                    \n",
    "    return dict \n",
    "\n",
    "print(readfile2('destination.txt'))"
   ]
  },
  {
   "cell_type": "code",
   "execution_count": 24,
   "id": "37a54ca5",
   "metadata": {},
   "outputs": [
    {
     "name": "stdout",
     "output_type": "stream",
     "text": [
      "16\n"
     ]
    }
   ],
   "source": [
    "def count_words(filename):\n",
    "    with open(filename, 'r') as file:\n",
    "        text = file.read()\n",
    "        words = text.split()\n",
    "        return len(words)\n",
    "\n",
    "print(count_words('destination.txt'))"
   ]
  },
  {
   "cell_type": "markdown",
   "id": "0ed8cbb1",
   "metadata": {},
   "source": [
    "### Assignment 6: Finding and Replacing Text\n",
    "\n",
    "Write a function that finds and replaces all occurrences of a given word in a file named `data.txt` with another word."
   ]
  },
  {
   "cell_type": "code",
   "execution_count": 26,
   "id": "a931d658",
   "metadata": {},
   "outputs": [
    {
     "name": "stdout",
     "output_type": "stream",
     "text": [
      "words has been sucessfully changed\n"
     ]
    }
   ],
   "source": [
    "def replacewords(filename,x,y):\n",
    "    with open(filename,'r') as file:\n",
    "        content = file.read()\n",
    "        replaced_content = content.replace(x,y)\n",
    "    \n",
    "    with open(filename,'w') as file:\n",
    "        file.write(replaced_content)\n",
    "        \n",
    "    return 'words has been sucessfully changed'\n",
    "\n",
    "print(replacewords('destination.txt','World','Pushpak'))"
   ]
  },
  {
   "cell_type": "code",
   "execution_count": null,
   "id": "70e4e452",
   "metadata": {},
   "outputs": [],
   "source": []
  }
 ],
 "metadata": {
  "kernelspec": {
   "display_name": "Python 3",
   "language": "python",
   "name": "python3"
  },
  "language_info": {
   "codemirror_mode": {
    "name": "ipython",
    "version": 3
   },
   "file_extension": ".py",
   "mimetype": "text/x-python",
   "name": "python",
   "nbconvert_exporter": "python",
   "pygments_lexer": "ipython3",
   "version": "3.8.10"
  }
 },
 "nbformat": 4,
 "nbformat_minor": 5
}
